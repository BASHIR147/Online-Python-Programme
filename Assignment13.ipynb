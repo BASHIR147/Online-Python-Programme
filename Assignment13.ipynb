{
 "cells": [
  {
   "cell_type": "markdown",
   "id": "2fca58d3-62c2-4219-9860-588be5acb4fc",
   "metadata": {},
   "source": [
    "Q1: Drop rows where EmployeeName and JobTitle are 'Not provided'"
   ]
  },
  {
   "cell_type": "code",
   "execution_count": 16,
   "id": "0b64bc34-27e4-49d9-9990-040ca0854253",
   "metadata": {},
   "outputs": [
    {
     "name": "stdout",
     "output_type": "stream",
     "text": [
      "   Id       EmployeeName                                        JobTitle  \\\n",
      "0   1     NATHANIEL FORD  GENERAL MANAGER-METROPOLITAN TRANSIT AUTHORITY   \n",
      "1   2       GARY JIMENEZ                 CAPTAIN III (POLICE DEPARTMENT)   \n",
      "2   3     ALBERT PARDINI                 CAPTAIN III (POLICE DEPARTMENT)   \n",
      "3   4  CHRISTOPHER CHONG            WIRE ROPE CABLE MAINTENANCE MECHANIC   \n",
      "4   5    PATRICK GARDNER    DEPUTY CHIEF OF DEPARTMENT,(FIRE DEPARTMENT)   \n",
      "\n",
      "     BasePay OvertimePay   OtherPay Benefits   TotalPay  TotalPayBenefits  \\\n",
      "0  167411.18           0  400184.25      NaN  567595.43         567595.43   \n",
      "1  155966.02   245131.88  137811.38      NaN  538909.28         538909.28   \n",
      "2  212739.13   106088.18    16452.6      NaN  335279.91         335279.91   \n",
      "3      77916    56120.71   198306.9      NaN  332343.61         332343.61   \n",
      "4   134401.6        9737  182234.59      NaN  326373.19         326373.19   \n",
      "\n",
      "   Year  Notes         Agency Status  \n",
      "0  2011    NaN  San Francisco    NaN  \n",
      "1  2011    NaN  San Francisco    NaN  \n",
      "2  2011    NaN  San Francisco    NaN  \n",
      "3  2011    NaN  San Francisco    NaN  \n",
      "4  2011    NaN  San Francisco    NaN  \n"
     ]
    }
   ],
   "source": [
    "import pandas as pd\n",
    "\n",
    "df = pd.read_csv('Salaries - Salaries.csv', low_memory=False)\n",
    "df = df.query(\"EmployeeName != 'Not provided' or JobTitle != 'Not provided'\")\n",
    "\n",
    "print(df.head())"
   ]
  },
  {
   "cell_type": "markdown",
   "id": "63db7ac4-bc9e-4e3d-b949-60ec836b9f59",
   "metadata": {},
   "source": [
    "Q2: Replace 'Not Provided' with 0 in BasePay OvertimePay\tOtherPay\tBenefits"
   ]
  },
  {
   "cell_type": "code",
   "execution_count": 18,
   "id": "a0eb0229-3dbf-4d00-842a-e595d783cfe1",
   "metadata": {},
   "outputs": [
    {
     "name": "stdout",
     "output_type": "stream",
     "text": [
      "     BasePay OvertimePay   OtherPay Benefits\n",
      "0  167411.18           0  400184.25      NaN\n",
      "1  155966.02   245131.88  137811.38      NaN\n",
      "2  212739.13   106088.18    16452.6      NaN\n",
      "3      77916    56120.71   198306.9      NaN\n",
      "4   134401.6        9737  182234.59      NaN\n"
     ]
    }
   ],
   "source": [
    "import pandas as pd\n",
    "df = pd.read_csv('Salaries - Salaries.csv', low_memory=False)\n",
    "df.replace('Not Provided', 0, inplace=True)\n",
    "print(df[['BasePay', 'OvertimePay', 'OtherPay', 'Benefits']].head())"
   ]
  },
  {
   "cell_type": "markdown",
   "id": "2f1d18da-e0dd-4160-8f17-d840fe1fdbbc",
   "metadata": {},
   "source": [
    "Q3:Change BasePay\tOvertimePay\tOtherPay\tBenefits type to float "
   ]
  },
  {
   "cell_type": "code",
   "execution_count": 20,
   "id": "bdb73c0b-82be-4f27-8110-145cced6ee9e",
   "metadata": {},
   "outputs": [
    {
     "data": {
      "text/plain": [
       "BasePay        float64\n",
       "OvertimePay    float64\n",
       "OtherPay       float64\n",
       "Benefits       float64\n",
       "dtype: object"
      ]
     },
     "execution_count": 20,
     "metadata": {},
     "output_type": "execute_result"
    }
   ],
   "source": [
    "import pandas as pd\n",
    "df = pd.read_csv('Salaries - Salaries.csv', low_memory=False)\n",
    "\n",
    "df[['BasePay','OvertimePay','OtherPay','Benefits']] = df[['BasePay','OvertimePay','OtherPay','Benefits']].replace('Not Provided', 0).astype(float)\n",
    "\n",
    "df[['BasePay','OvertimePay','OtherPay','Benefits']].dtypes"
   ]
  },
  {
   "cell_type": "markdown",
   "id": "bf38b446-e36f-4e57-a8d0-e1ef1d78b214",
   "metadata": {},
   "source": [
    "Q 4: Display all employees name and basepay columns who have a BasePay greater than 200,000."
   ]
  },
  {
   "cell_type": "code",
   "execution_count": 22,
   "id": "ae86d705-6580-403f-bdb7-e65c95e656ff",
   "metadata": {},
   "outputs": [
    {
     "data": {
      "text/html": [
       "<div>\n",
       "<style scoped>\n",
       "    .dataframe tbody tr th:only-of-type {\n",
       "        vertical-align: middle;\n",
       "    }\n",
       "\n",
       "    .dataframe tbody tr th {\n",
       "        vertical-align: top;\n",
       "    }\n",
       "\n",
       "    .dataframe thead th {\n",
       "        text-align: right;\n",
       "    }\n",
       "</style>\n",
       "<table border=\"1\" class=\"dataframe\">\n",
       "  <thead>\n",
       "    <tr style=\"text-align: right;\">\n",
       "      <th></th>\n",
       "      <th>EmployeeName</th>\n",
       "      <th>BasePay</th>\n",
       "    </tr>\n",
       "  </thead>\n",
       "  <tbody>\n",
       "    <tr>\n",
       "      <th>2</th>\n",
       "      <td>ALBERT PARDINI</td>\n",
       "      <td>212739.13</td>\n",
       "    </tr>\n",
       "    <tr>\n",
       "      <th>7</th>\n",
       "      <td>DAVID KUSHNER</td>\n",
       "      <td>256576.96</td>\n",
       "    </tr>\n",
       "    <tr>\n",
       "      <th>9</th>\n",
       "      <td>JOANNE HAYES-WHITE</td>\n",
       "      <td>285262.00</td>\n",
       "    </tr>\n",
       "    <tr>\n",
       "      <th>12</th>\n",
       "      <td>EDWARD HARRINGTON</td>\n",
       "      <td>294580.02</td>\n",
       "    </tr>\n",
       "    <tr>\n",
       "      <th>13</th>\n",
       "      <td>JOHN MARTIN</td>\n",
       "      <td>271329.03</td>\n",
       "    </tr>\n",
       "    <tr>\n",
       "      <th>...</th>\n",
       "      <td>...</td>\n",
       "      <td>...</td>\n",
       "    </tr>\n",
       "    <tr>\n",
       "      <th>110953</th>\n",
       "      <td>Ronald P Flynn</td>\n",
       "      <td>201296.01</td>\n",
       "    </tr>\n",
       "    <tr>\n",
       "      <th>110954</th>\n",
       "      <td>Sheryl L Bregman</td>\n",
       "      <td>201296.00</td>\n",
       "    </tr>\n",
       "    <tr>\n",
       "      <th>110976</th>\n",
       "      <td>Susan T Obata</td>\n",
       "      <td>202445.22</td>\n",
       "    </tr>\n",
       "    <tr>\n",
       "      <th>110977</th>\n",
       "      <td>John O Funghi</td>\n",
       "      <td>201181.01</td>\n",
       "    </tr>\n",
       "    <tr>\n",
       "      <th>111107</th>\n",
       "      <td>Mayra T Vivas</td>\n",
       "      <td>205036.00</td>\n",
       "    </tr>\n",
       "  </tbody>\n",
       "</table>\n",
       "<p>509 rows × 2 columns</p>\n",
       "</div>"
      ],
      "text/plain": [
       "              EmployeeName    BasePay\n",
       "2           ALBERT PARDINI  212739.13\n",
       "7            DAVID KUSHNER  256576.96\n",
       "9       JOANNE HAYES-WHITE  285262.00\n",
       "12       EDWARD HARRINGTON  294580.02\n",
       "13             JOHN MARTIN  271329.03\n",
       "...                    ...        ...\n",
       "110953      Ronald P Flynn  201296.01\n",
       "110954    Sheryl L Bregman  201296.00\n",
       "110976       Susan T Obata  202445.22\n",
       "110977       John O Funghi  201181.01\n",
       "111107       Mayra T Vivas  205036.00\n",
       "\n",
       "[509 rows x 2 columns]"
      ]
     },
     "execution_count": 22,
     "metadata": {},
     "output_type": "execute_result"
    }
   ],
   "source": [
    "import pandas as pd\n",
    "df = pd.read_csv('Salaries - Salaries.csv', low_memory=False)\n",
    "\n",
    "df['BasePay'] = df['BasePay'].replace('Not Provided', 0).astype(float)\n",
    "df[df['BasePay'] > 200000][['EmployeeName', 'BasePay']]"
   ]
  },
  {
   "cell_type": "markdown",
   "id": "a4d6a754-7aa4-4f97-bd10-f0624c4d7821",
   "metadata": {},
   "source": [
    "Q5: Find all employees whose JobTitle contains the word “Manager” (case = False)"
   ]
  },
  {
   "cell_type": "code",
   "execution_count": 23,
   "id": "73b0bf74-dc01-4cf8-83a2-8849ebe4bc6c",
   "metadata": {},
   "outputs": [
    {
     "data": {
      "text/html": [
       "<div>\n",
       "<style scoped>\n",
       "    .dataframe tbody tr th:only-of-type {\n",
       "        vertical-align: middle;\n",
       "    }\n",
       "\n",
       "    .dataframe tbody tr th {\n",
       "        vertical-align: top;\n",
       "    }\n",
       "\n",
       "    .dataframe thead th {\n",
       "        text-align: right;\n",
       "    }\n",
       "</style>\n",
       "<table border=\"1\" class=\"dataframe\">\n",
       "  <thead>\n",
       "    <tr style=\"text-align: right;\">\n",
       "      <th></th>\n",
       "      <th>EmployeeName</th>\n",
       "      <th>JobTitle</th>\n",
       "    </tr>\n",
       "  </thead>\n",
       "  <tbody>\n",
       "    <tr>\n",
       "      <th>0</th>\n",
       "      <td>NATHANIEL FORD</td>\n",
       "      <td>GENERAL MANAGER-METROPOLITAN TRANSIT AUTHORITY</td>\n",
       "    </tr>\n",
       "    <tr>\n",
       "      <th>83</th>\n",
       "      <td>EDWARD REISKIN</td>\n",
       "      <td>GENERAL MANAGER-METROPOLITAN TRANSIT AUTHORITY</td>\n",
       "    </tr>\n",
       "    <tr>\n",
       "      <th>87</th>\n",
       "      <td>KEVIN BARRY</td>\n",
       "      <td>MANAGER VII</td>\n",
       "    </tr>\n",
       "    <tr>\n",
       "      <th>95</th>\n",
       "      <td>MIVIC HIROSE</td>\n",
       "      <td>MANAGER VIII</td>\n",
       "    </tr>\n",
       "    <tr>\n",
       "      <th>162</th>\n",
       "      <td>JULIE LABONTE</td>\n",
       "      <td>MANAGER VIII</td>\n",
       "    </tr>\n",
       "    <tr>\n",
       "      <th>...</th>\n",
       "      <td>...</td>\n",
       "      <td>...</td>\n",
       "    </tr>\n",
       "    <tr>\n",
       "      <th>147216</th>\n",
       "      <td>Steven D Koneffklatt</td>\n",
       "      <td>Manager III</td>\n",
       "    </tr>\n",
       "    <tr>\n",
       "      <th>147502</th>\n",
       "      <td>Alice B Villagomez</td>\n",
       "      <td>Manager IV</td>\n",
       "    </tr>\n",
       "    <tr>\n",
       "      <th>147805</th>\n",
       "      <td>Stephen C Laplante</td>\n",
       "      <td>Manager II</td>\n",
       "    </tr>\n",
       "    <tr>\n",
       "      <th>148150</th>\n",
       "      <td>Shirley M Parker</td>\n",
       "      <td>Real Property Manager</td>\n",
       "    </tr>\n",
       "    <tr>\n",
       "      <th>148475</th>\n",
       "      <td>James P Horan</td>\n",
       "      <td>Manager IV</td>\n",
       "    </tr>\n",
       "  </tbody>\n",
       "</table>\n",
       "<p>4110 rows × 2 columns</p>\n",
       "</div>"
      ],
      "text/plain": [
       "                EmployeeName                                        JobTitle\n",
       "0             NATHANIEL FORD  GENERAL MANAGER-METROPOLITAN TRANSIT AUTHORITY\n",
       "83            EDWARD REISKIN  GENERAL MANAGER-METROPOLITAN TRANSIT AUTHORITY\n",
       "87               KEVIN BARRY                                     MANAGER VII\n",
       "95              MIVIC HIROSE                                    MANAGER VIII\n",
       "162            JULIE LABONTE                                    MANAGER VIII\n",
       "...                      ...                                             ...\n",
       "147216  Steven D Koneffklatt                                     Manager III\n",
       "147502    Alice B Villagomez                                      Manager IV\n",
       "147805    Stephen C Laplante                                      Manager II\n",
       "148150      Shirley M Parker                           Real Property Manager\n",
       "148475         James P Horan                                      Manager IV\n",
       "\n",
       "[4110 rows x 2 columns]"
      ]
     },
     "execution_count": 23,
     "metadata": {},
     "output_type": "execute_result"
    }
   ],
   "source": [
    "import pandas as pd\n",
    "df = pd.read_csv('Salaries - Salaries.csv', low_memory=False)\n",
    "\n",
    "df[df['JobTitle'].str.contains('Manager', case=False)][['EmployeeName', 'JobTitle']]"
   ]
  },
  {
   "cell_type": "markdown",
   "id": "dacfbacb-4884-4f5a-9825-73f9b4319053",
   "metadata": {},
   "source": [
    "Q6: Retrieve only the columns: EmployeeName, JobTitle, and TotalPay."
   ]
  },
  {
   "cell_type": "code",
   "execution_count": 24,
   "id": "447cf16c-9aeb-4595-bfc9-16f02deabf97",
   "metadata": {},
   "outputs": [
    {
     "data": {
      "text/html": [
       "<div>\n",
       "<style scoped>\n",
       "    .dataframe tbody tr th:only-of-type {\n",
       "        vertical-align: middle;\n",
       "    }\n",
       "\n",
       "    .dataframe tbody tr th {\n",
       "        vertical-align: top;\n",
       "    }\n",
       "\n",
       "    .dataframe thead th {\n",
       "        text-align: right;\n",
       "    }\n",
       "</style>\n",
       "<table border=\"1\" class=\"dataframe\">\n",
       "  <thead>\n",
       "    <tr style=\"text-align: right;\">\n",
       "      <th></th>\n",
       "      <th>EmployeeName</th>\n",
       "      <th>JobTitle</th>\n",
       "      <th>TotalPay</th>\n",
       "    </tr>\n",
       "  </thead>\n",
       "  <tbody>\n",
       "    <tr>\n",
       "      <th>0</th>\n",
       "      <td>NATHANIEL FORD</td>\n",
       "      <td>GENERAL MANAGER-METROPOLITAN TRANSIT AUTHORITY</td>\n",
       "      <td>567595.43</td>\n",
       "    </tr>\n",
       "    <tr>\n",
       "      <th>1</th>\n",
       "      <td>GARY JIMENEZ</td>\n",
       "      <td>CAPTAIN III (POLICE DEPARTMENT)</td>\n",
       "      <td>538909.28</td>\n",
       "    </tr>\n",
       "    <tr>\n",
       "      <th>2</th>\n",
       "      <td>ALBERT PARDINI</td>\n",
       "      <td>CAPTAIN III (POLICE DEPARTMENT)</td>\n",
       "      <td>335279.91</td>\n",
       "    </tr>\n",
       "    <tr>\n",
       "      <th>3</th>\n",
       "      <td>CHRISTOPHER CHONG</td>\n",
       "      <td>WIRE ROPE CABLE MAINTENANCE MECHANIC</td>\n",
       "      <td>332343.61</td>\n",
       "    </tr>\n",
       "    <tr>\n",
       "      <th>4</th>\n",
       "      <td>PATRICK GARDNER</td>\n",
       "      <td>DEPUTY CHIEF OF DEPARTMENT,(FIRE DEPARTMENT)</td>\n",
       "      <td>326373.19</td>\n",
       "    </tr>\n",
       "    <tr>\n",
       "      <th>...</th>\n",
       "      <td>...</td>\n",
       "      <td>...</td>\n",
       "      <td>...</td>\n",
       "    </tr>\n",
       "    <tr>\n",
       "      <th>148649</th>\n",
       "      <td>Roy I Tillery</td>\n",
       "      <td>Custodian</td>\n",
       "      <td>0.00</td>\n",
       "    </tr>\n",
       "    <tr>\n",
       "      <th>148650</th>\n",
       "      <td>Not provided</td>\n",
       "      <td>Not provided</td>\n",
       "      <td>0.00</td>\n",
       "    </tr>\n",
       "    <tr>\n",
       "      <th>148651</th>\n",
       "      <td>Not provided</td>\n",
       "      <td>Not provided</td>\n",
       "      <td>0.00</td>\n",
       "    </tr>\n",
       "    <tr>\n",
       "      <th>148652</th>\n",
       "      <td>Not provided</td>\n",
       "      <td>Not provided</td>\n",
       "      <td>0.00</td>\n",
       "    </tr>\n",
       "    <tr>\n",
       "      <th>148653</th>\n",
       "      <td>Joe Lopez</td>\n",
       "      <td>Counselor, Log Cabin Ranch</td>\n",
       "      <td>-618.13</td>\n",
       "    </tr>\n",
       "  </tbody>\n",
       "</table>\n",
       "<p>148654 rows × 3 columns</p>\n",
       "</div>"
      ],
      "text/plain": [
       "             EmployeeName                                        JobTitle  \\\n",
       "0          NATHANIEL FORD  GENERAL MANAGER-METROPOLITAN TRANSIT AUTHORITY   \n",
       "1            GARY JIMENEZ                 CAPTAIN III (POLICE DEPARTMENT)   \n",
       "2          ALBERT PARDINI                 CAPTAIN III (POLICE DEPARTMENT)   \n",
       "3       CHRISTOPHER CHONG            WIRE ROPE CABLE MAINTENANCE MECHANIC   \n",
       "4         PATRICK GARDNER    DEPUTY CHIEF OF DEPARTMENT,(FIRE DEPARTMENT)   \n",
       "...                   ...                                             ...   \n",
       "148649      Roy I Tillery                                       Custodian   \n",
       "148650       Not provided                                    Not provided   \n",
       "148651       Not provided                                    Not provided   \n",
       "148652       Not provided                                    Not provided   \n",
       "148653          Joe Lopez                      Counselor, Log Cabin Ranch   \n",
       "\n",
       "         TotalPay  \n",
       "0       567595.43  \n",
       "1       538909.28  \n",
       "2       335279.91  \n",
       "3       332343.61  \n",
       "4       326373.19  \n",
       "...           ...  \n",
       "148649       0.00  \n",
       "148650       0.00  \n",
       "148651       0.00  \n",
       "148652       0.00  \n",
       "148653    -618.13  \n",
       "\n",
       "[148654 rows x 3 columns]"
      ]
     },
     "execution_count": 24,
     "metadata": {},
     "output_type": "execute_result"
    }
   ],
   "source": [
    "import pandas as pd\n",
    "df = pd.read_csv('Salaries - Salaries.csv', low_memory=False)\n",
    "\n",
    "df[['EmployeeName', 'JobTitle', 'TotalPay']]"
   ]
  },
  {
   "cell_type": "markdown",
   "id": "4d85b7dc-3cde-47d7-8808-8a037de8a8fb",
   "metadata": {},
   "source": [
    "Q7: Find count of employees who have zero OvertimePay."
   ]
  },
  {
   "cell_type": "code",
   "execution_count": 26,
   "id": "31a22c7d-eb6a-4547-9001-45c38d750ea0",
   "metadata": {},
   "outputs": [
    {
     "data": {
      "text/plain": [
       "77325"
      ]
     },
     "execution_count": 26,
     "metadata": {},
     "output_type": "execute_result"
    }
   ],
   "source": [
    "import pandas as pd\n",
    "df = pd.read_csv('Salaries - Salaries.csv', low_memory=False)\n",
    "\n",
    "df['OvertimePay'] = pd.to_numeric(df['OvertimePay'], errors='coerce').fillna(0)\n",
    "(df['OvertimePay'] == 0).sum()"
   ]
  },
  {
   "cell_type": "markdown",
   "id": "547d0284-01bc-4874-aa6a-ec1f03350bd2",
   "metadata": {},
   "source": [
    "Q8: Calculate the TotalPay for each JobTitle where totalpay > 300000"
   ]
  },
  {
   "cell_type": "code",
   "execution_count": 27,
   "id": "7fd7509e-e4b7-47ec-a72e-1eabcf259fb1",
   "metadata": {},
   "outputs": [
    {
     "data": {
      "text/plain": [
       "JobTitle\n",
       "ASSISTANT DEPUTY CHIEF II                          316285.74\n",
       "Assistant Deputy Chief 2                           654066.15\n",
       "Asst Chf of Dept (Fire Dept)                      1303828.26\n",
       "Asst Med Examiner                                 1069837.40\n",
       "BATTALION CHIEF, (FIRE DEPARTMENT)                 619408.60\n",
       "Battalion Chief, Fire Suppress                    2845960.11\n",
       "Battlion Chief, Fire Suppressi                    1266054.40\n",
       "CAPTAIN III (POLICE DEPARTMENT)                    874189.19\n",
       "CHIEF OF DEPARTMENT, (FIRE DEPARTMENT)             302377.73\n",
       "Captain 3                                         1274613.48\n",
       "Captain, Fire Suppression                          610671.88\n",
       "Chief Investment Officer                           339653.70\n",
       "Chief of Police                                    987550.94\n",
       "Chief, Fire Department                             977915.05\n",
       "Commander 3                                        322143.10\n",
       "DEPUTY CHIEF OF DEPARTMENT,(FIRE DEPARTMENT)       326373.19\n",
       "DEPUTY DIRECTOR OF INVESTMENTS                     307899.46\n",
       "Dep Dir for Investments, Ret                       315572.01\n",
       "Dept Head V                                        927825.30\n",
       "Deputy Chief 3                                     471952.64\n",
       "Deputy Sheriff                                     308434.84\n",
       "EMT/Paramedic/Firefighter                          337204.86\n",
       "Electronic Maintenance Tech                        336393.73\n",
       "Executive Contract Employee                        623473.54\n",
       "GENERAL MANAGER-METROPOLITAN TRANSIT AUTHORITY     567595.43\n",
       "Gen Mgr, Public Trnsp Dept                         305307.89\n",
       "Lieutenant, Fire Suppression                       683220.45\n",
       "Senior Physician Specialist                        634537.20\n",
       "WIRE ROPE CABLE MAINTENANCE MECHANIC               332343.61\n",
       "Name: TotalPay, dtype: float64"
      ]
     },
     "execution_count": 27,
     "metadata": {},
     "output_type": "execute_result"
    }
   ],
   "source": [
    "import pandas as pd\n",
    "df = pd.read_csv('Salaries - Salaries.csv', low_memory=False)\n",
    "\n",
    "df['TotalPay'] = pd.to_numeric(df['TotalPay'], errors='coerce')\n",
    "df[df['TotalPay'] > 300000].groupby('JobTitle')['TotalPay'].sum()"
   ]
  },
  {
   "cell_type": "markdown",
   "id": "6800a5b5-ec93-4155-94db-d41135bd25e2",
   "metadata": {},
   "source": [
    "Q9: Find the top 5 JobTitles with the highest average TotalPayBenefits show in descending order"
   ]
  },
  {
   "cell_type": "code",
   "execution_count": 28,
   "id": "02343a2a-bd80-4453-9976-cc56f157f5fc",
   "metadata": {},
   "outputs": [
    {
     "data": {
      "text/plain": [
       "JobTitle\n",
       "Chief Investment Officer                          436224.360000\n",
       "Chief of Police                                   411732.266667\n",
       "Chief, Fire Department                            408865.326667\n",
       "GENERAL MANAGER-METROPOLITAN TRANSIT AUTHORITY    399211.275000\n",
       "Gen Mgr, Public Trnsp Dept                        380696.440000\n",
       "Name: TotalPayBenefits, dtype: float64"
      ]
     },
     "execution_count": 28,
     "metadata": {},
     "output_type": "execute_result"
    }
   ],
   "source": [
    "import pandas as pd\n",
    "df = pd.read_csv('Salaries - Salaries.csv', low_memory=False)\n",
    "\n",
    "df['TotalPayBenefits'] = pd.to_numeric(df['TotalPayBenefits'], errors='coerce')\n",
    "df.groupby('JobTitle')['TotalPayBenefits'].mean().sort_values(ascending=False).head(5)"
   ]
  },
  {
   "cell_type": "markdown",
   "id": "3318e63b-8ed5-4b43-be30-b352b9f36c81",
   "metadata": {},
   "source": [
    "Q10: Replace all missing Benefits values with 0"
   ]
  },
  {
   "cell_type": "code",
   "execution_count": 31,
   "id": "340b6272-5c06-4400-9e4a-6914d08f3af0",
   "metadata": {},
   "outputs": [
    {
     "data": {
      "text/html": [
       "<div>\n",
       "<style scoped>\n",
       "    .dataframe tbody tr th:only-of-type {\n",
       "        vertical-align: middle;\n",
       "    }\n",
       "\n",
       "    .dataframe tbody tr th {\n",
       "        vertical-align: top;\n",
       "    }\n",
       "\n",
       "    .dataframe thead th {\n",
       "        text-align: right;\n",
       "    }\n",
       "</style>\n",
       "<table border=\"1\" class=\"dataframe\">\n",
       "  <thead>\n",
       "    <tr style=\"text-align: right;\">\n",
       "      <th></th>\n",
       "      <th>EmployeeName</th>\n",
       "      <th>Benefits</th>\n",
       "    </tr>\n",
       "  </thead>\n",
       "  <tbody>\n",
       "    <tr>\n",
       "      <th>0</th>\n",
       "      <td>NATHANIEL FORD</td>\n",
       "      <td>0</td>\n",
       "    </tr>\n",
       "    <tr>\n",
       "      <th>1</th>\n",
       "      <td>GARY JIMENEZ</td>\n",
       "      <td>0</td>\n",
       "    </tr>\n",
       "    <tr>\n",
       "      <th>2</th>\n",
       "      <td>ALBERT PARDINI</td>\n",
       "      <td>0</td>\n",
       "    </tr>\n",
       "    <tr>\n",
       "      <th>3</th>\n",
       "      <td>CHRISTOPHER CHONG</td>\n",
       "      <td>0</td>\n",
       "    </tr>\n",
       "    <tr>\n",
       "      <th>4</th>\n",
       "      <td>PATRICK GARDNER</td>\n",
       "      <td>0</td>\n",
       "    </tr>\n",
       "  </tbody>\n",
       "</table>\n",
       "</div>"
      ],
      "text/plain": [
       "        EmployeeName Benefits\n",
       "0     NATHANIEL FORD        0\n",
       "1       GARY JIMENEZ        0\n",
       "2     ALBERT PARDINI        0\n",
       "3  CHRISTOPHER CHONG        0\n",
       "4    PATRICK GARDNER        0"
      ]
     },
     "execution_count": 31,
     "metadata": {},
     "output_type": "execute_result"
    }
   ],
   "source": [
    "import pandas as pd\n",
    "df = pd.read_csv('Salaries - Salaries.csv', low_memory=False)\n",
    "\n",
    "df['Benefits'] = df['Benefits'].fillna(0)\n",
    "\n",
    "df[['EmployeeName', 'Benefits']].head()   # SEE THE CHANGE!"
   ]
  },
  {
   "cell_type": "markdown",
   "id": "f50e6f4f-cb7d-40e9-8ab6-3c9f90b1a073",
   "metadata": {},
   "source": [
    "Q11: Identify the top employee name by TotalPay in each Year. Show year, employeename and totalpay dataframe"
   ]
  },
  {
   "cell_type": "code",
   "execution_count": 35,
   "id": "420415d4-7508-43a0-a7a4-17b551e3ee1e",
   "metadata": {},
   "outputs": [
    {
     "data": {
      "text/html": [
       "<div>\n",
       "<style scoped>\n",
       "    .dataframe tbody tr th:only-of-type {\n",
       "        vertical-align: middle;\n",
       "    }\n",
       "\n",
       "    .dataframe tbody tr th {\n",
       "        vertical-align: top;\n",
       "    }\n",
       "\n",
       "    .dataframe thead th {\n",
       "        text-align: right;\n",
       "    }\n",
       "</style>\n",
       "<table border=\"1\" class=\"dataframe\">\n",
       "  <thead>\n",
       "    <tr style=\"text-align: right;\">\n",
       "      <th></th>\n",
       "      <th>EmployeeName</th>\n",
       "      <th>TotalPay</th>\n",
       "    </tr>\n",
       "  </thead>\n",
       "  <tbody>\n",
       "    <tr>\n",
       "      <th>0</th>\n",
       "      <td>NATHANIEL FORD</td>\n",
       "      <td>567595.43</td>\n",
       "    </tr>\n",
       "    <tr>\n",
       "      <th>36159</th>\n",
       "      <td>Gary Altenberg</td>\n",
       "      <td>362844.66</td>\n",
       "    </tr>\n",
       "    <tr>\n",
       "      <th>72927</th>\n",
       "      <td>Samson  Lai</td>\n",
       "      <td>347102.32</td>\n",
       "    </tr>\n",
       "    <tr>\n",
       "      <th>110531</th>\n",
       "      <td>David Shinn</td>\n",
       "      <td>471952.64</td>\n",
       "    </tr>\n",
       "  </tbody>\n",
       "</table>\n",
       "</div>"
      ],
      "text/plain": [
       "          EmployeeName   TotalPay\n",
       "0       NATHANIEL FORD  567595.43\n",
       "36159   Gary Altenberg  362844.66\n",
       "72927      Samson  Lai  347102.32\n",
       "110531     David Shinn  471952.64"
      ]
     },
     "execution_count": 35,
     "metadata": {},
     "output_type": "execute_result"
    }
   ],
   "source": [
    "import pandas as pd\n",
    "import warnings\n",
    "warnings.filterwarnings('ignore')\n",
    "df = pd.read_csv('Salaries - Salaries.csv', low_memory=False)\n",
    "\n",
    "df['TotalPay'] = df['TotalPay'].astype(float)\n",
    "df.groupby('Year', group_keys=False).apply(lambda x: x.nlargest(1, 'TotalPay'))[['EmployeeName', 'TotalPay']]"
   ]
  },
  {
   "cell_type": "markdown",
   "id": "6f0139fd-4696-4a3c-87c3-9efda7d55b2b",
   "metadata": {},
   "source": [
    "Q12: Find the number of employees per JobTitle."
   ]
  },
  {
   "cell_type": "code",
   "execution_count": 36,
   "id": "f6bde630-8fc4-40eb-bfe0-b0a6f7684c6f",
   "metadata": {},
   "outputs": [
    {
     "data": {
      "text/plain": [
       "JobTitle\n",
       "Transit Operator                                  7036\n",
       "Special Nurse                                     4389\n",
       "Registered Nurse                                  3736\n",
       "Public Svc Aide-Public Works                      2518\n",
       "Police Officer 3                                  2421\n",
       "                                                  ... \n",
       "CHIEF HOUSING INSPECTOR                              1\n",
       "TRAFFIC SIGNAL OPERATOR                              1\n",
       "COURT COMPUTER FACILITIES COORDINATOR                1\n",
       "AUTOMOTIVE BODY AND FENDER WORKER SUPERVISOR I       1\n",
       "VICTIM & WITNESS TECHNICIAN                          1\n",
       "Name: count, Length: 2159, dtype: int64"
      ]
     },
     "execution_count": 36,
     "metadata": {},
     "output_type": "execute_result"
    }
   ],
   "source": [
    "import pandas as pd\n",
    "df = pd.read_csv('Salaries - Salaries.csv', low_memory=False)\n",
    "\n",
    "df['JobTitle'].value_counts()"
   ]
  },
  {
   "cell_type": "code",
   "execution_count": null,
   "id": "afd711dc-bd58-4f16-bf09-a5539c1cc179",
   "metadata": {},
   "outputs": [],
   "source": []
  },
  {
   "cell_type": "code",
   "execution_count": null,
   "id": "8439d8d9-11a7-4dc0-8309-8988d2c67dde",
   "metadata": {},
   "outputs": [],
   "source": []
  },
  {
   "cell_type": "code",
   "execution_count": null,
   "id": "e8ed9049-91a6-4ccb-bddb-e70c27b28c60",
   "metadata": {},
   "outputs": [],
   "source": []
  },
  {
   "cell_type": "code",
   "execution_count": null,
   "id": "c21153ba-f06e-4985-8318-a35fcbf50cd8",
   "metadata": {},
   "outputs": [],
   "source": []
  },
  {
   "cell_type": "code",
   "execution_count": null,
   "id": "3b1f5c9b-0e23-4b2c-a2ee-af622c6173ae",
   "metadata": {},
   "outputs": [],
   "source": []
  },
  {
   "cell_type": "code",
   "execution_count": null,
   "id": "1aa93f6e-dbd3-4bf7-916a-9bed19f31bfc",
   "metadata": {},
   "outputs": [],
   "source": []
  },
  {
   "cell_type": "code",
   "execution_count": null,
   "id": "20aeb919-e81b-4276-ad65-ab7e9fa725b4",
   "metadata": {},
   "outputs": [],
   "source": []
  },
  {
   "cell_type": "code",
   "execution_count": null,
   "id": "babffa55-a282-4b6b-9967-251fdae91c03",
   "metadata": {},
   "outputs": [],
   "source": []
  },
  {
   "cell_type": "code",
   "execution_count": null,
   "id": "9f07ad00-d8e9-4b32-a446-697e6158710b",
   "metadata": {},
   "outputs": [],
   "source": []
  },
  {
   "cell_type": "code",
   "execution_count": null,
   "id": "2f43afb3-1c80-4292-88b8-fc6d12095b1e",
   "metadata": {},
   "outputs": [],
   "source": []
  },
  {
   "cell_type": "code",
   "execution_count": null,
   "id": "459f31b0-2f50-4019-8d55-8bb85f0fc689",
   "metadata": {},
   "outputs": [],
   "source": []
  },
  {
   "cell_type": "code",
   "execution_count": null,
   "id": "fd8b54a7-11f8-4834-9f67-64c4522a5ab3",
   "metadata": {},
   "outputs": [],
   "source": []
  },
  {
   "cell_type": "code",
   "execution_count": null,
   "id": "55604920-63cc-429e-a775-3e5855ecd043",
   "metadata": {},
   "outputs": [],
   "source": []
  },
  {
   "cell_type": "code",
   "execution_count": null,
   "id": "df3d5cb3-f8dd-492a-b11c-bedd88cef4a6",
   "metadata": {},
   "outputs": [],
   "source": []
  },
  {
   "cell_type": "code",
   "execution_count": null,
   "id": "ee597ce0-b284-4cff-aba3-25bf8c37d56b",
   "metadata": {},
   "outputs": [],
   "source": []
  },
  {
   "cell_type": "code",
   "execution_count": null,
   "id": "9c66921d-1b24-4b66-ab8c-136a24352251",
   "metadata": {},
   "outputs": [],
   "source": []
  },
  {
   "cell_type": "code",
   "execution_count": null,
   "id": "9f529eb6-014f-43e3-aceb-59f10104a4e8",
   "metadata": {},
   "outputs": [],
   "source": []
  },
  {
   "cell_type": "code",
   "execution_count": null,
   "id": "84af0df3-28aa-4827-b789-86cae610ad40",
   "metadata": {},
   "outputs": [],
   "source": []
  },
  {
   "cell_type": "code",
   "execution_count": null,
   "id": "e0d730df-484c-4f88-90a0-f09838512ebc",
   "metadata": {},
   "outputs": [],
   "source": []
  }
 ],
 "metadata": {
  "kernelspec": {
   "display_name": "Python 3 (ipykernel)",
   "language": "python",
   "name": "python3"
  },
  "language_info": {
   "codemirror_mode": {
    "name": "ipython",
    "version": 3
   },
   "file_extension": ".py",
   "mimetype": "text/x-python",
   "name": "python",
   "nbconvert_exporter": "python",
   "pygments_lexer": "ipython3",
   "version": "3.12.12"
  }
 },
 "nbformat": 4,
 "nbformat_minor": 5
}
