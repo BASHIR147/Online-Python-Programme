{
 "cells": [
  {
   "cell_type": "code",
   "execution_count": 6,
   "id": "551f57c8-e8ad-4cf1-a356-5a4610c02110",
   "metadata": {},
   "outputs": [],
   "source": [
    "import csv"
   ]
  },
  {
   "cell_type": "code",
   "execution_count": 7,
   "id": "512626f1-9f7e-4484-b9ac-392d63dda191",
   "metadata": {},
   "outputs": [
    {
     "data": {
      "text/plain": [
       "<_io.TextIOWrapper name='student data - student data.csv' mode='r' encoding='cp1252'>"
      ]
     },
     "execution_count": 7,
     "metadata": {},
     "output_type": "execute_result"
    }
   ],
   "source": [
    "open_file = open('student data - student data.csv', mode = 'r')\n",
    "open_file"
   ]
  },
  {
   "cell_type": "code",
   "execution_count": 8,
   "id": "a0be6521-f15a-42b8-9d6f-ea4dce8cefc3",
   "metadata": {},
   "outputs": [
    {
     "data": {
      "text/plain": [
       "<_csv.reader at 0x2b4ce13a560>"
      ]
     },
     "execution_count": 8,
     "metadata": {},
     "output_type": "execute_result"
    }
   ],
   "source": [
    "reader = csv.reader(open_file)\n",
    "reader"
   ]
  },
  {
   "cell_type": "code",
   "execution_count": 9,
   "id": "af20d249-0b7c-4846-986d-5908c52fe3f6",
   "metadata": {},
   "outputs": [],
   "source": [
    "data = list(reader)"
   ]
  },
  {
   "cell_type": "code",
   "execution_count": 13,
   "id": "a96ae36b-2d45-42a4-9ad2-14608c51a4fb",
   "metadata": {},
   "outputs": [],
   "source": [
    "data[0].append('Grade')"
   ]
  },
  {
   "cell_type": "code",
   "execution_count": 14,
   "id": "4ee35bdf-791e-468f-89f4-cf9163fc027c",
   "metadata": {},
   "outputs": [],
   "source": [
    "for per in data[1:]:\n",
    "    percentage = float(per[5])  # Existing percentage\n",
    "    if percentage > 80 and percentage <= 100:\n",
    "        grade = 'A+'\n",
    "    elif percentage >= 70 and percentage <= 80:\n",
    "        grade = 'A'\n",
    "    elif percentage >= 60 and percentage < 70:\n",
    "        grade = 'B'\n",
    "    elif percentage >= 50 and percentage < 60:\n",
    "        grade = 'C'\n",
    "    else:\n",
    "        grade = 'Fail'"
   ]
  },
  {
   "cell_type": "code",
   "execution_count": 16,
   "id": "75b6cc41-5b64-46e2-beb7-315b386adcb0",
   "metadata": {},
   "outputs": [],
   "source": [
    "    per.append(grade)"
   ]
  },
  {
   "cell_type": "code",
   "execution_count": 17,
   "id": "12730cba-c58b-4dc4-b103-5651c5f82638",
   "metadata": {},
   "outputs": [
    {
     "data": {
      "text/plain": [
       "[['roll no', 'Name', 'Chemistry', 'Physics', 'Math', 'Percentage', 'Grade'],\n",
       " ['101', 'Aliza', '50', '23', '87', '53.33', 'C', 'C'],\n",
       " ['102', 'Fareed', '45', '24', '88', '52.33', 'C', 'C'],\n",
       " ['103', 'Basit', '46', '25', '89', '53.33', 'C', 'C'],\n",
       " ['104', 'Abdullah', '47', '26', '90', '54.33', 'C', 'C'],\n",
       " ['105', 'Ali', '48', '27', '67', '47.33', 'Fail', 'Fail'],\n",
       " ['106', 'Mubashir', '49', '28', '68', '48.33', 'Fail', 'Fail'],\n",
       " ['107', 'Waleed', '50', '29', '69', '49.33', 'Fail', 'Fail'],\n",
       " ['108', 'Mansoor', '51', '30', '70', '50.33', 'C', 'C'],\n",
       " ['109', 'Zain', '52', '31', '71', '51.33', 'C', 'C'],\n",
       " ['110', 'Mohsin', '53', '67', '72', '64', 'B', 'B'],\n",
       " ['111', 'Shahmeer', '54', '68', '73', '65', 'B', 'B'],\n",
       " ['112', 'Rao', '55', '69', '74', '66', 'B', 'B'],\n",
       " ['113', 'Aurangzeb', '56', '70', '75', '67', 'B', 'B'],\n",
       " ['114', 'Zeeshan', '57', '71', '76', '68', 'B', 'B'],\n",
       " ['115', 'Hamna', '58', '72', '77', '69', 'B', 'B'],\n",
       " ['116', 'Hamza', '59', '73', '78', '70', 'A', 'A'],\n",
       " ['117', 'Khalid', '60', '74', '79', '71', 'A', 'A'],\n",
       " ['118', 'Behroz', '61', '75', '80', '72', 'A', 'A'],\n",
       " ['119', 'Justin', '62', '76', '81', '73', 'A', 'A'],\n",
       " ['120', 'Danish', '63', '77', '82', '74', 'A', 'A'],\n",
       " ['121', 'Kainat', '64', '78', '83', '75', 'A', 'A'],\n",
       " ['122', 'Sameer', '65', '79', '84', '76', 'A', 'A'],\n",
       " ['123', 'Raza', '66', '80', '85', '77', 'A', 'A'],\n",
       " ['124', 'Kumar', '67', '81', '86', '78', 'A', 'A'],\n",
       " ['125', 'Komal', '68', '82', '87', '79', 'A', 'A'],\n",
       " ['126', 'Erum', '69', '83', '88', '80', 'A', 'A'],\n",
       " ['127', 'Faiza', '70', '84', '89', '81', 'A+', 'A+'],\n",
       " ['128', 'Saeed', '71', '85', '90', '82', 'A+', 'A+'],\n",
       " ['129', 'Waqar', '72', '86', '91', '83', 'A+', 'A+'],\n",
       " ['130', 'Wali', '73', '87', '92', '84', 'A+', 'A+'],\n",
       " ['131', 'Wajid', '74', '88', '93', '85', 'A+', 'A+'],\n",
       " ['132', 'Waseeb', '75', '89', '94', '86', 'A+', 'A+'],\n",
       " ['133', 'Shiza', '76', '90', '95', '87', 'A+', 'A+'],\n",
       " ['134', 'Shabina', '77', '91', '96', '88', 'A+', 'A+'],\n",
       " ['135', 'Shazain', '78', '55', '97', '76.67', 'A', 'A'],\n",
       " ['136', 'Lubna', '79', '61', '98', '79.33', 'A', 'A'],\n",
       " ['137', 'Laiba', '80', '88', '78', '82', 'A+', 'A+'],\n",
       " ['138', 'Khursheed', '81', '56', '45', '60.67', 'B', 'B'],\n",
       " ['139', 'Ali', '82', '89', '46', '72.33', 'A', 'A'],\n",
       " ['140', 'Aiza', '83', '45', '89', '72.33', 'A', 'A'],\n",
       " ['141', 'Aiman', '84', '92', '78', '84.67', 'A+', 'A+'],\n",
       " ['142', 'Yasmeen', '85', '36', '56', '59', 'C', 'C'],\n",
       " ['143', 'Tasbeel', '86', '78', '78', '80.67', 'A+', 'A+'],\n",
       " ['144', 'Laraib', '87', '56', '54', '65.67', 'B', 'B'],\n",
       " ['145', 'Saleem', '88', '78', '78', '81.33', 'A+', 'A+'],\n",
       " ['146', 'Bismil', '89', '89', '46', '74.67', 'A', 'A'],\n",
       " ['147', 'Batool', '90', '56', '79', '75', 'A', 'A'],\n",
       " ['148', 'Iqra', '91', '33', '46', '56.67', 'C', 'C'],\n",
       " ['149', 'Zarnish', '92', '78', '45', '71.67', 'A', 'A'],\n",
       " ['150', 'Zara', '83', '45', '56', '61.33', 'B', 'B', 'B']]"
      ]
     },
     "execution_count": 17,
     "metadata": {},
     "output_type": "execute_result"
    }
   ],
   "source": [
    "data"
   ]
  },
  {
   "cell_type": "code",
   "execution_count": null,
   "id": "ce79a2df-367e-43fc-ad17-cd2c26e091a1",
   "metadata": {},
   "outputs": [],
   "source": []
  },
  {
   "cell_type": "code",
   "execution_count": null,
   "id": "7f9c79c3-165b-4a0f-904a-814a1e90bfe7",
   "metadata": {},
   "outputs": [],
   "source": []
  },
  {
   "cell_type": "code",
   "execution_count": null,
   "id": "6936be02-6228-4008-bd3f-90bbd6d9b121",
   "metadata": {},
   "outputs": [],
   "source": []
  }
 ],
 "metadata": {
  "kernelspec": {
   "display_name": "Python 3 (ipykernel)",
   "language": "python",
   "name": "python3"
  },
  "language_info": {
   "codemirror_mode": {
    "name": "ipython",
    "version": 3
   },
   "file_extension": ".py",
   "mimetype": "text/x-python",
   "name": "python",
   "nbconvert_exporter": "python",
   "pygments_lexer": "ipython3",
   "version": "3.12.12"
  }
 },
 "nbformat": 4,
 "nbformat_minor": 5
}
