{
 "cells": [
  {
   "cell_type": "markdown",
   "id": "b0b93122-f00b-4820-a6a6-7d324ce2df6e",
   "metadata": {},
   "source": [
    "# Assignment 12"
   ]
  },
  {
   "cell_type": "code",
   "execution_count": null,
   "id": "6c2074b0-ea57-4e7b-961b-048e9f190708",
   "metadata": {},
   "outputs": [],
   "source": [
    "Q1: Find record if Sales greater than 500 and Quantity greater than 5?"
   ]
  },
  {
   "cell_type": "code",
   "execution_count": 1,
   "id": "3b5b74bd-408b-463d-bc12-87affdbcc8a5",
   "metadata": {},
   "outputs": [],
   "source": [
    "import pandas as pd"
   ]
  },
  {
   "cell_type": "code",
   "execution_count": 2,
   "id": "12ed8b43-3173-4fe2-8b47-ba1f4ff1e735",
   "metadata": {},
   "outputs": [],
   "source": [
    "df = pd.read_csv('retail supermarket.csv')"
   ]
  },
  {
   "cell_type": "code",
   "execution_count": 3,
   "id": "2f4b238e-e2c0-4600-9b26-caccf2d9649e",
   "metadata": {},
   "outputs": [],
   "source": [
    "data = df[(df['Sales'] > 500) & (df['Quantity'] > 5)]"
   ]
  },
  {
   "cell_type": "code",
   "execution_count": 4,
   "id": "4011c5d9-c58e-4b99-8dc5-f943c31d7265",
   "metadata": {
    "scrolled": true
   },
   "outputs": [
    {
     "name": "stdout",
     "output_type": "stream",
     "text": [
      "Records where Sales > 500 and Quantity > 5:\n",
      "\n"
     ]
    }
   ],
   "source": [
    "print(\"Records where Sales > 500 and Quantity > 5:\\n\")"
   ]
  },
  {
   "cell_type": "code",
   "execution_count": 5,
   "id": "4e15d961-efee-4f8f-846f-ce33b4a1e1ae",
   "metadata": {
    "scrolled": true
   },
   "outputs": [
    {
     "name": "stdout",
     "output_type": "stream",
     "text": [
      "           Ship Mode    Segment        Country           City         State  \\\n",
      "7     Standard Class   Consumer  United States    Los Angeles    California   \n",
      "10    Standard Class   Consumer  United States    Los Angeles    California   \n",
      "16    Standard Class   Consumer  United States        Madison     Wisconsin   \n",
      "27    Standard Class   Consumer  United States   Philadelphia  Pennsylvania   \n",
      "35       First Class  Corporate  United States     Richardson         Texas   \n",
      "...              ...        ...            ...            ...           ...   \n",
      "9879  Standard Class   Consumer  United States  New York City      New York   \n",
      "9925     First Class  Corporate  United States  New York City      New York   \n",
      "9942  Standard Class   Consumer  United States        Anaheim    California   \n",
      "9947    Second Class  Corporate  United States   Indianapolis       Indiana   \n",
      "9948    Second Class  Corporate  United States   Indianapolis       Indiana   \n",
      "\n",
      "      Postal Code   Region         Category Sub-Category     Sales  Quantity  \\\n",
      "7           90032     West       Technology       Phones   907.152         6   \n",
      "10          90032     West        Furniture       Tables  1706.184         9   \n",
      "16          53711  Central  Office Supplies      Storage   665.880         6   \n",
      "27          19140     East        Furniture    Bookcases  3083.430         7   \n",
      "35          75080  Central       Technology       Phones  1097.544         7   \n",
      "...           ...      ...              ...          ...       ...       ...   \n",
      "9879        10035     East        Furniture       Chairs   573.174         7   \n",
      "9925        10035     East  Office Supplies      Binders  1087.936         8   \n",
      "9942        92804     West  Office Supplies      Storage   998.820         9   \n",
      "9947        46203  Central        Furniture       Chairs  1925.880         6   \n",
      "9948        46203  Central  Office Supplies   Appliances  2405.200         8   \n",
      "\n",
      "      Discount     Profit  \n",
      "7          0.2    90.7152  \n",
      "10         0.2    85.3092  \n",
      "16         0.0    13.3176  \n",
      "27         0.5 -1665.0522  \n",
      "35         0.2   123.4737  \n",
      "...        ...        ...  \n",
      "9879       0.1    63.6860  \n",
      "9925       0.2   353.5792  \n",
      "9942       0.0    29.9646  \n",
      "9947       0.0   539.2464  \n",
      "9948       0.0   793.7160  \n",
      "\n",
      "[431 rows x 13 columns]\n"
     ]
    }
   ],
   "source": [
    "print(data)"
   ]
  },
  {
   "cell_type": "code",
   "execution_count": null,
   "id": "c0674171-33a5-4fd3-a5dc-1ff41bc3b5ef",
   "metadata": {},
   "outputs": [],
   "source": []
  },
  {
   "cell_type": "code",
   "execution_count": null,
   "id": "09ac487b-d799-4ec5-a909-c1ffb8da981c",
   "metadata": {},
   "outputs": [],
   "source": [
    "Q2: Find records if Discount is more than 0.5 (50%) or Profit is negative."
   ]
  },
  {
   "cell_type": "code",
   "execution_count": 2,
   "id": "77b9bce7-5f48-41ad-a720-1c06c2f855c6",
   "metadata": {},
   "outputs": [],
   "source": [
    "import pandas as pd"
   ]
  },
  {
   "cell_type": "code",
   "execution_count": 3,
   "id": "53ed87e3-e7f7-4bc6-ac75-1ce0e4404785",
   "metadata": {},
   "outputs": [],
   "source": [
    "df = pd.read_csv('retail supermarket.csv')"
   ]
  },
  {
   "cell_type": "code",
   "execution_count": 5,
   "id": "cec87645-ad14-486e-a8f8-266316af0598",
   "metadata": {},
   "outputs": [],
   "source": [
    "data = df[(df['Discount'] > 0.5) | (df['Profit'] < 0)]"
   ]
  },
  {
   "cell_type": "code",
   "execution_count": 6,
   "id": "98e9227c-7b1d-4541-be5a-873b2a38e2cd",
   "metadata": {},
   "outputs": [
    {
     "name": "stdout",
     "output_type": "stream",
     "text": [
      "           Ship Mode      Segment        Country             City  \\\n",
      "3     Standard Class     Consumer  United States  Fort Lauderdale   \n",
      "14    Standard Class  Home Office  United States       Fort Worth   \n",
      "15    Standard Class  Home Office  United States       Fort Worth   \n",
      "23      Second Class     Consumer  United States     Philadelphia   \n",
      "27    Standard Class     Consumer  United States     Philadelphia   \n",
      "...              ...          ...            ...              ...   \n",
      "9920  Standard Class    Corporate  United States            Bryan   \n",
      "9921  Standard Class  Home Office  United States            Akron   \n",
      "9931  Standard Class     Consumer  United States   San Bernardino   \n",
      "9937    Second Class    Corporate  United States      Los Angeles   \n",
      "9962     First Class  Home Office  United States          Houston   \n",
      "\n",
      "             State  Postal Code   Region         Category Sub-Category  \\\n",
      "3          Florida        33311    South        Furniture       Tables   \n",
      "14           Texas        76106  Central  Office Supplies   Appliances   \n",
      "15           Texas        76106  Central  Office Supplies      Binders   \n",
      "23    Pennsylvania        19140     East        Furniture       Chairs   \n",
      "27    Pennsylvania        19140     East        Furniture    Bookcases   \n",
      "...            ...          ...      ...              ...          ...   \n",
      "9920         Texas        77803  Central  Office Supplies      Binders   \n",
      "9921          Ohio        44312     East  Office Supplies      Binders   \n",
      "9931    California        92404     West        Furniture    Bookcases   \n",
      "9937    California        90049     West        Furniture       Tables   \n",
      "9962         Texas        77041  Central        Furniture    Bookcases   \n",
      "\n",
      "          Sales  Quantity  Discount     Profit  \n",
      "3      957.5775         5      0.45  -383.0310  \n",
      "14      68.8100         5      0.80  -123.8580  \n",
      "15       2.5440         3      0.80    -3.8160  \n",
      "23      71.3720         2      0.30    -1.0196  \n",
      "27    3083.4300         7      0.50 -1665.0522  \n",
      "...         ...       ...       ...        ...  \n",
      "9920    22.3860         7      0.80   -35.8176  \n",
      "9921     5.7420         3      0.70    -4.5936  \n",
      "9931   683.3320         4      0.15   -40.1960  \n",
      "9937    71.0880         2      0.20    -1.7772  \n",
      "9962   383.4656         4      0.32   -67.6704  \n",
      "\n",
      "[1871 rows x 13 columns]\n"
     ]
    }
   ],
   "source": [
    "print(data)"
   ]
  },
  {
   "cell_type": "code",
   "execution_count": null,
   "id": "6221901f-a888-486e-9fa3-cf8ed8169f79",
   "metadata": {},
   "outputs": [],
   "source": []
  },
  {
   "cell_type": "code",
   "execution_count": null,
   "id": "76a53836-5aca-4814-9c5b-7b9b994c10d4",
   "metadata": {},
   "outputs": [],
   "source": [
    "Q3: Display Ship Mode and Profit columns if region is East using loc"
   ]
  },
  {
   "cell_type": "code",
   "execution_count": null,
   "id": "3f51411d-a9db-4cca-bb88-5d5d92d51f30",
   "metadata": {},
   "outputs": [],
   "source": [
    "import pandas as pd"
   ]
  },
  {
   "cell_type": "code",
   "execution_count": null,
   "id": "b65bdfc8-523d-4e7e-8fdd-c259fda7f059",
   "metadata": {},
   "outputs": [],
   "source": [
    "df = pd.read_csv('retail supermarket.csv')"
   ]
  },
  {
   "cell_type": "code",
   "execution_count": null,
   "id": "c303d74f-2d24-46f7-b7a4-ed8583ac277f",
   "metadata": {},
   "outputs": [],
   "source": [
    "data = df.loc[df['Region'] == 'East', ['Ship Mode', 'Profit']"
   ]
  },
  {
   "cell_type": "code",
   "execution_count": null,
   "id": "0161b5e1-50a6-4e17-9fc3-ce25958e95ac",
   "metadata": {},
   "outputs": [],
   "source": [
    "data = df.loc[df[\"Region\"] == \"East\", [\"Ship Mode\", \"Profit\"]]"
   ]
  },
  {
   "cell_type": "code",
   "execution_count": 9,
   "id": "ba57eda0-3a0e-4d19-b64b-a363408e5541",
   "metadata": {},
   "outputs": [
    {
     "name": "stdout",
     "output_type": "stream",
     "text": [
      "           Ship Mode     Profit\n",
      "23      Second Class    -1.0196\n",
      "27    Standard Class -1665.0522\n",
      "28    Standard Class    -7.0532\n",
      "29    Standard Class    15.5250\n",
      "30    Standard Class     1.1016\n",
      "...              ...        ...\n",
      "9968  Standard Class   331.1910\n",
      "9969  Standard Class     6.5975\n",
      "9981     First Class     5.3690\n",
      "9984  Standard Class    15.1200\n",
      "9985  Standard Class    16.1240\n",
      "\n",
      "[2848 rows x 2 columns]\n"
     ]
    }
   ],
   "source": [
    "print(data)"
   ]
  },
  {
   "cell_type": "code",
   "execution_count": null,
   "id": "6a00b293-28ef-4bce-93fa-76f6ba18e097",
   "metadata": {},
   "outputs": [],
   "source": []
  },
  {
   "cell_type": "code",
   "execution_count": null,
   "id": "6ca727ae-077f-4c37-9896-4f5d5dee7424",
   "metadata": {},
   "outputs": [],
   "source": [
    "Q4: How many records belong to the \"Corporate\" segment and the \"Central\" region?"
   ]
  },
  {
   "cell_type": "code",
   "execution_count": 11,
   "id": "d074f94b-b164-41c6-9cfb-b85154f8a537",
   "metadata": {},
   "outputs": [],
   "source": [
    "import pandas as pd"
   ]
  },
  {
   "cell_type": "code",
   "execution_count": 12,
   "id": "3b7b6e80-7471-4451-8d08-0768098e95bc",
   "metadata": {},
   "outputs": [],
   "source": [
    "df = pd.read_csv('retail supermarket.csv')"
   ]
  },
  {
   "cell_type": "code",
   "execution_count": 16,
   "id": "9d15950e-9f9a-4f7d-bb45-9e6816191fd7",
   "metadata": {},
   "outputs": [],
   "source": [
    "result = df[(df[\"Segment\"] == \"Corporate\") & (df[\"Region\"] == \"Central\")]"
   ]
  },
  {
   "cell_type": "code",
   "execution_count": 17,
   "id": "04a97beb-187f-47a7-b8a0-67ad0ac1704b",
   "metadata": {},
   "outputs": [],
   "source": [
    "count = len(result)"
   ]
  },
  {
   "cell_type": "code",
   "execution_count": 20,
   "id": "381643b4-72dd-4a61-b189-ff9bba81e379",
   "metadata": {},
   "outputs": [
    {
     "name": "stdout",
     "output_type": "stream",
     "text": [
      "673\n"
     ]
    }
   ],
   "source": [
    "print(count)"
   ]
  },
  {
   "cell_type": "code",
   "execution_count": null,
   "id": "45e7f06d-4215-4fb6-aa64-907a3944792f",
   "metadata": {},
   "outputs": [],
   "source": []
  },
  {
   "cell_type": "code",
   "execution_count": null,
   "id": "c4c68d81-6cc7-4c0e-9631-04b2dca498eb",
   "metadata": {},
   "outputs": [],
   "source": [
    "Q5:Find all orders in the \"Furniture\" category but not in \"Chairs\" sub-category."
   ]
  },
  {
   "cell_type": "code",
   "execution_count": 9,
   "id": "29ba6b47-ebd4-46a9-8387-aa9bb87d7ece",
   "metadata": {},
   "outputs": [],
   "source": [
    "import pandas as pd"
   ]
  },
  {
   "cell_type": "code",
   "execution_count": 10,
   "id": "ec9d1141-a0ba-4292-abc0-3b158121c58a",
   "metadata": {},
   "outputs": [],
   "source": [
    "df = pd.read_csv(\"retail supermarket.csv\")"
   ]
  },
  {
   "cell_type": "code",
   "execution_count": 11,
   "id": "6f373bf8-e612-406e-9757-2832243cc89d",
   "metadata": {},
   "outputs": [],
   "source": [
    "result = df[(df[\"Category\"] == \"Furniture\") & (df[\"Sub-Category\"] != \"Chairs\")]"
   ]
  },
  {
   "cell_type": "code",
   "execution_count": 14,
   "id": "106f4f14-e0aa-40be-a1ee-7cc4ef4867f1",
   "metadata": {},
   "outputs": [
    {
     "name": "stdout",
     "output_type": "stream",
     "text": [
      "Orders in 'Furniture' category but NOT in 'Chairs' sub-category:\n",
      "\n"
     ]
    }
   ],
   "source": [
    "print(\"Orders in 'Furniture' category but NOT in 'Chairs' sub-category:\\n\")\n"
   ]
  },
  {
   "cell_type": "code",
   "execution_count": 15,
   "id": "f587b19d-d95c-4d0b-8e2f-337f91a7015a",
   "metadata": {},
   "outputs": [
    {
     "name": "stdout",
     "output_type": "stream",
     "text": [
      "           Ship Mode      Segment        Country             City       State  \\\n",
      "0       Second Class     Consumer  United States        Henderson    Kentucky   \n",
      "3     Standard Class     Consumer  United States  Fort Lauderdale     Florida   \n",
      "5     Standard Class     Consumer  United States      Los Angeles  California   \n",
      "10    Standard Class     Consumer  United States      Los Angeles  California   \n",
      "24    Standard Class     Consumer  United States             Orem        Utah   \n",
      "...              ...          ...            ...              ...         ...   \n",
      "9962     First Class  Home Office  United States          Houston       Texas   \n",
      "9964    Second Class    Corporate  United States           Newark    Delaware   \n",
      "9980    Second Class     Consumer  United States        Lafayette   Louisiana   \n",
      "9989    Second Class     Consumer  United States            Miami     Florida   \n",
      "9990  Standard Class     Consumer  United States       Costa Mesa  California   \n",
      "\n",
      "      Postal Code   Region   Category Sub-Category      Sales  Quantity  \\\n",
      "0           42420    South  Furniture    Bookcases   261.9600         2   \n",
      "3           33311    South  Furniture       Tables   957.5775         5   \n",
      "5           90032     West  Furniture  Furnishings    48.8600         7   \n",
      "10          90032     West  Furniture       Tables  1706.1840         9   \n",
      "24          84057     West  Furniture       Tables  1044.6300         3   \n",
      "...           ...      ...        ...          ...        ...       ...   \n",
      "9962        77041  Central  Furniture    Bookcases   383.4656         4   \n",
      "9964        19711     East  Furniture  Furnishings    13.4000         1   \n",
      "9980        70506    South  Furniture       Tables    85.9800         1   \n",
      "9989        33180    South  Furniture  Furnishings    25.2480         3   \n",
      "9990        92627     West  Furniture  Furnishings    91.9600         2   \n",
      "\n",
      "      Discount    Profit  \n",
      "0         0.00   41.9136  \n",
      "3         0.45 -383.0310  \n",
      "5         0.00   14.1694  \n",
      "10        0.20   85.3092  \n",
      "24        0.00  240.2649  \n",
      "...        ...       ...  \n",
      "9962      0.32  -67.6704  \n",
      "9964      0.00    6.4320  \n",
      "9980      0.00   22.3548  \n",
      "9989      0.20    4.1028  \n",
      "9990      0.00   15.6332  \n",
      "\n",
      "[1504 rows x 13 columns]\n"
     ]
    }
   ],
   "source": [
    "print(result)"
   ]
  },
  {
   "cell_type": "code",
   "execution_count": null,
   "id": "d9afec4a-b1a7-401d-9b1d-c1a4c54987be",
   "metadata": {},
   "outputs": [],
   "source": []
  },
  {
   "cell_type": "code",
   "execution_count": null,
   "id": "4047ac28-4f0a-4b24-9c4b-d67cf991355a",
   "metadata": {},
   "outputs": [],
   "source": [
    "Q6: Which orders have discount (>0.3) and still earned profit (>0)?"
   ]
  },
  {
   "cell_type": "code",
   "execution_count": 28,
   "id": "78b6ddbf-94d6-4298-9ad3-27da6458fbfc",
   "metadata": {},
   "outputs": [],
   "source": [
    "import pandas as pd"
   ]
  },
  {
   "cell_type": "code",
   "execution_count": 29,
   "id": "c9d89730-caf9-41e3-93c0-171b5150016a",
   "metadata": {},
   "outputs": [],
   "source": [
    "df = pd.read_csv('retail supermarket.csv')"
   ]
  },
  {
   "cell_type": "code",
   "execution_count": 30,
   "id": "283b3655-e05f-4cc4-bfcc-a5a0826a229c",
   "metadata": {},
   "outputs": [],
   "source": [
    "data = df[(df['Discount'] > 0.3) & (df['Profit'] > 0)]"
   ]
  },
  {
   "cell_type": "code",
   "execution_count": 32,
   "id": "e5d1a36f-5352-4957-9559-5885682a3b12",
   "metadata": {},
   "outputs": [
    {
     "name": "stdout",
     "output_type": "stream",
     "text": [
      "Orders with Discount > 0.3 and Profit > 0:\n",
      "\n"
     ]
    }
   ],
   "source": [
    "print(\"Orders with Discount > 0.3 and Profit > 0:\\n\")"
   ]
  },
  {
   "cell_type": "code",
   "execution_count": 33,
   "id": "4e311d6e-954e-4376-9fc1-db2a460dd31d",
   "metadata": {},
   "outputs": [
    {
     "name": "stdout",
     "output_type": "stream",
     "text": [
      "           Ship Mode      Segment        Country           City         State  \\\n",
      "343     Second Class    Corporate  United States   Philadelphia  Pennsylvania   \n",
      "614     Second Class     Consumer  United States     Grove City          Ohio   \n",
      "986   Standard Class  Home Office  United States       Pasadena         Texas   \n",
      "1233     First Class    Corporate  United States     Cincinnati          Ohio   \n",
      "1679  Standard Class    Corporate  United States   Philadelphia  Pennsylvania   \n",
      "1912    Second Class    Corporate  United States        Houston         Texas   \n",
      "1986     First Class     Consumer  United States       Columbus          Ohio   \n",
      "2125  Standard Class  Home Office  United States   Philadelphia  Pennsylvania   \n",
      "2135  Standard Class     Consumer  United States   Philadelphia  Pennsylvania   \n",
      "2728     First Class     Consumer  United States         Toledo          Ohio   \n",
      "3781    Second Class     Consumer  United States   Philadelphia  Pennsylvania   \n",
      "4003  Standard Class     Consumer  United States    San Antonio         Texas   \n",
      "4491    Second Class     Consumer  United States       Columbus          Ohio   \n",
      "4812    Second Class     Consumer  United States   Philadelphia  Pennsylvania   \n",
      "5384  Standard Class     Consumer  United States   Philadelphia  Pennsylvania   \n",
      "5385  Standard Class     Consumer  United States   Philadelphia  Pennsylvania   \n",
      "6425  Standard Class     Consumer  United States   Philadelphia  Pennsylvania   \n",
      "6951  Standard Class    Corporate  United States         Dallas         Texas   \n",
      "7042  Standard Class     Consumer  United States   Philadelphia  Pennsylvania   \n",
      "8123  Standard Class     Consumer  United States   Philadelphia  Pennsylvania   \n",
      "8799     First Class     Consumer  United States   Philadelphia  Pennsylvania   \n",
      "8808  Standard Class     Consumer  United States   Philadelphia  Pennsylvania   \n",
      "9106  Standard Class     Consumer  United States        Houston         Texas   \n",
      "9516    Second Class     Consumer  United States  Bowling Green          Ohio   \n",
      "9617  Standard Class    Corporate  United States  Bowling Green          Ohio   \n",
      "9798  Standard Class    Corporate  United States         Toledo          Ohio   \n",
      "\n",
      "      Postal Code   Region    Category Sub-Category     Sales  Quantity  \\\n",
      "343         19140     East  Technology       Phones    71.928        12   \n",
      "614         43123     East  Technology       Phones   119.940        10   \n",
      "986         77506  Central  Technology     Machines   336.510         3   \n",
      "1233        45231     East  Technology      Copiers   839.988         2   \n",
      "1679        19134     East  Technology       Phones    32.382         3   \n",
      "1912        77041  Central  Technology     Machines   597.132         3   \n",
      "1986        43229     East  Technology      Copiers  1439.976         4   \n",
      "2125        19143     East  Technology       Phones    62.958         7   \n",
      "2135        19134     East  Technology       Phones    94.920         4   \n",
      "2728        43615     East  Technology       Phones   629.958         7   \n",
      "3781        19120     East  Technology       Phones   269.982         3   \n",
      "4003        78207  Central  Technology     Machines   287.910         3   \n",
      "4491        43229     East  Technology      Copiers   659.988         2   \n",
      "4812        19134     East  Technology      Copiers  1199.976         4   \n",
      "5384        19143     East  Technology       Phones   358.200         3   \n",
      "5385        19143     East  Technology       Phones   545.916        14   \n",
      "6425        19120     East  Technology      Copiers  8399.976         4   \n",
      "6951        75217  Central  Technology     Machines   479.988         2   \n",
      "7042        19134     East  Technology      Copiers   599.970         5   \n",
      "8123        19134     East  Technology      Copiers  1079.976         4   \n",
      "8799        19134     East  Technology      Copiers  1799.970         5   \n",
      "8808        19134     East  Technology       Phones   118.650         5   \n",
      "9106        77041  Central  Technology     Machines   287.910         3   \n",
      "9516        43402     East  Technology       Phones    26.982         3   \n",
      "9617        43402     East  Technology      Copiers   899.982         3   \n",
      "9798        43615     East  Technology       Phones    26.376         4   \n",
      "\n",
      "      Discount     Profit  \n",
      "343        0.4     8.3916  \n",
      "614        0.4    15.9920  \n",
      "986        0.4    44.8680  \n",
      "1233       0.4    69.9990  \n",
      "1679       0.4     4.3176  \n",
      "1912       0.4    49.7610  \n",
      "1986       0.4   191.9968  \n",
      "2125       0.4     9.4437  \n",
      "2135       0.4    15.8200  \n",
      "2728       0.4    94.4937  \n",
      "3781       0.4    40.4973  \n",
      "4003       0.4    33.5895  \n",
      "4491       0.4   109.9980  \n",
      "4812       0.4   179.9964  \n",
      "5384       0.4    41.7900  \n",
      "5385       0.4    72.7888  \n",
      "6425       0.4  1119.9968  \n",
      "6951       0.4    55.9986  \n",
      "7042       0.4    69.9965  \n",
      "8123       0.4   125.9972  \n",
      "8799       0.4   239.9960  \n",
      "8808       0.4    19.7750  \n",
      "9106       0.4    33.5895  \n",
      "9516       0.4     4.0473  \n",
      "9617       0.4    74.9985  \n",
      "9798       0.4     2.6376  \n"
     ]
    }
   ],
   "source": [
    "print(data)"
   ]
  },
  {
   "cell_type": "code",
   "execution_count": null,
   "id": "d1ebab12-2def-4b02-8a6d-53a73371ac1d",
   "metadata": {},
   "outputs": [],
   "source": []
  },
  {
   "cell_type": "code",
   "execution_count": null,
   "id": "b7507e3f-eda0-41e7-a5f5-ea1342b8386d",
   "metadata": {},
   "outputs": [],
   "source": [
    "Q7: Find high-profit orders where Quantity > 5 and Category == 'Technology'."
   ]
  },
  {
   "cell_type": "code",
   "execution_count": 41,
   "id": "c47be848-f07f-4164-83f1-b4953a6ccdf5",
   "metadata": {},
   "outputs": [],
   "source": [
    "import pandas as pd"
   ]
  },
  {
   "cell_type": "code",
   "execution_count": 42,
   "id": "c16973a6-e61a-4d76-9e74-caf427b8409e",
   "metadata": {},
   "outputs": [],
   "source": [
    "df = pd.read_csv('retail supermarket.csv')"
   ]
  },
  {
   "cell_type": "code",
   "execution_count": 43,
   "id": "57700763-1867-407f-8cce-663adc44c26e",
   "metadata": {},
   "outputs": [],
   "source": [
    "result = df[(df[\"Quantity\"] > 5) & (df[\"Category\"] == \"Technology\")]"
   ]
  },
  {
   "cell_type": "code",
   "execution_count": 46,
   "id": "219ab4f8-fdef-4fa4-8b23-9f466128ac74",
   "metadata": {
    "scrolled": true
   },
   "outputs": [
    {
     "name": "stdout",
     "output_type": "stream",
     "text": [
      "High-profit Technology orders with Quantity > 5:\n",
      "\n",
      "           Ship Mode    Segment        Country           City           State  \\\n",
      "7     Standard Class   Consumer  United States    Los Angeles      California   \n",
      "35       First Class  Corporate  United States     Richardson           Texas   \n",
      "103   Standard Class   Consumer  United States         Aurora        Colorado   \n",
      "106   Standard Class   Consumer  United States      Charlotte  North Carolina   \n",
      "123      First Class   Consumer  United States     Wilmington        Delaware   \n",
      "...              ...        ...            ...            ...             ...   \n",
      "9840  Standard Class   Consumer  United States     Long Beach      California   \n",
      "9882     First Class   Consumer  United States      Woodstock         Georgia   \n",
      "9891    Second Class  Corporate  United States      Milwaukee       Wisconsin   \n",
      "9895  Standard Class   Consumer  United States        Chicago        Illinois   \n",
      "9941  Standard Class   Consumer  United States  San Francisco      California   \n",
      "\n",
      "      Postal Code   Region    Category Sub-Category     Sales  Quantity  \\\n",
      "7           90032     West  Technology       Phones   907.152         6   \n",
      "35          75080  Central  Technology       Phones  1097.544         7   \n",
      "103         80013     West  Technology  Accessories   238.896         6   \n",
      "106         28205    South  Technology  Accessories    74.112         8   \n",
      "123         19805     East  Technology       Phones    68.040         7   \n",
      "...           ...      ...         ...          ...       ...       ...   \n",
      "9840        90805     West  Technology       Phones    44.736         8   \n",
      "9882        30188    South  Technology  Accessories   272.610        13   \n",
      "9891        53209  Central  Technology  Accessories   124.250         7   \n",
      "9895        60623  Central  Technology  Accessories   153.824        11   \n",
      "9941        94122     West  Technology  Accessories   223.580        14   \n",
      "\n",
      "      Discount    Profit  \n",
      "7          0.2   90.7152  \n",
      "35         0.2  123.4737  \n",
      "103        0.2  -26.8758  \n",
      "106        0.2   17.6016  \n",
      "123        0.0   19.7316  \n",
      "...        ...       ...  \n",
      "9840       0.2    4.4736  \n",
      "9882       0.0   98.1396  \n",
      "9891       0.0   48.4575  \n",
      "9895       0.2   38.4560  \n",
      "9941       0.0   87.1962  \n",
      "\n",
      "[323 rows x 13 columns]\n"
     ]
    }
   ],
   "source": [
    "print(\"High-profit Technology orders with Quantity > 5:\\n\")\n",
    "print(result)"
   ]
  },
  {
   "cell_type": "code",
   "execution_count": null,
   "id": "485bf928-5d18-49bc-8d8a-231f22149ac7",
   "metadata": {},
   "outputs": [],
   "source": []
  },
  {
   "cell_type": "code",
   "execution_count": null,
   "id": "7c6fa98e-9eb7-4afa-9198-6b3af11cd9f4",
   "metadata": {},
   "outputs": [],
   "source": [
    "Q8: Select rows 0–4 and columns 'Ship Mode', 'Segment', 'Sales' by position using iloc"
   ]
  },
  {
   "cell_type": "code",
   "execution_count": 47,
   "id": "096a795e-514f-4247-8f6c-cdcb2bc56ddc",
   "metadata": {},
   "outputs": [],
   "source": [
    "import pandas as pd"
   ]
  },
  {
   "cell_type": "code",
   "execution_count": 48,
   "id": "70e0b818-230f-48de-8bc4-ea0dacd89f0a",
   "metadata": {},
   "outputs": [],
   "source": [
    "pd = pd.read_csv('retail supermarket.csv')"
   ]
  },
  {
   "cell_type": "code",
   "execution_count": 49,
   "id": "af3d1b50-ce33-491e-a47c-e293097f9ad1",
   "metadata": {},
   "outputs": [],
   "source": [
    "result = df.iloc[0:5, [0, 1, 9]]  # rows 0–4, columns: Ship Mode, Segment, Sales"
   ]
  },
  {
   "cell_type": "code",
   "execution_count": 50,
   "id": "9373ab28-0755-46aa-9a41-b8789457b3bc",
   "metadata": {},
   "outputs": [
    {
     "name": "stdout",
     "output_type": "stream",
     "text": [
      "Rows 0–4 and columns 'Ship Mode', 'Segment', 'Sales':\n",
      "\n",
      "        Ship Mode    Segment     Sales\n",
      "0    Second Class   Consumer  261.9600\n",
      "1    Second Class   Consumer  731.9400\n",
      "2    Second Class  Corporate   14.6200\n",
      "3  Standard Class   Consumer  957.5775\n",
      "4  Standard Class   Consumer   22.3680\n"
     ]
    }
   ],
   "source": [
    "print(\"Rows 0–4 and columns 'Ship Mode', 'Segment', 'Sales':\\n\")\n",
    "print(result)\n"
   ]
  },
  {
   "cell_type": "code",
   "execution_count": null,
   "id": "77f326a3-5396-40c3-a22c-0d2d54e6ec9d",
   "metadata": {},
   "outputs": [],
   "source": []
  },
  {
   "cell_type": "code",
   "execution_count": null,
   "id": "9f233f29-b8d9-4672-801c-be6404f9c49a",
   "metadata": {},
   "outputs": [],
   "source": [
    "Q9: Show Home Office segment orders with Sales > 1000 and Quantity > 3."
   ]
  },
  {
   "cell_type": "code",
   "execution_count": null,
   "id": "ac85586f-79b7-472e-85df-cb6d106f1a9b",
   "metadata": {},
   "outputs": [],
   "source": [
    "import pandas as pd"
   ]
  },
  {
   "cell_type": "code",
   "execution_count": null,
   "id": "1b0e31d5-27b5-4e07-b651-173f75ca05c6",
   "metadata": {},
   "outputs": [],
   "source": [
    "df = pd.read_csv('retail supermarket')"
   ]
  },
  {
   "cell_type": "code",
   "execution_count": null,
   "id": "be544ff0-247c-4f3b-8654-f5528fb2001b",
   "metadata": {},
   "outputs": [],
   "source": [
    "result = df[(df[\"Segment\"]== \"Home Office\") & (df[\"Sales\"] > 1000) & (df[\"Quantity\"] > 3)]"
   ]
  },
  {
   "cell_type": "code",
   "execution_count": 51,
   "id": "06a429ca-b091-4159-a3d4-c26f629152fc",
   "metadata": {},
   "outputs": [
    {
     "name": "stdout",
     "output_type": "stream",
     "text": [
      "Home Office orders with Sales > 1000 and Quantity > 3:\n",
      "\n",
      "        Ship Mode    Segment     Sales\n",
      "0    Second Class   Consumer  261.9600\n",
      "1    Second Class   Consumer  731.9400\n",
      "2    Second Class  Corporate   14.6200\n",
      "3  Standard Class   Consumer  957.5775\n",
      "4  Standard Class   Consumer   22.3680\n"
     ]
    }
   ],
   "source": [
    "print(\"Home Office orders with Sales > 1000 and Quantity > 3:\\n\")\n",
    "print(result)"
   ]
  },
  {
   "cell_type": "code",
   "execution_count": null,
   "id": "b9d24e77-7dd2-4a74-948f-a3f29fb97264",
   "metadata": {},
   "outputs": [],
   "source": []
  },
  {
   "cell_type": "code",
   "execution_count": null,
   "id": "55efda70-33ac-4233-98a5-40d0c976ca0d",
   "metadata": {},
   "outputs": [],
   "source": [
    "Q10: Find orders where Profit Margin > 0.3?"
   ]
  },
  {
   "cell_type": "code",
   "execution_count": 52,
   "id": "23548de6-b58c-4735-8cfa-93849d771bcd",
   "metadata": {},
   "outputs": [],
   "source": [
    "import pandas as pd"
   ]
  },
  {
   "cell_type": "code",
   "execution_count": 53,
   "id": "4fa87294-06de-4915-a479-c550a90c15f1",
   "metadata": {},
   "outputs": [],
   "source": [
    "df = pd.read_csv('retail supermarket.csv')"
   ]
  },
  {
   "cell_type": "code",
   "execution_count": null,
   "id": "bca5aafc-a013-4bd1-9030-143bb3538962",
   "metadata": {},
   "outputs": [],
   "source": [
    "result = df[df[\"Profit Margin\"] > 0.3]"
   ]
  },
  {
   "cell_type": "code",
   "execution_count": null,
   "id": "031d3d8b-70b8-4b5d-9fd2-46d980fc0aa2",
   "metadata": {},
   "outputs": [],
   "source": [
    "print(\"Orders where Profit Margin > 0.3:\\n\")\n",
    "print(result)"
   ]
  },
  {
   "cell_type": "code",
   "execution_count": null,
   "id": "4618aa0c-82de-4b1c-93b1-261aecc28055",
   "metadata": {},
   "outputs": [],
   "source": []
  },
  {
   "cell_type": "code",
   "execution_count": null,
   "id": "ba30780f-cc49-4c3d-b5f4-d13254fa04bc",
   "metadata": {},
   "outputs": [],
   "source": []
  },
  {
   "cell_type": "code",
   "execution_count": null,
   "id": "63aa2d6a-331c-432e-9845-d860ae378295",
   "metadata": {},
   "outputs": [],
   "source": [
    "import pandas as pd\n",
    "\n",
    "# Step 1: Read your CSV file\n",
    "df = pd.read_csv(\"retail supermarket.csv\")\n",
    "\n",
    "# Step 2: Create a new column for Profit Margin\n",
    "df[\"Profit Margin\"] = df[\"Profit\"] / df[\"Sales\"]\n",
    "\n",
    "# Step 3: Filter orders where Profit Margin > 0.3\n",
    "result = df[df[\"Profit Margin\"] > 0.3]\n",
    "\n",
    "# Step 4: Show the result\n",
    "print(\"Orders where Profit Margin > 0.3:\\n\")\n",
    "print(result)\n"
   ]
  },
  {
   "cell_type": "code",
   "execution_count": null,
   "id": "572517cc-553e-4b5b-9431-87ffcf787397",
   "metadata": {},
   "outputs": [],
   "source": []
  },
  {
   "cell_type": "code",
   "execution_count": null,
   "id": "4e00f3c1-0f81-454c-ba9c-43b3370819ef",
   "metadata": {},
   "outputs": [],
   "source": []
  }
 ],
 "metadata": {
  "kernelspec": {
   "display_name": "Python 3 (ipykernel)",
   "language": "python",
   "name": "python3"
  },
  "language_info": {
   "codemirror_mode": {
    "name": "ipython",
    "version": 3
   },
   "file_extension": ".py",
   "mimetype": "text/x-python",
   "name": "python",
   "nbconvert_exporter": "python",
   "pygments_lexer": "ipython3",
   "version": "3.12.12"
  }
 },
 "nbformat": 4,
 "nbformat_minor": 5
}
