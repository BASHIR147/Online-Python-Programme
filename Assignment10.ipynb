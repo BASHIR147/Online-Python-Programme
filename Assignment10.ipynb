{
 "cells": [
  {
   "cell_type": "markdown",
   "id": "f9948c19-2ef0-4e33-a4ef-60f600110849",
   "metadata": {},
   "source": [
    "Assignment 10"
   ]
  },
  {
   "cell_type": "code",
   "execution_count": 11,
   "id": "1f2614c6-1ced-4ee1-a503-724e5f9579ea",
   "metadata": {},
   "outputs": [
    {
     "name": "stdout",
     "output_type": "stream",
     "text": [
      "Welcome to Speed, Distance, Time Calculator!\n",
      "\n",
      "=== Calculator Menu ===\n",
      "1. Find Speed\n",
      "2. Find Distance\n",
      "3. Find Time\n",
      "4. Quit\n"
     ]
    },
    {
     "name": "stdin",
     "output_type": "stream",
     "text": [
      "Choose an option (1-4):  1\n"
     ]
    },
    {
     "name": "stdout",
     "output_type": "stream",
     "text": [
      "\n",
      "To find Speed, enter Distance and Time\n"
     ]
    },
    {
     "name": "stdin",
     "output_type": "stream",
     "text": [
      "Enter distance (km):  2\n",
      "Enter time (hours):  3\n"
     ]
    },
    {
     "name": "stdout",
     "output_type": "stream",
     "text": [
      "Speed is 0.67 km/h\n",
      "\n",
      "=== Calculator Menu ===\n",
      "1. Find Speed\n",
      "2. Find Distance\n",
      "3. Find Time\n",
      "4. Quit\n"
     ]
    },
    {
     "name": "stdin",
     "output_type": "stream",
     "text": [
      "Choose an option (1-4):  4\n"
     ]
    },
    {
     "name": "stdout",
     "output_type": "stream",
     "text": [
      "\n",
      "Goodbye!\n"
     ]
    }
   ],
   "source": [
    "def show_menu():\n",
    "    print(\"\\n=== Calculator Menu ===\")\n",
    "    print(\"1. Find Speed\")\n",
    "    print(\"2. Find Distance\")\n",
    "    print(\"3. Find Time\")\n",
    "    print(\"4. Quit\")\n",
    "\n",
    "def get_number(prompt):\n",
    "    \n",
    "    while True:\n",
    "        try:\n",
    "            num = float(input(prompt))\n",
    "            if num <= 0:\n",
    "                print(\"Please enter a positive number!\")\n",
    "            else:\n",
    "                return num\n",
    "        except:\n",
    "            print(\"Please enter a valid number!\")\n",
    "\n",
    "def find_speed():\n",
    "    print(\"\\nTo find Speed, enter Distance and Time\")\n",
    "    distance = get_number(\"Enter distance (km): \")\n",
    "    time = get_number(\"Enter time (hours): \")\n",
    "    speed = distance / time  # Speed = Distance / Time\n",
    "    print(f\"Speed is {speed:.2f} km/h\")\n",
    "\n",
    "def find_distance():\n",
    "    print(\"\\nTo find Distance, enter Speed and Time\")\n",
    "    speed = get_number(\"Enter speed (km/h): \")\n",
    "    time = get_number(\"Enter time (hours): \")\n",
    "    distance = speed * time  # Distance = Speed * Time\n",
    "    print(f\"Distance is {distance:.2f} km\")\n",
    "\n",
    "def find_time():\n",
    "    print(\"\\nTo find Time, enter Distance and Speed\")\n",
    "    distance = get_number(\"Enter distance (km): \")\n",
    "    speed = get_number(\"Enter speed (km/h): \")\n",
    "    time = distance / speed  # Time = Distance / Speed\n",
    "    print(f\"Time is {time:.2f} hours\")\n",
    "\n",
    "\n",
    "print(\"Welcome to Speed, Distance, Time Calculator!\")\n",
    "while True:\n",
    "    show_menu()\n",
    "    choice = input(\"Choose an option (1-4): \")\n",
    "\n",
    "    if choice == \"1\":\n",
    "        find_speed()\n",
    "    elif choice == \"2\":\n",
    "        find_distance()\n",
    "    elif choice == \"3\":\n",
    "        find_time()\n",
    "    elif choice == \"4\":\n",
    "        print(\"\\nGoodbye!\")\n",
    "        break\n",
    "    else:\n",
    "        print(\"Invalid choice! Please pick 1, 2, 3, or 4.\")"
   ]
  },
  {
   "cell_type": "code",
   "execution_count": null,
   "id": "59391fc7-afdd-4d71-abf9-fd4e7dd76806",
   "metadata": {},
   "outputs": [],
   "source": []
  }
 ],
 "metadata": {
  "kernelspec": {
   "display_name": "Python 3 (ipykernel)",
   "language": "python",
   "name": "python3"
  },
  "language_info": {
   "codemirror_mode": {
    "name": "ipython",
    "version": 3
   },
   "file_extension": ".py",
   "mimetype": "text/x-python",
   "name": "python",
   "nbconvert_exporter": "python",
   "pygments_lexer": "ipython3",
   "version": "3.12.7"
  }
 },
 "nbformat": 4,
 "nbformat_minor": 5
}
