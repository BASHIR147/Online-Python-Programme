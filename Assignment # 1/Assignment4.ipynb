{
 "cells": [
  {
   "cell_type": "markdown",
   "id": "6e4130ea-59ea-43d7-a2a4-74708772aac9",
   "metadata": {},
   "source": [
    "# ***Assignment 4***"
   ]
  },
  {
   "cell_type": "code",
   "execution_count": null,
   "id": "6f7f9ab0-d96d-46b8-b49c-6b36239515a3",
   "metadata": {},
   "outputs": [],
   "source": [
    "Q1\n",
    "\n",
    "text = 'hello python world'\n",
    "\n",
    "Replace spaces with underscores in the string (e.g., \"hello python world\" → \"hello_python_world\").\n",
    "\n",
    "Split the modified string (e.g., \"hello_python_world\" → ['hello', 'python', 'world']).\n",
    "\n",
    "Print all two results\n",
    "\n",
    "Hint: Use string methods"
   ]
  },
  {
   "cell_type": "code",
   "execution_count": 4,
   "id": "16ccb786-54fe-40cd-bfa3-aa980655e9a0",
   "metadata": {},
   "outputs": [
    {
     "name": "stdout",
     "output_type": "stream",
     "text": [
      "Modified text: hello_python_world\n",
      "Split text: ['hello', 'python', 'world']\n"
     ]
    }
   ],
   "source": [
    "\n",
    "text = 'hello python world'\n",
    "\n",
    "modified_text = text.replace(\" \", \"_\")\n",
    "\n",
    "split_text = modified_text.split(\"_\")\n",
    "\n",
    "print(\"Modified text:\", modified_text)\n",
    "print(\"Split text:\", split_text)"
   ]
  },
  {
   "cell_type": "code",
   "execution_count": null,
   "id": "bfb79f59-b05c-4491-bb7e-f8d7d1687c79",
   "metadata": {},
   "outputs": [],
   "source": []
  },
  {
   "cell_type": "code",
   "execution_count": null,
   "id": "21740bc9-5fe9-4f6b-a4d2-f1bc50869cda",
   "metadata": {},
   "outputs": [],
   "source": [
    "Q2\n",
    "\n",
    "You have a product code that follows the format \"SKU-12345-XYZ\".\n",
    "\n",
    "Find the first position of the dash (-).\n",
    "\n",
    "Count the number of dashes (-) in the product code.\n",
    "\n",
    "Remove the \"SKU-\" prefix and \"-XYZ\" suffix from the product code, Extract the numeric part 12345\n",
    "\n",
    "product_code = \"SKU-12345-XYZ\"\n",
    "\n",
    "Hint: Use String Methods\n",
    "\n"
   ]
  },
  {
   "cell_type": "code",
   "execution_count": 5,
   "id": "905b0d67-3213-4207-96d2-5e1cdb442ff0",
   "metadata": {},
   "outputs": [
    {
     "name": "stdout",
     "output_type": "stream",
     "text": [
      "First dash position: 3\n",
      "Number of dashes: 2\n",
      "Numeric part: 12345\n"
     ]
    }
   ],
   "source": [
    "\n",
    "product_code = \"SKU-12345-XYZ\"\n",
    "\n",
    "first_dash_pos = product_code.find(\"-\")\n",
    "\n",
    "dash_count = product_code.count(\"-\")\n",
    "\n",
    "numeric_part = product_code[4:-4]   # start after 'SKU-' (4 chars), end before '-XYZ' (4 chars)\n",
    "\n",
    "print(\"First dash position:\", first_dash_pos)\n",
    "print(\"Number of dashes:\", dash_count)\n",
    "print(\"Numeric part:\", numeric_part)"
   ]
  },
  {
   "cell_type": "code",
   "execution_count": null,
   "id": "a49c2021-aee0-4d34-8aff-b696c4e9e369",
   "metadata": {},
   "outputs": [],
   "source": []
  },
  {
   "cell_type": "code",
   "execution_count": null,
   "id": "1e7fcfdf-3283-41e8-8d03-0564bace6daa",
   "metadata": {},
   "outputs": [],
   "source": [
    "Q3\n",
    "\n",
    " Convert a string to Title Case.\n",
    "\n",
    "text_1 = \"hello world\""
   ]
  },
  {
   "cell_type": "code",
   "execution_count": 8,
   "id": "f013234f-1f14-4d8a-8b9b-e904d870f7f7",
   "metadata": {},
   "outputs": [
    {
     "name": "stdout",
     "output_type": "stream",
     "text": [
      "Hello World\n"
     ]
    }
   ],
   "source": [
    "text_1 = \"hello world\"\n",
    "\n",
    "title_case_text = text_1.title()\n",
    "\n",
    "print(title_case_text)"
   ]
  },
  {
   "cell_type": "code",
   "execution_count": null,
   "id": "3c67a340-3c7c-40ca-8f6c-5f6d2c077287",
   "metadata": {},
   "outputs": [],
   "source": []
  },
  {
   "cell_type": "code",
   "execution_count": null,
   "id": "c2bcdd12-193d-47a7-8026-49408303b6eb",
   "metadata": {},
   "outputs": [],
   "source": [
    "Q4 \n",
    "\n",
    "Capitalize the first letter of a string.\n",
    "\n",
    "text_2 = \"python programming\""
   ]
  },
  {
   "cell_type": "code",
   "execution_count": 9,
   "id": "a22c171a-950b-4af3-9c10-7fa622dea674",
   "metadata": {},
   "outputs": [
    {
     "name": "stdout",
     "output_type": "stream",
     "text": [
      "Python programming\n"
     ]
    }
   ],
   "source": [
    "text_2 = \"python programming\"\n",
    "\n",
    "capitalized_text = text_2.capitalize()\n",
    "\n",
    "print(capitalized_text)"
   ]
  },
  {
   "cell_type": "code",
   "execution_count": null,
   "id": "c2b3fb51-9161-4bcd-a8d5-4ed75c081578",
   "metadata": {},
   "outputs": [],
   "source": []
  },
  {
   "cell_type": "code",
   "execution_count": null,
   "id": "373c89c4-8000-4209-ade2-75c916970efc",
   "metadata": {},
   "outputs": [],
   "source": [
    "Q5\n",
    "    Given the string below, write Python code to:\n",
    "\n",
    "Convert the string so that each word starts with a capital letter\n",
    "\n",
    "Then swap the case of every letter in the resulting string\n",
    "\n",
    "Print the final result.\n",
    "\n",
    "text1 = \"learning PYTHON is AWESOME\""
   ]
  },
  {
   "cell_type": "code",
   "execution_count": 10,
   "id": "c75ac6f8-6a72-4b7b-9449-9dc4d2b0813a",
   "metadata": {},
   "outputs": [
    {
     "name": "stdout",
     "output_type": "stream",
     "text": [
      "lEARNING pYTHON iS aWESOME\n"
     ]
    }
   ],
   "source": [
    "text1 = \"learning PYTHON is AWESOME\"\n",
    "\n",
    "title_case = text1.title()\n",
    "\n",
    "final_result = title_case.swapcase()\n",
    "\n",
    "print(final_result)"
   ]
  },
  {
   "cell_type": "code",
   "execution_count": null,
   "id": "da2d47e5-5558-4900-be5e-2383420edf04",
   "metadata": {},
   "outputs": [],
   "source": []
  },
  {
   "cell_type": "code",
   "execution_count": null,
   "id": "238abfc3-a126-420d-86cb-8f0fb5ef2678",
   "metadata": {},
   "outputs": [],
   "source": [
    "Q6\n",
    "  Write Python code to check and print whether the string satisfies the following:\n",
    "\n",
    "Is alphanumeric?\n",
    "\n",
    "Is alphabetic only?\n",
    "\n",
    "text2 = \"HelloWorld123\"\n",
    "  "
   ]
  },
  {
   "cell_type": "code",
   "execution_count": 11,
   "id": "99676cc8-8bd1-499d-9379-ee5cf96d5f7f",
   "metadata": {},
   "outputs": [
    {
     "name": "stdout",
     "output_type": "stream",
     "text": [
      "Is alphanumeric? True\n",
      "Is alphabetic only? False\n"
     ]
    }
   ],
   "source": [
    "text2 = \"HelloWorld123\"\n",
    "\n",
    "print(\"Is alphanumeric?\", text2.isalnum())\n",
    "\n",
    "print(\"Is alphabetic only?\", text2.isalpha())"
   ]
  },
  {
   "cell_type": "code",
   "execution_count": null,
   "id": "36a77ccc-46cc-422c-84b4-50e10ea3d0d2",
   "metadata": {},
   "outputs": [],
   "source": []
  },
  {
   "cell_type": "code",
   "execution_count": null,
   "id": "4c0a7555-7428-45a4-985e-6e6db3aa1e35",
   "metadata": {},
   "outputs": [],
   "source": [
    "Q7\n",
    "   Write Python code to check and print whether the string satisfies the following:\n",
    "\n",
    "Is the string made up of digits only?\n",
    "\n",
    "Is the string all lowercase?\n",
    "\n",
    "text3 = \"helloworld\""
   ]
  },
  {
   "cell_type": "code",
   "execution_count": 12,
   "id": "4d84c2f9-7975-4604-b15e-6e42a63c7d52",
   "metadata": {},
   "outputs": [
    {
     "name": "stdout",
     "output_type": "stream",
     "text": [
      "Is digits only? False\n",
      "Is all lowercase? True\n"
     ]
    }
   ],
   "source": [
    "text3 = \"helloworld\"\n",
    "\n",
    "print(\"Is digits only?\", text3.isdigit())\n",
    "\n",
    "print(\"Is all lowercase?\", text3.islower())"
   ]
  },
  {
   "cell_type": "code",
   "execution_count": null,
   "id": "9be4a9fd-a9ae-4a62-a61d-2d1a9e358dac",
   "metadata": {},
   "outputs": [],
   "source": []
  },
  {
   "cell_type": "code",
   "execution_count": null,
   "id": "86ba0b69-e58b-4237-8fb9-9eb1732c3d8d",
   "metadata": {},
   "outputs": [],
   "source": [
    "Q8\n",
    "   Write Python code to check and print whether the string satisfies the following:\n",
    "\n",
    "Is the string all uppercase?\n",
    "\n",
    "Is the string titlecased?\n",
    "\n",
    "text4 = 'Hi We Are Learning Python'"
   ]
  },
  {
   "cell_type": "code",
   "execution_count": 14,
   "id": "454b51a5-c61a-4d03-a02d-ead16fdc997e",
   "metadata": {},
   "outputs": [
    {
     "name": "stdout",
     "output_type": "stream",
     "text": [
      "Is all uppercase? False\n",
      "Is titlecased? True\n"
     ]
    }
   ],
   "source": [
    "text4 = 'Hi We Are Learning Python'\n",
    "\n",
    "print(\"Is all uppercase?\", text4.isupper())\n",
    "\n",
    "print(\"Is titlecased?\", text4.istitle())"
   ]
  },
  {
   "cell_type": "code",
   "execution_count": null,
   "id": "55061a5a-e091-4038-9d0c-baef14d58ea1",
   "metadata": {},
   "outputs": [],
   "source": []
  },
  {
   "cell_type": "code",
   "execution_count": null,
   "id": "31d5faba-5806-4e0a-b26b-9277f72c1905",
   "metadata": {},
   "outputs": [],
   "source": [
    "Q9\n",
    "  Write Python code to check and print whether the string:\n",
    "\n",
    "Starts with \"data\"\n",
    "\n",
    "Ends with \".csv\"\n",
    "\n",
    "text5 = \"data_report_2023.csv\""
   ]
  },
  {
   "cell_type": "code",
   "execution_count": null,
   "id": "691ccea5-023d-4fc0-9fc2-630dba592262",
   "metadata": {},
   "outputs": [],
   "source": [
    "text5 = \"data_report_2023.csv\"\n",
    "\n",
    "print(\"Starts with 'data'?\", text5.startswith(\"data\"))\n",
    "\n",
    "print(\"Ends with '.csv'?\", text5.endswith(\".csv\"))"
   ]
  },
  {
   "cell_type": "code",
   "execution_count": null,
   "id": "27868332-0c51-4b4d-a3ec-a7e93e79eb0b",
   "metadata": {},
   "outputs": [],
   "source": []
  },
  {
   "cell_type": "code",
   "execution_count": null,
   "id": "fb446a6a-b1a3-4c58-b7e3-745ce86e139b",
   "metadata": {},
   "outputs": [],
   "source": [
    "Q10\n",
    "   Write Python code to:\n",
    "\n",
    "Count how many times \"banana\" appears in the string.\n",
    "\n",
    "fruit = \"banana bandana banana\""
   ]
  },
  {
   "cell_type": "code",
   "execution_count": 15,
   "id": "b668bb54-27fb-42d8-820f-37038327480a",
   "metadata": {},
   "outputs": [
    {
     "name": "stdout",
     "output_type": "stream",
     "text": [
      "Number of times 'banana' appears: 2\n"
     ]
    }
   ],
   "source": [
    "fruit = \"banana bandana banana\"\n",
    "\n",
    "count = fruit.count(\"banana\")\n",
    "\n",
    "print(\"Number of times 'banana' appears:\", count)"
   ]
  },
  {
   "cell_type": "code",
   "execution_count": null,
   "id": "1047f71b-df16-4a11-8349-a0dc6f7e86f3",
   "metadata": {},
   "outputs": [],
   "source": []
  }
 ],
 "metadata": {
  "kernelspec": {
   "display_name": "Python 3 (ipykernel)",
   "language": "python",
   "name": "python3"
  },
  "language_info": {
   "codemirror_mode": {
    "name": "ipython",
    "version": 3
   },
   "file_extension": ".py",
   "mimetype": "text/x-python",
   "name": "python",
   "nbconvert_exporter": "python",
   "pygments_lexer": "ipython3",
   "version": "3.12.7"
  }
 },
 "nbformat": 4,
 "nbformat_minor": 5
}
