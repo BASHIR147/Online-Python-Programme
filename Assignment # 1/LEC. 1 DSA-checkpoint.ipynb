{
 "cells": [
  {
   "cell_type": "markdown",
   "id": "bd68a609-0d01-4720-bbfa-26d37d66df48",
   "metadata": {},
   "source": [
    "# *** str   float   str ***"
   ]
  },
  {
   "cell_type": "code",
   "execution_count": 11,
   "id": "3c8a232f-3dc1-470b-a358-1fbf8c1e16a3",
   "metadata": {},
   "outputs": [
    {
     "data": {
      "text/plain": [
       "'Hello World'"
      ]
     },
     "execution_count": 11,
     "metadata": {},
     "output_type": "execute_result"
    }
   ],
   "source": [
    "\"Hello World\""
   ]
  },
  {
   "cell_type": "code",
   "execution_count": 4,
   "id": "99a8d10a-712a-4d0b-ae85-fb9a4acb33f8",
   "metadata": {},
   "outputs": [
    {
     "name": "stdout",
     "output_type": "stream",
     "text": [
      "Hello World\n",
      "Hello World\n",
      "ali's house\n"
     ]
    }
   ],
   "source": [
    "# str\n",
    "print('Hello World')\n",
    "print(\"Hello World\")\n",
    "print(\"ali's house\")"
   ]
  },
  {
   "cell_type": "code",
   "execution_count": 5,
   "id": "1758ccb9-7986-44e6-87c3-101b6d75fde5",
   "metadata": {},
   "outputs": [
    {
     "data": {
      "text/plain": [
       "'My Name is Bashir'"
      ]
     },
     "execution_count": 5,
     "metadata": {},
     "output_type": "execute_result"
    }
   ],
   "source": [
    "\"My Name is Bashir\""
   ]
  },
  {
   "cell_type": "code",
   "execution_count": null,
   "id": "d2312305-6b71-4399-ba87-57f27c2bd4dd",
   "metadata": {},
   "outputs": [],
   "source": []
  },
  {
   "cell_type": "code",
   "execution_count": 7,
   "id": "7922a217-bcff-4c69-bae2-6fc4dfddcaa8",
   "metadata": {},
   "outputs": [
    {
     "name": "stdout",
     "output_type": "stream",
     "text": [
      "2000\n",
      "<class 'int'>\n"
     ]
    }
   ],
   "source": [
    "# int\n",
    "print(2000)\n",
    "print(type(2000))"
   ]
  },
  {
   "cell_type": "code",
   "execution_count": 9,
   "id": "c431f17d-9dbf-4bb6-81a6-b3532aabf4b2",
   "metadata": {},
   "outputs": [
    {
     "name": "stdout",
     "output_type": "stream",
     "text": [
      "18.4\n",
      "<class 'float'>\n"
     ]
    }
   ],
   "source": [
    "# float\n",
    "print(18.4)\n",
    "print(type(18.4))"
   ]
  },
  {
   "cell_type": "code",
   "execution_count": null,
   "id": "f40ebe18-611e-42cf-9a05-ec08a6254802",
   "metadata": {},
   "outputs": [],
   "source": []
  },
  {
   "cell_type": "markdown",
   "id": "68b78060-ef4c-45d8-9b56-2ccbfc68edbd",
   "metadata": {},
   "source": [
    "## *** TYPE CASTING VARIABLES ***"
   ]
  },
  {
   "cell_type": "code",
   "execution_count": 15,
   "id": "7188e421-fb78-4dda-ac38-9237532cb401",
   "metadata": {},
   "outputs": [
    {
     "name": "stdout",
     "output_type": "stream",
     "text": [
      "12\n"
     ]
    },
    {
     "ename": "TypeError",
     "evalue": "int() argument must be a string, a bytes-like object or a real number, not 'type'",
     "output_type": "error",
     "traceback": [
      "\u001b[1;31m---------------------------------------------------------------------------\u001b[0m",
      "\u001b[1;31mTypeError\u001b[0m                                 Traceback (most recent call last)",
      "Cell \u001b[1;32mIn[15], line 5\u001b[0m\n\u001b[0;32m      1\u001b[0m \u001b[38;5;66;03m# CAN PRINT ALSO\u001b[39;00m\n\u001b[0;32m      2\u001b[0m \u001b[38;5;66;03m# CONVERT FLOAT 12.36 TO INT\u001b[39;00m\n\u001b[0;32m      4\u001b[0m \u001b[38;5;28mprint\u001b[39m(\u001b[38;5;28mint\u001b[39m(\u001b[38;5;28mfloat\u001b[39m(\u001b[38;5;241m12.36\u001b[39m)))\n\u001b[1;32m----> 5\u001b[0m \u001b[38;5;28mprint\u001b[39m(\u001b[38;5;28mtype\u001b[39m(\u001b[38;5;28mint\u001b[39m(\u001b[38;5;28mfloat\u001b[39m)))\n",
      "\u001b[1;31mTypeError\u001b[0m: int() argument must be a string, a bytes-like object or a real number, not 'type'"
     ]
    }
   ],
   "source": [
    "# CAN PRINT ALSO\n",
    "# CONVERT FLOAT 12.36 TO INT\n",
    "\n",
    "print(int(float(12.36)))\n",
    "print(type(int(float)))"
   ]
  },
  {
   "cell_type": "code",
   "execution_count": 16,
   "id": "14d1f20a-5529-4f1e-bc0f-48b2b6916884",
   "metadata": {},
   "outputs": [
    {
     "name": "stdout",
     "output_type": "stream",
     "text": [
      "12\n",
      "<class 'type'>\n"
     ]
    }
   ],
   "source": [
    "print(int(float(12.36)))\n",
    "print(type(int))"
   ]
  },
  {
   "cell_type": "markdown",
   "id": "70f7d531-c276-403f-acbf-7457a41cd25c",
   "metadata": {},
   "source": [
    "### Convert str \"2000\" to int and show the result Print the type of the converted \"2000\""
   ]
  },
  {
   "cell_type": "code",
   "execution_count": 26,
   "id": "d6e9a984-f6ff-4b0c-a62a-43c2c9d63d4e",
   "metadata": {},
   "outputs": [
    {
     "name": "stdout",
     "output_type": "stream",
     "text": [
      "2000\n",
      "<class 'type'>\n"
     ]
    }
   ],
   "source": [
    "print(int(str(\"2000\")))\n",
    "print(type(int))\n"
   ]
  },
  {
   "cell_type": "code",
   "execution_count": 27,
   "id": "e1a6544d-50b1-4e67-93f8-952a08a69f27",
   "metadata": {},
   "outputs": [
    {
     "name": "stdout",
     "output_type": "stream",
     "text": [
      "2000\n",
      "<class 'int'>\n"
     ]
    }
   ],
   "source": [
    "# for print int with class and type:\n",
    "\n",
    "print(int(str('2000')))\n",
    "print(type(int(\"2000\")))"
   ]
  },
  {
   "cell_type": "code",
   "execution_count": 30,
   "id": "2369c28a-f05f-498f-bd63-cfa79f43e26a",
   "metadata": {},
   "outputs": [
    {
     "name": "stdout",
     "output_type": "stream",
     "text": [
      "34\n",
      "<class 'int'>\n"
     ]
    }
   ],
   "source": [
    "# for print str wit decimal:\n",
    "\n",
    "print(int(float('34.88')))\n",
    "print(type(int(float(\"34.88\"))))"
   ]
  },
  {
   "cell_type": "code",
   "execution_count": null,
   "id": "25adb925-18d8-4a0d-a04c-50e11fa6765c",
   "metadata": {},
   "outputs": [],
   "source": []
  },
  {
   "cell_type": "code",
   "execution_count": 32,
   "id": "69988788-6d23-4062-ad38-2adadb623e2e",
   "metadata": {},
   "outputs": [
    {
     "name": "stdout",
     "output_type": "stream",
     "text": [
      "123\n",
      "<class 'str'>\n"
     ]
    }
   ],
   "source": [
    "# Convert int into str \n",
    "\n",
    "print(str(123))\n",
    "print(type(str(123)))\n"
   ]
  },
  {
   "cell_type": "code",
   "execution_count": 36,
   "id": "482f1004-69f3-4340-8095-a5437371e03d",
   "metadata": {},
   "outputs": [
    {
     "name": "stdout",
     "output_type": "stream",
     "text": [
      "4500\n",
      "<class 'int'>\n"
     ]
    }
   ],
   "source": [
    "# Convert str into int\n",
    "\n",
    "print(int(\"4500\"))\n",
    "print(type(int(\"4500\")))\n",
    "\n"
   ]
  },
  {
   "cell_type": "code",
   "execution_count": 37,
   "id": "fca8a4b7-05e4-4486-8091-ee74f6722266",
   "metadata": {},
   "outputs": [
    {
     "name": "stdout",
     "output_type": "stream",
     "text": [
      "66.98\n",
      "<class 'str'>\n"
     ]
    }
   ],
   "source": [
    "# Convert float into str\n",
    "\n",
    "print(str(float(66.98)))\n",
    "print(type(str(66.88)))"
   ]
  },
  {
   "cell_type": "code",
   "execution_count": null,
   "id": "7f96c53e-0443-4d29-9ed5-bbddb8e365b1",
   "metadata": {},
   "outputs": [],
   "source": []
  }
 ],
 "metadata": {
  "kernelspec": {
   "display_name": "Python 3 (ipykernel)",
   "language": "python",
   "name": "python3"
  },
  "language_info": {
   "codemirror_mode": {
    "name": "ipython",
    "version": 3
   },
   "file_extension": ".py",
   "mimetype": "text/x-python",
   "name": "python",
   "nbconvert_exporter": "python",
   "pygments_lexer": "ipython3",
   "version": "3.12.7"
  }
 },
 "nbformat": 4,
 "nbformat_minor": 5
}
