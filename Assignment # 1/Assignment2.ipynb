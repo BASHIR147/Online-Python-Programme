{
 "cells": [
  {
   "cell_type": "markdown",
   "id": "a587f3a9-84a7-4f36-b600-8ebbd6d6c5ee",
   "metadata": {},
   "source": [
    "# Q1\n",
    "                                \n"
   ]
  },
  {
   "cell_type": "code",
   "execution_count": null,
   "id": "cae85ca3-7d2c-4b2c-9cee-1c5d0fe97374",
   "metadata": {},
   "outputs": [],
   "source": [
    "Write a program that takes two numbers(a = 15, b= 4) and prints their"
   ]
  },
  {
   "cell_type": "markdown",
   "id": "076f1d44-5361-44a1-865d-71c18fdbdb2c",
   "metadata": {},
   "source": [
    "# sum"
   ]
  },
  {
   "cell_type": "markdown",
   "id": "725cb9bd-7016-4d44-9b60-9ed5fb63d220",
   "metadata": {},
   "source": [
    "a = 15\n",
    "b = 14\n",
    "\n",
    "sum = a + b\n",
    "print(\"The sum of a and b is:\", sum)"
   ]
  },
  {
   "cell_type": "markdown",
   "id": "1648a24c-0a9a-4af8-90da-64d60cd9ea21",
   "metadata": {},
   "source": [
    "# Difference"
   ]
  },
  {
   "cell_type": "code",
   "execution_count": 8,
   "id": "bceb1200-2516-45ad-aa32-0ad1f788a35b",
   "metadata": {},
   "outputs": [
    {
     "name": "stdout",
     "output_type": "stream",
     "text": [
      "The difference of a and b is: 1\n"
     ]
    }
   ],
   "source": [
    "a = 15\n",
    "b =14\n",
    "\n",
    "difference = a - b\n",
    "print(\"The difference of a and b is:\", difference)"
   ]
  },
  {
   "cell_type": "markdown",
   "id": "06d05c3f-2f6d-4bda-a9b1-9b7980d55733",
   "metadata": {},
   "source": [
    "# Product"
   ]
  },
  {
   "cell_type": "code",
   "execution_count": 9,
   "id": "df0cb55c-c4dc-40c6-a9f5-c19d400d4683",
   "metadata": {},
   "outputs": [
    {
     "name": "stdout",
     "output_type": "stream",
     "text": [
      "The product of a and b is: 225\n"
     ]
    }
   ],
   "source": [
    "a = 15\n",
    "b = 15\n",
    "\n",
    "product = a * b\n",
    "print(\"The product of a and b is:\", product)"
   ]
  },
  {
   "cell_type": "markdown",
   "id": "c4a867be-58f3-4d91-9978-6628e513aca1",
   "metadata": {},
   "source": [
    "# Division"
   ]
  },
  {
   "cell_type": "code",
   "execution_count": 12,
   "id": "a4b39295-9926-4e88-9282-495f7b72c23a",
   "metadata": {},
   "outputs": [
    {
     "name": "stdout",
     "output_type": "stream",
     "text": [
      " The division of a and b is: 1.0714285714285714\n"
     ]
    }
   ],
   "source": [
    "a = 15\n",
    "b =14\n",
    "\n",
    "division = a / b\n",
    "print(\" The division of a by b is:\", division)"
   ]
  },
  {
   "cell_type": "markdown",
   "id": "5dc03b12-0fe4-458c-ab6f-3b6edc8ad7c1",
   "metadata": {},
   "source": [
    "# Floor Division //"
   ]
  },
  {
   "cell_type": "code",
   "execution_count": 17,
   "id": "287bd675-1001-4035-83e8-baa8ffee508a",
   "metadata": {},
   "outputs": [
    {
     "name": "stdout",
     "output_type": "stream",
     "text": [
      "The floor division of a by b is: 1\n"
     ]
    }
   ],
   "source": [
    "a = 15\n",
    "b = 14\n",
    "\n",
    "floor_division = a // b\n",
    "print(\"The floor division of a by b is:\", floor_division)"
   ]
  },
  {
   "cell_type": "markdown",
   "id": "6d45b222-4134-4d37-aeb2-eaa1925f10c7",
   "metadata": {},
   "source": [
    "# Modulus ## reminder"
   ]
  },
  {
   "cell_type": "markdown",
   "id": "41868a00-76ae-403d-8e77-9dee3cab246d",
   "metadata": {},
   "source": [
    "a = 15\n",
    "b = 14\n",
    "\n",
    "reminder = a % b\n",
    "print(\"The reminder when a is divided by b:\", reminder)"
   ]
  },
  {
   "cell_type": "markdown",
   "id": "3534de0e-b3ea-46d4-a6cf-17f03550bd08",
   "metadata": {},
   "source": [
    "# Q2"
   ]
  },
  {
   "cell_type": "code",
   "execution_count": null,
   "id": "09703e0c-4965-49dd-bfb4-a5577663e607",
   "metadata": {},
   "outputs": [],
   "source": [
    "Check the type and convert: (num1 = 10, num2 = 5.6, num3 = 4.43, num4 = '23')\n",
    "Integer to float\n",
    "Flot to integer\n",
    "Float to String\n",
    "String to Integer"
   ]
  },
  {
   "cell_type": "code",
   "execution_count": 27,
   "id": "34e95295-bd36-436e-a543-a8f73b477954",
   "metadata": {},
   "outputs": [
    {
     "name": "stdout",
     "output_type": "stream",
     "text": [
      "10.0\n",
      "5\n",
      "4.43\n",
      "23\n"
     ]
    }
   ],
   "source": [
    "num1 = 10\n",
    "num2 = 5.6\n",
    "num3 = 4.43\n",
    "num4 = \"23\"\n",
    "\n",
    "print(float(int(num1)))\n",
    "print(int(float(num2)))\n",
    "print(str(float(num3)))\n",
    "print(int(str(num4)))\n"
   ]
  },
  {
   "cell_type": "markdown",
   "id": "bf6e6b93-ae47-4f32-9418-2582dec0aba6",
   "metadata": {},
   "source": [
    "# Q3  Variable"
   ]
  },
  {
   "cell_type": "raw",
   "id": "fe15e1db-f06c-43f1-b214-8262ccd74621",
   "metadata": {},
   "source": [
    "Write a code to store your favorite food in a avariabe and print it."
   ]
  },
  {
   "cell_type": "code",
   "execution_count": 11,
   "id": "b1d9f848-d17c-491c-b016-978fb1dd0958",
   "metadata": {},
   "outputs": [
    {
     "name": "stdout",
     "output_type": "stream",
     "text": [
      "Mutton Kunna\n"
     ]
    }
   ],
   "source": [
    "favorite_food = 'Mutton Kunna'\n",
    "print(favorite_food)"
   ]
  },
  {
   "cell_type": "markdown",
   "id": "afe1b8f3-15b4-4ea7-b316-db93891e8017",
   "metadata": {},
   "source": [
    "# Q4"
   ]
  },
  {
   "cell_type": "code",
   "execution_count": null,
   "id": "495be966-fe6c-4eee-bddc-73ab008b3d3c",
   "metadata": {},
   "outputs": [],
   "source": [
    "\"I have 2 apples and 33 mangoes. \n",
    "How many fruits do i have in total?\""
   ]
  },
  {
   "cell_type": "code",
   "execution_count": 30,
   "id": "fd7c732b-02fa-4f11-bfad-e2b029ab52ca",
   "metadata": {},
   "outputs": [
    {
     "name": "stdout",
     "output_type": "stream",
     "text": [
      "Totoal Numbers of fruits: 55\n"
     ]
    }
   ],
   "source": [
    "apple = 22\n",
    "mangoes = 33\n",
    "\n",
    "total_fruits = apple + mangoes\n",
    "print('Totoal Numbers of fruits:', total_fruits)"
   ]
  },
  {
   "cell_type": "markdown",
   "id": "ef757550-32ec-4a92-b372-f23e74e1760a",
   "metadata": {},
   "source": [
    "# Q5"
   ]
  },
  {
   "cell_type": "code",
   "execution_count": null,
   "id": "8a148280-5908-4d96-8f95-76b08673cda5",
   "metadata": {},
   "outputs": [],
   "source": [
    "Store in avariable. Write your name, Your age, Add 1 to your age\n",
    "using a variable, print final age."
   ]
  },
  {
   "cell_type": "code",
   "execution_count": 1,
   "id": "d69547af-80c8-482b-9ff9-a86430794db7",
   "metadata": {},
   "outputs": [
    {
     "name": "stdout",
     "output_type": "stream",
     "text": [
      "Name: Bashir\n",
      "Final_Age: 39\n"
     ]
    }
   ],
   "source": [
    "name = \"Bashir\"\n",
    "age = 38\n",
    "\n",
    "new_age = age + 1\n",
    "print(\"Name:\", name)\n",
    "print('Final_Age:', new_age)"
   ]
  },
  {
   "cell_type": "markdown",
   "id": "ac40b107-61d3-4d12-9582-10ab22be4abe",
   "metadata": {},
   "source": [
    "# Q6"
   ]
  },
  {
   "cell_type": "markdown",
   "id": "6b460816-9926-481d-ad2e-fc3a079fc46a",
   "metadata": {},
   "source": [
    "add a and b\n",
    "Subtract c and a\n",
    "Multiply d and b\n",
    "Divide c and d (float division)\n",
    "Find modulus of c divided by d\n",
    "Square of (d+b)"
   ]
  },
  {
   "cell_type": "code",
   "execution_count": null,
   "id": "fe8a4e1f-c352-444f-a67c-376575504f8f",
   "metadata": {},
   "outputs": [],
   "source": []
  },
  {
   "cell_type": "code",
   "execution_count": 3,
   "id": "24ad0b26-25f1-44b6-860e-44a02307645d",
   "metadata": {},
   "outputs": [
    {
     "name": "stdout",
     "output_type": "stream",
     "text": [
      "3\n"
     ]
    }
   ],
   "source": [
    "a = 2\n",
    "b = 1\n",
    "\n",
    "c = a + b\n",
    "print(c)\n",
    "\n"
   ]
  },
  {
   "cell_type": "code",
   "execution_count": 4,
   "id": "a7307d34-09d1-44ab-a085-bc447d08f1aa",
   "metadata": {},
   "outputs": [
    {
     "name": "stdout",
     "output_type": "stream",
     "text": [
      "4\n"
     ]
    }
   ],
   "source": [
    "c = 6\n",
    "a = 2\n",
    "\n",
    "b = c - a\n",
    "print(b)"
   ]
  },
  {
   "cell_type": "code",
   "execution_count": 5,
   "id": "3851e5fc-1fc4-4d8d-babd-a7593c793730",
   "metadata": {},
   "outputs": [
    {
     "name": "stdout",
     "output_type": "stream",
     "text": [
      "3\n"
     ]
    }
   ],
   "source": [
    "d = 3\n",
    "b = 1\n",
    "\n",
    "a = d * b\n",
    "print(a)"
   ]
  },
  {
   "cell_type": "code",
   "execution_count": 6,
   "id": "cea8e6c5-cb91-49b1-8a57-108b3fa2b933",
   "metadata": {},
   "outputs": [
    {
     "name": "stdout",
     "output_type": "stream",
     "text": [
      "2.0\n"
     ]
    }
   ],
   "source": [
    "c = 6\n",
    "d = 3\n",
    "\n",
    "b = c / d\n",
    "print(b)"
   ]
  },
  {
   "cell_type": "code",
   "execution_count": 7,
   "id": "9dcbfd30-7612-4fc9-89fe-31f9008a7acb",
   "metadata": {},
   "outputs": [
    {
     "name": "stdout",
     "output_type": "stream",
     "text": [
      "0\n"
     ]
    }
   ],
   "source": [
    "c = 6\n",
    "d = 3\n",
    "\n",
    "reminder = 6 % 3\n",
    "print(reminder)\n"
   ]
  },
  {
   "cell_type": "code",
   "execution_count": 8,
   "id": "b3376fbc-2e2a-43a2-bb39-36319e3f967e",
   "metadata": {},
   "outputs": [
    {
     "name": "stdout",
     "output_type": "stream",
     "text": [
      "25\n"
     ]
    }
   ],
   "source": [
    "d = 3\n",
    "a =2\n",
    "\n",
    "result = (d + a) **2\n",
    "print(result)"
   ]
  },
  {
   "cell_type": "markdown",
   "id": "d9d239b3-e058-44fb-8475-b1ac7ee575b4",
   "metadata": {},
   "source": [
    "# Q7"
   ]
  },
  {
   "cell_type": "code",
   "execution_count": null,
   "id": "7bbd2a96-3da6-44f4-9b85-02b5f6cfa9f1",
   "metadata": {},
   "outputs": [],
   "source": [
    "Convert a to integer then add to c.\n",
    "Convert b to float then multiply by c.\n",
    "Convert c to integer then add to c."
   ]
  },
  {
   "cell_type": "code",
   "execution_count": 16,
   "id": "9e0d1771-a6d0-4f3a-9c38-305a6811f0f1",
   "metadata": {},
   "outputs": [
    {
     "name": "stdout",
     "output_type": "stream",
     "text": [
      "8.3\n"
     ]
    }
   ],
   "source": [
    "a = '2'             # convert a to integer then add to c.\n",
    "c = 6.3\n",
    "\n",
    "\n",
    "a = int(a)\n",
    "b = a + c\n",
    "\n",
    "print(b)"
   ]
  },
  {
   "cell_type": "code",
   "execution_count": 17,
   "id": "a7efbebc-7c47-4102-9cb9-6cd4b248b2db",
   "metadata": {},
   "outputs": [
    {
     "name": "stdout",
     "output_type": "stream",
     "text": [
      "69.3\n"
     ]
    }
   ],
   "source": [
    "b = '11'              # convert a to integer then add to c.\n",
    "c = 6.3\n",
    "\n",
    "b = float(b)\n",
    "x = b * c\n",
    "print(x)"
   ]
  },
  {
   "cell_type": "code",
   "execution_count": 19,
   "id": "fb8bbf89-b64d-4fa9-af91-66a87beeeaff",
   "metadata": {},
   "outputs": [
    {
     "name": "stdout",
     "output_type": "stream",
     "text": [
      "12\n"
     ]
    }
   ],
   "source": [
    "c = 6.3                #  convert c to integer then add to c.\n",
    "c = int(c)\n",
    "\n",
    "y = c + c\n",
    "print(y)"
   ]
  },
  {
   "cell_type": "markdown",
   "id": "51761b99-8486-41b6-acb7-f7c597d24dd7",
   "metadata": {},
   "source": [
    "# Q8"
   ]
  },
  {
   "cell_type": "code",
   "execution_count": null,
   "id": "344b5c9f-69e7-40ea-bd15-4549dfad1b17",
   "metadata": {},
   "outputs": [],
   "source": [
    "You were 20 years old in the years 2020. Now add 5 more years to your age. What is your curren age noe?\n",
    "store age in a variable called age. Print final ouput in same variable."
   ]
  },
  {
   "cell_type": "code",
   "execution_count": 3,
   "id": "48c4dd96-ce25-4d3c-be37-984b4e854d99",
   "metadata": {},
   "outputs": [
    {
     "name": "stdout",
     "output_type": "stream",
     "text": [
      "25\n"
     ]
    }
   ],
   "source": [
    "age = 20 + (25 - 20) \n",
    "print(age)"
   ]
  },
  {
   "cell_type": "markdown",
   "id": "2665d7a2-219f-4941-b157-f25bcd34d8d3",
   "metadata": {},
   "source": [
    "# Q9"
   ]
  },
  {
   "cell_type": "code",
   "execution_count": null,
   "id": "61512687-f025-4780-b270-4a38d83d9cfe",
   "metadata": {},
   "outputs": [],
   "source": [
    "You had 12 books, and you gave 4 to your friend. How many books do you have now?\n",
    "Store books in a variable called books.\n",
    "Print final output in same variable."
   ]
  },
  {
   "cell_type": "code",
   "execution_count": 6,
   "id": "0f4d4237-b08f-4d71-a1c5-5106b80f9932",
   "metadata": {},
   "outputs": [
    {
     "name": "stdout",
     "output_type": "stream",
     "text": [
      "8\n"
     ]
    }
   ],
   "source": [
    "books = 12 - 4\n",
    "print(books)"
   ]
  },
  {
   "cell_type": "markdown",
   "id": "02cac63f-5d72-4165-b43d-027922cf5ef6",
   "metadata": {},
   "source": [
    "# Q10"
   ]
  },
  {
   "cell_type": "code",
   "execution_count": null,
   "id": "b17dc5fa-e4b5-4338-b8be-c41ac0b7c97b",
   "metadata": {},
   "outputs": [],
   "source": [
    "You baked 5 cookies. You baked 3 times more cookies toda. How many cookies did you bake today?\n",
    "Store cookies in a variable called cookies. Print final output in same variable."
   ]
  },
  {
   "cell_type": "code",
   "execution_count": 7,
   "id": "17b932e7-00e2-4685-a26b-7d9a220f2d5f",
   "metadata": {},
   "outputs": [
    {
     "name": "stdout",
     "output_type": "stream",
     "text": [
      "15\n"
     ]
    }
   ],
   "source": [
    "cookies = 5 * 3\n",
    "\n",
    "print(cookies)"
   ]
  },
  {
   "cell_type": "code",
   "execution_count": null,
   "id": "4c7ec1bb-04a9-4162-9d31-241ba2ddd3b1",
   "metadata": {},
   "outputs": [],
   "source": []
  }
 ],
 "metadata": {
  "kernelspec": {
   "display_name": "Python 3 (ipykernel)",
   "language": "python",
   "name": "python3"
  },
  "language_info": {
   "codemirror_mode": {
    "name": "ipython",
    "version": 3
   },
   "file_extension": ".py",
   "mimetype": "text/x-python",
   "name": "python",
   "nbconvert_exporter": "python",
   "pygments_lexer": "ipython3",
   "version": "3.12.7"
  }
 },
 "nbformat": 4,
 "nbformat_minor": 5
}
