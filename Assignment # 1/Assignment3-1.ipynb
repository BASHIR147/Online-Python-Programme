{
 "cells": [
  {
   "cell_type": "markdown",
   "id": "c297fb93-72bf-47e7-ade8-273e0f76526a",
   "metadata": {},
   "source": [
    "# Assignment 3.1"
   ]
  },
  {
   "cell_type": "code",
   "execution_count": null,
   "id": "750f1aaf-8d1b-4704-94f0-be0b2d6c050c",
   "metadata": {},
   "outputs": [],
   "source": [
    "Q1\n",
    "animals = [\"cat\", \"dog\", \"rabbit\", \"tiger\", \"elephant\"]\n",
    "Print \"tiger\" by indexing\n",
    "- Print \"rabbit by negative indexing\n",
    "- Print \"rabbit\" to \"elephant\" by slicing"
   ]
  },
  {
   "cell_type": "code",
   "execution_count": 3,
   "id": "589bcfec-3ef3-4ae5-8c20-ee8063caccb6",
   "metadata": {},
   "outputs": [
    {
     "name": "stdout",
     "output_type": "stream",
     "text": [
      "tiger\n",
      "rabbit\n",
      "['rabbit', 'tiger', 'elephant']\n"
     ]
    }
   ],
   "source": [
    "animals = [\"cat\", \"dog\", \"rabbit\", \"tiger\", \"elephant\"]\n",
    "\n",
    "print(animals[3])\n",
    "print(animals[-3])\n",
    "print(animals[2:5])"
   ]
  },
  {
   "cell_type": "code",
   "execution_count": null,
   "id": "a114a02f-2a64-4b2a-aa00-ee73fcd09ee0",
   "metadata": {},
   "outputs": [],
   "source": []
  },
  {
   "cell_type": "code",
   "execution_count": null,
   "id": "d3d18079-f0e0-48ec-9c48-709e11ec5266",
   "metadata": {},
   "outputs": [],
   "source": [
    "Q2.\n",
    "\n",
    "Add \"lion\" to the list of animals by list method append\n",
    "\n",
    "Remove \"rabbit\" from the list by list method remove\n",
    "\n",
    "Print the updated list."
   ]
  },
  {
   "cell_type": "code",
   "execution_count": 4,
   "id": "5742eecc-34fc-4c90-b1a2-7c452752d634",
   "metadata": {},
   "outputs": [
    {
     "name": "stdout",
     "output_type": "stream",
     "text": [
      "['cat', 'dog', 'tiger', 'elephant', 'lion']\n"
     ]
    }
   ],
   "source": [
    "animals = [\"cat\", \"dog\", \"rabbit\", \"tiger\", \"elephant\"]\n",
    "\n",
    "animals.append(\"lion\")\n",
    "animals.remove(\"rabbit\")\n",
    "print(animals)\n",
    "\n"
   ]
  },
  {
   "cell_type": "code",
   "execution_count": null,
   "id": "9890465f-c346-4be4-bb8c-17e853bac3c4",
   "metadata": {},
   "outputs": [],
   "source": []
  },
  {
   "cell_type": "code",
   "execution_count": null,
   "id": "1f2d88a8-0a6f-43a3-8eb6-feb9c5fd6391",
   "metadata": {},
   "outputs": [],
   "source": [
    "Q3.\n",
    "\n",
    "basket = [[\"apple\", \"banana\", \"mango\"], [\"red\", \"blue\", \"green\", \"black\"]]\n",
    "\n",
    "print list of fruits\n",
    "print list of colors\n",
    "print second fruit by negative indexing\n",
    "replace color \"blue\" with \"white\"\n",
    "print length of colors list"
   ]
  },
  {
   "cell_type": "code",
   "execution_count": 5,
   "id": "4a8671cf-389b-4c0f-8847-d6c33a4ce094",
   "metadata": {},
   "outputs": [
    {
     "name": "stdout",
     "output_type": "stream",
     "text": [
      "['apple', 'banana', 'mango']\n",
      "['red', 'blue', 'green', 'black']\n",
      "banana\n",
      "[['apple', 'banana', 'mango'], ['red', 'white', 'green', 'black']]\n",
      "4\n"
     ]
    }
   ],
   "source": [
    "basket = [[\"apple\", \"banana\", \"mango\"], [\"red\", \"blue\", \"green\", \"black\"]]\n",
    "\n",
    "print(basket[0])\n",
    "\n",
    "print(basket[1])\n",
    "\n",
    "print(basket[0][-2])\n",
    "\n",
    "basket[1][1] = 'white'\n",
    "print(basket)\n",
    "\n",
    "print(len(basket[1]))\n"
   ]
  },
  {
   "cell_type": "code",
   "execution_count": null,
   "id": "abf15564-d362-4fd6-ad68-f97cbcb295d2",
   "metadata": {},
   "outputs": [],
   "source": [
    "Q4\n",
    "food = [\"pizza\", \"burger\", \"fries\", \"burger\", \"pasta\", \"burger\", \"biryani\", \"fries\"]\n",
    "\n",
    "Add \"sandwich\" to the end of the list.\n",
    "Insert \"biryani\" at index 2.\n",
    "\n",
    "food.append('sandwich')\n",
    "food.insert(2,'biryani')\n",
    "print(food)"
   ]
  },
  {
   "cell_type": "code",
   "execution_count": 7,
   "id": "76766cce-8f09-465e-ae02-e4b9553098e8",
   "metadata": {},
   "outputs": [
    {
     "name": "stdout",
     "output_type": "stream",
     "text": [
      "['pizza', 'burger', 'biryani', 'fries', 'burger', 'pasta', 'burger', 'biryani', 'fries', 'sandwich']\n"
     ]
    }
   ],
   "source": [
    "food = [\"pizza\", \"burger\", \"fries\", \"burger\", \"pasta\", \"burger\", \"biryani\", \"fries\"]\n",
    "\n",
    "food.append('sandwich')\n",
    "food.insert(2, 'biryani')\n",
    "print(food)"
   ]
  },
  {
   "cell_type": "code",
   "execution_count": null,
   "id": "0fc691e7-2c1a-4799-91f7-7da734de2f93",
   "metadata": {},
   "outputs": [],
   "source": []
  },
  {
   "cell_type": "code",
   "execution_count": null,
   "id": "b792ea74-2a67-42e4-b61b-12733551a0ea",
   "metadata": {},
   "outputs": [],
   "source": [
    "Q5\n",
    "Sort the food list in alphabetical order\n",
    "Reverse the order of the list food\n"
   ]
  },
  {
   "cell_type": "code",
   "execution_count": 9,
   "id": "a40ae4ad-8a48-421b-98a7-cb4091fefbbc",
   "metadata": {},
   "outputs": [
    {
     "name": "stdout",
     "output_type": "stream",
     "text": [
      "['biryani', 'burger', 'burger', 'burger', 'fries', 'fries', 'pasta', 'pizza']\n"
     ]
    }
   ],
   "source": [
    "food = [\"pizza\", \"burger\", \"fries\", \"burger\", \"pasta\", \"burger\", \"biryani\", \"fries\"]\n",
    "\n",
    "food.sort()\n",
    "print(food)"
   ]
  },
  {
   "cell_type": "code",
   "execution_count": 10,
   "id": "bea15751-2519-4ce5-97cf-c42ff1628f8b",
   "metadata": {},
   "outputs": [
    {
     "name": "stdout",
     "output_type": "stream",
     "text": [
      "['pizza', 'pasta', 'fries', 'fries', 'burger', 'burger', 'burger', 'biryani']\n"
     ]
    }
   ],
   "source": [
    "food.reverse()\n",
    "print(food)"
   ]
  },
  {
   "cell_type": "code",
   "execution_count": null,
   "id": "4abb6e95-1371-40da-95bb-0524a580e41d",
   "metadata": {},
   "outputs": [],
   "source": []
  },
  {
   "cell_type": "code",
   "execution_count": null,
   "id": "94e19a43-eddf-4eaf-b0f5-a55307206308",
   "metadata": {},
   "outputs": [],
   "source": [
    "Q6.\n",
    "\n",
    "Find the index of \"pasta\" and print it from the list of food\n",
    "Count how many times \"pizza\" appears in list food"
   ]
  },
  {
   "cell_type": "code",
   "execution_count": 12,
   "id": "a3a1baab-c354-4651-8fa2-051dcea4be7e",
   "metadata": {},
   "outputs": [
    {
     "name": "stdout",
     "output_type": "stream",
     "text": [
      "4\n"
     ]
    }
   ],
   "source": [
    "food = [\"pizza\", \"burger\", \"fries\", \"burger\", \"pasta\", \"burger\", \"biryani\", \"fries\"]\n",
    "\n",
    "pasta=food.index(\"pasta\")\n",
    "print(pasta)"
   ]
  },
  {
   "cell_type": "code",
   "execution_count": 13,
   "id": "30771b65-9a00-45b0-82aa-c3b9fdb59bb1",
   "metadata": {},
   "outputs": [
    {
     "name": "stdout",
     "output_type": "stream",
     "text": [
      "1\n"
     ]
    }
   ],
   "source": [
    "food = [\"pizza\", \"burger\", \"fries\", \"burger\", \"pasta\", \"burger\", \"biryani\", \"fries\"]\n",
    "count_pizza = food.count('pizza')\n",
    "print(count_pizza)"
   ]
  },
  {
   "cell_type": "code",
   "execution_count": null,
   "id": "f59080f8-21ee-4cce-bfd9-da21496b3de6",
   "metadata": {},
   "outputs": [],
   "source": []
  },
  {
   "cell_type": "code",
   "execution_count": null,
   "id": "83f7f4d1-ef62-44ce-a5a7-9a12577901ad",
   "metadata": {},
   "outputs": [],
   "source": [
    "Q7.\n",
    "\n",
    "Remove \"burger\" (only the first one) from the list food.\n",
    "Remove the last item using pop() and print it."
   ]
  },
  {
   "cell_type": "code",
   "execution_count": 14,
   "id": "4a34c395-3fac-4d6f-ae25-09c3d694281d",
   "metadata": {},
   "outputs": [
    {
     "name": "stdout",
     "output_type": "stream",
     "text": [
      "['pizza', 'fries', 'burger', 'pasta', 'burger', 'biryani', 'fries']\n"
     ]
    }
   ],
   "source": [
    "food = [\"pizza\", \"burger\", \"fries\", \"burger\", \"pasta\", \"burger\", \"biryani\", \"fries\"]\n",
    "\n",
    "food.remove('burger')\n",
    "print(food)"
   ]
  },
  {
   "cell_type": "code",
   "execution_count": 16,
   "id": "2364e777-4205-410a-819d-2240748efde8",
   "metadata": {},
   "outputs": [
    {
     "name": "stdout",
     "output_type": "stream",
     "text": [
      "Removed item fries\n"
     ]
    }
   ],
   "source": [
    "food = [\"pizza\", \"burger\", \"fries\", \"burger\", \"pasta\", \"burger\", \"biryani\", \"fries\"]\n",
    "\n",
    "last_item = food.pop()\n",
    "print(\"Removed item\", last_item)"
   ]
  },
  {
   "cell_type": "code",
   "execution_count": 17,
   "id": "5b405d50-3c58-49cb-a49a-a4a970bfc966",
   "metadata": {},
   "outputs": [
    {
     "name": "stdout",
     "output_type": "stream",
     "text": [
      "Updated List: ['pizza', 'burger', 'fries', 'burger', 'pasta', 'burger', 'biryani']\n"
     ]
    }
   ],
   "source": [
    "print(\"Updated List:\", food)"
   ]
  },
  {
   "cell_type": "code",
   "execution_count": null,
   "id": "5017e319-5b21-41ab-9eca-64af5f13afb4",
   "metadata": {},
   "outputs": [],
   "source": []
  },
  {
   "cell_type": "code",
   "execution_count": null,
   "id": "314e2b49-0a51-4f8b-9fa0-ff26e4dd742e",
   "metadata": {},
   "outputs": [],
   "source": [
    "Q8.\n",
    "\n",
    "Make a copy of the list of food and name it my_food\n",
    "Clear the original food list."
   ]
  },
  {
   "cell_type": "code",
   "execution_count": 18,
   "id": "08cce1d8-930a-4719-ba93-0fb8b289f2e6",
   "metadata": {},
   "outputs": [
    {
     "name": "stdout",
     "output_type": "stream",
     "text": [
      "My Food: ['pizza', 'burger', 'fries', 'burger', 'pasta', 'burger', 'biryani', 'fries']\n"
     ]
    }
   ],
   "source": [
    "food = [\"pizza\", \"burger\", \"fries\", \"burger\", \"pasta\", \"burger\", \"biryani\", \"fries\"]\n",
    "\n",
    "my_food = food.copy()\n",
    "print(\"My Food:\", my_food)\n"
   ]
  },
  {
   "cell_type": "code",
   "execution_count": null,
   "id": "525abe7f-8bf0-4c31-a2d1-47b8cd082aee",
   "metadata": {},
   "outputs": [],
   "source": []
  },
  {
   "cell_type": "code",
   "execution_count": null,
   "id": "98b68087-0b53-4c2b-87ff-0c235ae1486e",
   "metadata": {},
   "outputs": [],
   "source": [
    "Q9.\n",
    "\n",
    "# Count nested list [1,2] by count method\n",
    "\n",
    "data = [[1, 2],[3, 4],[1, 2],[2,4],[1, 2],[1,3,6]]"
   ]
  },
  {
   "cell_type": "code",
   "execution_count": 19,
   "id": "8b25b0ad-ec75-4c3d-8282-e146399c5556",
   "metadata": {},
   "outputs": [
    {
     "name": "stdout",
     "output_type": "stream",
     "text": [
      "Count of [1,2]: 3\n"
     ]
    }
   ],
   "source": [
    "data = [[1, 2],[3, 4],[1, 2],[2,4],[1, 2],[1,3,6]]\n",
    "\n",
    "count_nested = data.count([1 ,2])\n",
    "print(\"Count of [1,2]:\", count_nested)"
   ]
  },
  {
   "cell_type": "code",
   "execution_count": null,
   "id": "77425a2b-058c-40ac-befa-16b724a1f5ca",
   "metadata": {},
   "outputs": [],
   "source": []
  },
  {
   "cell_type": "code",
   "execution_count": null,
   "id": "3de4ecdb-788d-4e45-ace4-4a7d28d55e6e",
   "metadata": {},
   "outputs": [],
   "source": [
    "Q10\n",
    "odd_item = [\n",
    "    'almond',\n",
    "    'peanut',\n",
    "    ['onion', 'potato', 'tomato', ['apple', 'mango', 'cherry', ['cat'], 'banana'], 'lemon'],\n",
    "    'walnut'\n",
    "]"
   ]
  },
  {
   "cell_type": "code",
   "execution_count": 1,
   "id": "535d34ee-867b-4b70-8016-16c17e896629",
   "metadata": {},
   "outputs": [
    {
     "name": "stdout",
     "output_type": "stream",
     "text": [
      "['almond', 'peanut', ['onion', 'potato', 'tomato', ['apple', 'mango', 'cherry', ['found you'], 'banana'], 'lemon'], 'walnut']\n"
     ]
    }
   ],
   "source": [
    "odd_item = [\n",
    "    'almond',\n",
    "    'peanut',\n",
    "    ['onion', 'potato', 'tomato', ['apple', 'mango', 'cherry', ['cat'], 'banana'], 'lemon'],\n",
    "    'walnut'\n",
    "]\n",
    "\n",
    "odd_item[2][3][3][0] = 'found you'\n",
    "print(odd_item)\n"
   ]
  },
  {
   "cell_type": "code",
   "execution_count": 4,
   "id": "fdb7f085-6f8d-4fb7-9aec-967b9ee428d5",
   "metadata": {},
   "outputs": [
    {
     "name": "stdout",
     "output_type": "stream",
     "text": [
      "['almond', 'peanut', ['onion', 'potato', 'tomato', ['apple', 'mango', 'cherry', ['found you'], 'banana'], 'lemon'], 'walnut']\n"
     ]
    }
   ],
   "source": [
    "# Q10.\n",
    "\n",
    "# Replace 'cat' with 'found you'\n",
    "\n",
    "odd_item = ['almond','peanut',['onion','potato','tomato',['apple','mango','cherry',['cat'],'banana'],'lemon',],'walnut']\n",
    "\n",
    "odd_item[2][3][3][0] = 'found you'\n",
    "print(odd_item)"
   ]
  },
  {
   "cell_type": "code",
   "execution_count": null,
   "id": "2ea20811-a710-4031-8015-75f38e184d17",
   "metadata": {},
   "outputs": [],
   "source": []
  }
 ],
 "metadata": {
  "kernelspec": {
   "display_name": "Python 3 (ipykernel)",
   "language": "python",
   "name": "python3"
  },
  "language_info": {
   "codemirror_mode": {
    "name": "ipython",
    "version": 3
   },
   "file_extension": ".py",
   "mimetype": "text/x-python",
   "name": "python",
   "nbconvert_exporter": "python",
   "pygments_lexer": "ipython3",
   "version": "3.12.7"
  }
 },
 "nbformat": 4,
 "nbformat_minor": 5
}
