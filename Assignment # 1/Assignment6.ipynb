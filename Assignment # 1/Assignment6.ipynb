{
 "cells": [
  {
   "cell_type": "markdown",
   "id": "361a5085-22a4-4ced-81bb-9b1194de132f",
   "metadata": {},
   "source": [
    "# ***Assignment 6***"
   ]
  },
  {
   "cell_type": "code",
   "execution_count": 8,
   "id": "45ee189e-57cd-4e6d-8e73-7dd88752fb82",
   "metadata": {},
   "outputs": [
    {
     "name": "stdin",
     "output_type": "stream",
     "text": [
      "Enter a number:  4\n"
     ]
    },
    {
     "name": "stdout",
     "output_type": "stream",
     "text": [
      "4 x 1 = 4\n",
      "4 x 2 = 8\n",
      "4 x 3 = 12\n",
      "4 x 4 = 16\n",
      "4 x 5 = 20\n",
      "4 x 6 = 24\n",
      "4 x 7 = 28\n",
      "4 x 8 = 32\n",
      "4 x 9 = 36\n",
      "4 x 10 = 40\n"
     ]
    }
   ],
   "source": [
    "# Q1. Write a Python program that prints the multiplication table for a given number (between 1 and 10) using a for loop.\n",
    "\n",
    "# Hint: \n",
    "#       Ask the user for a number between 1 and 10 . Use a for loop to iterate through the numbers from 1 to 10. For each iteration, calculate \n",
    "# the product of the given number and the current number in the loop. Print the result in a readable format (e.g., 5 x 1 = 5). \n",
    "# Ensure the program works correctly for any number between 1 and 10. Output Hint:\n",
    "\n",
    "\n",
    "num = int(input(\"Enter a number: \"))\n",
    "\n",
    "for i in range(1, 11):\n",
    "    print(num, \"x\", i, \"=\", num * i)"
   ]
  },
  {
   "cell_type": "code",
   "execution_count": null,
   "id": "8c1a45b7-55ae-4cf2-894a-fa24abd6efdd",
   "metadata": {},
   "outputs": [],
   "source": []
  },
  {
   "cell_type": "code",
   "execution_count": 23,
   "id": "bc8a1b1b-ac8f-4f01-ba88-c056abf99025",
   "metadata": {},
   "outputs": [
    {
     "name": "stdout",
     "output_type": "stream",
     "text": [
      "Email sent to Ali\n",
      "Email sent to Sara\n",
      "Email sent to John\n",
      "Limit reached. Stop sending emails.\n"
     ]
    }
   ],
   "source": [
    "# Q2. Stop sending emails after 3 users (Using for loop and break)\n",
    "# users = [\"Ali\", \"Sara\", \"John\", \"Zara\", \"Mike\"]: \n",
    "\n",
    "\n",
    "users = [\"Ali\", \"Sara\", \"John\", \"Zara\", \"Mike\"]\n",
    "\n",
    "for i in range(3):   \n",
    "    print(\"Email sent to\", users[i])\n",
    "\n",
    "print(\"Limit reached. Stop sending emails.\")"
   ]
  },
  {
   "cell_type": "code",
   "execution_count": null,
   "id": "d8c08f32-801f-4ad5-841b-d755bbf58967",
   "metadata": {},
   "outputs": [],
   "source": []
  },
  {
   "cell_type": "code",
   "execution_count": 4,
   "id": "5e495f41-6c9f-4991-b516-da0e9f1ad2c7",
   "metadata": {},
   "outputs": [
    {
     "name": "stdout",
     "output_type": "stream",
     "text": [
      "Temperature: 22\n",
      "Temperature: 25\n",
      "Temperature: 30\n",
      "Critical temperature reached! Stop monitoring.\n"
     ]
    }
   ],
   "source": [
    "# Q3. Stop monitoring temperature if critical temperature reached (Using for loop and break)\n",
    "\n",
    "# temps = [22, 25, 30, 45, 28]\n",
    "# critical = 40:\n",
    "\n",
    "temps = [22, 25, 30, 45, 28]\n",
    "critical = 40\n",
    "\n",
    "for t in temps:\n",
    "    if t >= critical:   \n",
    "        print(\"Critical temperature reached! Stop monitoring.\")\n",
    "        break\n",
    "    print(\"Temperature:\", t)"
   ]
  },
  {
   "cell_type": "code",
   "execution_count": null,
   "id": "dffd411f-3dfb-4937-81ea-0f6ab10950fb",
   "metadata": {},
   "outputs": [],
   "source": []
  },
  {
   "cell_type": "code",
   "execution_count": 5,
   "id": "0eb1bade-e020-4de6-a5f5-b1b564098cac",
   "metadata": {},
   "outputs": [
    {
     "name": "stdout",
     "output_type": "stream",
     "text": [
      "Total price: 750\n"
     ]
    }
   ],
   "source": [
    "# Q4. Calculate total price of items in a shopping cart (Using For loop)\n",
    "\n",
    "# cart = [100, 250, 50, 300]\n",
    "\n",
    "cart = [200, 150, 300, 100]   \n",
    "total = 0\n",
    "\n",
    "for price in cart:\n",
    "    total += price  \n",
    "\n",
    "print(\"Total price:\", total)"
   ]
  },
  {
   "cell_type": "code",
   "execution_count": null,
   "id": "e2775f1e-3342-4d67-ba3c-5e84533e982e",
   "metadata": {},
   "outputs": [],
   "source": []
  },
  {
   "cell_type": "code",
   "execution_count": null,
   "id": "48b0654a-2647-4117-ac92-4d986846f05a",
   "metadata": {},
   "outputs": [],
   "source": [
    "# Q5. Skip customers with unpaid bills (Using For loop and continue)\n",
    "\n",
    "customers = [\n",
    "    {\"name\": \"Ali\", \"paid\": True},\n",
    "    {\"name\": \"Sara\", \"paid\": False},\n",
    "    {\"name\": \"John\", \"paid\": True},\n",
    "    {\"name\": \"Zara\", \"paid\": False},\n",
    "]\n",
    "\n",
    "for customer in customers:\n",
    "    if not customer[\"paid\"]:   \n",
    "        continue\n",
    "    print(\"Serving\", customer[\"name\"])\n"
   ]
  },
  {
   "cell_type": "code",
   "execution_count": null,
   "id": "41b52eff-140b-48f1-b9c3-26f95ab7370b",
   "metadata": {},
   "outputs": [],
   "source": []
  },
  {
   "cell_type": "code",
   "execution_count": 9,
   "id": "adfb3cca-0049-4915-a8af-2252a6b7b192",
   "metadata": {},
   "outputs": [
    {
     "name": "stdout",
     "output_type": "stream",
     "text": [
      "Hello Ali, your email has been sent!\n",
      "Hello Sara, your email has been sent!\n",
      "Hello John, your email has been sent!\n"
     ]
    }
   ],
   "source": [
    "# Q6. Send personalized emails to a list of users (Using for loop)\n",
    "\n",
    "# users = [\"Ali\", \"Sara\", \"John\"]\n",
    "\n",
    "users = [\"Ali\", \"Sara\", \"John\"]\n",
    "\n",
    "for user in users:\n",
    "    print(\"Hello\", user + \", your email has been sent!\")"
   ]
  },
  {
   "cell_type": "code",
   "execution_count": null,
   "id": "4b4ac55f-5ea5-4506-99fc-d25cd3b9f77f",
   "metadata": {},
   "outputs": [],
   "source": []
  },
  {
   "cell_type": "code",
   "execution_count": 10,
   "id": "35e17f26-fedf-44b9-9cf9-074b511e0ed2",
   "metadata": {},
   "outputs": [
    {
     "name": "stdout",
     "output_type": "stream",
     "text": [
      "Domain: gmail.com\n",
      "Domain: yahoo.com\n",
      "Domain: hotmail.com\n"
     ]
    }
   ],
   "source": [
    "# Q7. Extract domain names from email list (Using for loop)\n",
    "\n",
    "# emails = [\"ali@gmail.com\", \"sara@yahoo.com\", \"john@hotmail.com\"]\n",
    "\n",
    "\n",
    "emails = [\"ali@gmail.com\", \"sara@yahoo.com\", \"john@hotmail.com\"]\n",
    "\n",
    "for email in emails:\n",
    "    domain = email.split(\"@\")[1]   \n",
    "    print(\"Domain:\", domain)"
   ]
  },
  {
   "cell_type": "code",
   "execution_count": null,
   "id": "dd2be47c-b6c7-4c5e-81b4-7eb1ed648232",
   "metadata": {},
   "outputs": [],
   "source": []
  },
  {
   "cell_type": "code",
   "execution_count": 19,
   "id": "8873bd61-40fa-4af4-94bc-0f716540b507",
   "metadata": {},
   "outputs": [
    {
     "name": "stdout",
     "output_type": "stream",
     "text": [
      "Overdue task: Submit report\n",
      "Overdue task: Clean house\n"
     ]
    }
   ],
   "source": [
    "\n",
    "# Q8. Print only overdue tasks (Using for loop)\n",
    "\n",
    "tasks = [ {\"task\": \"Pay bills\", \"status\": \"done\"},\n",
    "\n",
    " {\"task\": \"Submit report\", \"status\": \"pending\"},\n",
    "\n",
    " {\"task\": \"Clean house\", \"status\": \"pending\"}\n",
    "]\n",
    " \n",
    "\n",
    "for t in tasks:\n",
    "    if t[\"status\"] == \"pending\":\n",
    "        print(\"Overdue task:\", t[\"task\"])\n",
    "\n",
    "\n"
   ]
  },
  {
   "cell_type": "code",
   "execution_count": null,
   "id": "d2ca0149-f9b8-4df3-8b1a-76357ab8ef6f",
   "metadata": {},
   "outputs": [],
   "source": []
  },
  {
   "cell_type": "code",
   "execution_count": 20,
   "id": "7ff4282a-4229-4f56-a32f-20094e4392c2",
   "metadata": {},
   "outputs": [
    {
     "name": "stdout",
     "output_type": "stream",
     "text": [
      "Ali earns above 50,000\n",
      "John earns above 50,000\n"
     ]
    }
   ],
   "source": [
    "# Q9. Extract names of employees with salary above 50,000\n",
    "\n",
    "employees = [ {\"name\": \"Ali\", \"salary\": 60000},\n",
    "\n",
    "{\"name\": \"Sara\", \"salary\": 45000},\n",
    "\n",
    "{\"name\": \"John\", \"salary\": 70000}\n",
    "]\n",
    "\n",
    "for emp in employees:\n",
    "    if emp[\"salary\"] > 50000:\n",
    "        print(f\"{emp['name']} earns above 50,000\")\n"
   ]
  },
  {
   "cell_type": "code",
   "execution_count": null,
   "id": "2cba4fc8-f866-48d6-8cfd-947724146fae",
   "metadata": {},
   "outputs": [],
   "source": []
  },
  {
   "cell_type": "code",
   "execution_count": 21,
   "id": "a2dae32a-01e0-4d86-96a2-73d2e8bc09e2",
   "metadata": {},
   "outputs": [
    {
     "name": "stdout",
     "output_type": "stream",
     "text": [
      "Workday: Monday\n",
      "Workday: Tuesday\n",
      "Workday: Wednesday\n",
      "Workday: Thursday\n",
      "Workday: Friday\n"
     ]
    }
   ],
   "source": [
    "# Q10: Skip weekends while printing workdays (Using for loop and continue)\n",
    "\n",
    "\n",
    "days = [\"Monday\", \"Tuesday\", \"Wednesday\", \"Thursday\", \"Friday\", \"Saturday\", \"Sunday\"]\n",
    "\n",
    "# Loop through each day\n",
    "for day in days:\n",
    "    if day == \"Saturday\" or day == \"Sunday\":\n",
    "        continue  # Skip weekends\n",
    "    print(\"Workday:\", day)"
   ]
  },
  {
   "cell_type": "code",
   "execution_count": null,
   "id": "dce6c6be-b066-4114-a70a-d9c258a5c2dd",
   "metadata": {},
   "outputs": [],
   "source": []
  },
  {
   "cell_type": "code",
   "execution_count": null,
   "id": "c806c03f-21a1-44c0-ba3a-313a70a2c977",
   "metadata": {},
   "outputs": [],
   "source": []
  },
  {
   "cell_type": "code",
   "execution_count": null,
   "id": "86aea5fe-fffc-409a-92f9-3b9041793f3f",
   "metadata": {},
   "outputs": [],
   "source": []
  }
 ],
 "metadata": {
  "kernelspec": {
   "display_name": "Python 3 (ipykernel)",
   "language": "python",
   "name": "python3"
  },
  "language_info": {
   "codemirror_mode": {
    "name": "ipython",
    "version": 3
   },
   "file_extension": ".py",
   "mimetype": "text/x-python",
   "name": "python",
   "nbconvert_exporter": "python",
   "pygments_lexer": "ipython3",
   "version": "3.12.7"
  }
 },
 "nbformat": 4,
 "nbformat_minor": 5
}
