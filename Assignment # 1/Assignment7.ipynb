{
 "cells": [
  {
   "cell_type": "markdown",
   "id": "ce724d93-8f13-4293-9c50-ef0514adab8c",
   "metadata": {},
   "source": [
    "Question 1:\n",
    "\n",
    "Write a Python program that prints numbers from 1 to 20, but skips all even numbers.\n",
    "\n",
    "Use a while loop.\n",
    "\n",
    "Use the continue statement\n",
    "\n",
    "The numbers should be printed on the same line separated by spaces.\n",
    "\n",
    "Expected Output:\n",
    "\n",
    "1 3 5 7 9 11 13 15 17 19"
   ]
  },
  {
   "cell_type": "code",
   "execution_count": 1,
   "id": "f439ce87-403c-4940-a3fd-73ec3189e561",
   "metadata": {},
   "outputs": [
    {
     "name": "stdout",
     "output_type": "stream",
     "text": [
      "1 3 5 7 9 11 13 15 17 19 "
     ]
    }
   ],
   "source": [
    "# Q1 \n",
    "\n",
    "i = 1\n",
    "\n",
    "while i <= 20:\n",
    "    print(i, end=\" \")\n",
    "    i += 2"
   ]
  },
  {
   "cell_type": "code",
   "execution_count": null,
   "id": "495d698e-b7ff-4226-8565-7c258181d6a5",
   "metadata": {},
   "outputs": [],
   "source": []
  },
  {
   "cell_type": "markdown",
   "id": "b431d0dc-6c6b-4dca-9fc5-f3bba2af76af",
   "metadata": {},
   "source": [
    "Question 2:\n",
    "\n",
    "Write a Python program that keeps asking the user to enter numbers and prints them.\n",
    "\n",
    "The program should stop the loop if the user enters a negative number.\n",
    "\n",
    "Use a while True loop with a break statement\n",
    "\n",
    "Expected Output:\n",
    "\n",
    "Enter a number (negative to stop): 5\n",
    "\n",
    "You entered: 5\n",
    "\n",
    "Enter a number (negative to stop): 10\n",
    "\n",
    "You entered: 10\n",
    "\n",
    "Enter a number (negative to stop): -3\n",
    "\n",
    "Negative number entered. Loop stopped!\n"
   ]
  },
  {
   "cell_type": "code",
   "execution_count": 1,
   "id": "beb7150e-03e9-49a4-83f2-196c9833c5e1",
   "metadata": {},
   "outputs": [
    {
     "name": "stdin",
     "output_type": "stream",
     "text": [
      "Enter a number (negative to stop):  -8\n"
     ]
    },
    {
     "name": "stdout",
     "output_type": "stream",
     "text": [
      "Negative number entered. Loop stopped!\n"
     ]
    }
   ],
   "source": [
    "# Q2:\n",
    "\n",
    "while True:\n",
    "    num = int(input(\"Enter a number (negative to stop): \"))\n",
    "    \n",
    "    if num < 0:\n",
    "        print(\"Negative number entered. Loop stopped!\")\n",
    "        break   # stop the loop\n",
    "    \n",
    "    print(\"You entered:\", num)"
   ]
  },
  {
   "cell_type": "code",
   "execution_count": null,
   "id": "ba967128-07d6-4131-b330-fd157f11f25a",
   "metadata": {},
   "outputs": [],
   "source": []
  },
  {
   "cell_type": "markdown",
   "id": "67b2a90d-44f0-4966-b239-e969c9757206",
   "metadata": {},
   "source": [
    "Question 3:\n",
    "\n",
    "\n",
    "Write a Python program that asks the user to guess a secret word.\n",
    "\n",
    "Keep asking until the user enters the correct word (\"python\").\n",
    "\n",
    "When guessed correctly, print \"🎉 You guessed it!\"\n",
    "\n",
    "Expected Output:\n",
    "\n",
    "Guess the word: java\n",
    "\n",
    "Guess the word: ruby\n",
    "\n",
    "Guess the word: python\n",
    "\n",
    "🎉 You guessed it!"
   ]
  },
  {
   "cell_type": "code",
   "execution_count": 1,
   "id": "d54f3c24-c07b-4f30-8b77-60a02ecfd654",
   "metadata": {},
   "outputs": [
    {
     "name": "stdin",
     "output_type": "stream",
     "text": [
      "Guess the word:  java\n"
     ]
    },
    {
     "name": "stdout",
     "output_type": "stream",
     "text": [
      "Try again...\n"
     ]
    },
    {
     "name": "stdin",
     "output_type": "stream",
     "text": [
      "Guess the word:  ruby\n"
     ]
    },
    {
     "name": "stdout",
     "output_type": "stream",
     "text": [
      "Try again...\n"
     ]
    },
    {
     "name": "stdin",
     "output_type": "stream",
     "text": [
      "Guess the word:  python\n"
     ]
    },
    {
     "name": "stdout",
     "output_type": "stream",
     "text": [
      "You guessed it!\n"
     ]
    }
   ],
   "source": [
    "# Q 3:\n",
    "\n",
    "secret_word = \"python\"\n",
    "\n",
    "while True:\n",
    "    guess = input(\"Guess the word: \").strip().lower()   # strip removes spaces, lower handles case\n",
    "    if guess == secret_word:\n",
    "        print(\"You guessed it!\")\n",
    "        break\n",
    "    else:\n",
    "        print(\"Try again...\")"
   ]
  },
  {
   "cell_type": "code",
   "execution_count": null,
   "id": "5cfdd26d-b0ec-4579-92de-7c6b14c47a50",
   "metadata": {},
   "outputs": [],
   "source": []
  },
  {
   "cell_type": "markdown",
   "id": "ea22d55c-4267-4244-bda3-e93d8988216f",
   "metadata": {},
   "source": [
    "Question 4:\n",
    "\n",
    "orders = [\n",
    "    {\"order_id\": 1, \"customer\": \"Ali\", \"items\": [120, 80, 50]},\n",
    "    {\"order_id\": 2, \"customer\": \"Sara\", \"items\": [200, 150]},\n",
    "    {\"order_id\": 3, \"customer\": \"Raheel\", \"items\": [90, 60, 40, 30]},\n",
    "    {\"order_id\": 4, \"customer\": \"Naveed\", \"items\": [300]},\n",
    "]\n",
    "\n",
    "You are given a list of e-commerce orders. Each order has:\n",
    "\n",
    "an order ID\n",
    "\n",
    "a customer name\n",
    "\n",
    "a list of items with prices\n",
    "\n",
    "Write a Python program to print all items for each order using nested while loops.\n",
    "\n",
    "Expected Output:\n",
    "\n",
    "Order ID: 1 Customer: Ali\n",
    "\n",
    " Item Price: 120\n",
    " \n",
    " Item Price: 80\n",
    " \n",
    " Item Price: 50\n",
    "\n",
    "Order ID: 2 Customer: Sara\n",
    "\n",
    " Item Price: 200\n",
    " \n",
    " Item Price: 150\n",
    "\n",
    "Order ID: 3 Customer: Raheel\n",
    "\n",
    " Item Price: 90\n",
    " \n",
    " Item Price: 60\n",
    " \n",
    " Item Price: 40\n",
    " \n",
    " Item Price: 30\n",
    "\n",
    "Order ID: 4 Customer: Naveed\n",
    "\n",
    " Item Price: 300"
   ]
  },
  {
   "cell_type": "code",
   "execution_count": 2,
   "id": "37bb175f-a25c-4e7c-ad2e-1bd3ec6736e6",
   "metadata": {},
   "outputs": [
    {
     "name": "stdout",
     "output_type": "stream",
     "text": [
      "\n",
      "Order ID: 1 Customer: Ali\n",
      "Item Price: 120\n",
      "Item Price: 80\n",
      "Item Price: 50\n",
      "\n",
      "Order ID: 2 Customer: Sara\n",
      "Item Price: 200\n",
      "Item Price: 150\n",
      "\n",
      "Order ID: 3 Customer: Raheel\n",
      "Item Price: 90\n",
      "Item Price: 60\n",
      "Item Price: 40\n",
      "Item Price: 30\n",
      "\n",
      "Order ID: 4 Customer: Naveed\n",
      "Item Price: 300\n"
     ]
    }
   ],
   "source": [
    "# Q4:\n",
    "\n",
    "orders = [\n",
    "    {\"order_id\": 1, \"customer\": \"Ali\", \"items\": [120, 80, 50]},\n",
    "    {\"order_id\": 2, \"customer\": \"Sara\", \"items\": [200, 150]},\n",
    "    {\"order_id\": 3, \"customer\": \"Raheel\", \"items\": [90, 60, 40, 30]},\n",
    "    {\"order_id\": 4, \"customer\": \"Naveed\", \"items\": [300]},\n",
    "]\n",
    "\n",
    "i = 0   # outer loop index for orders\n",
    "while i < len(orders):\n",
    "    order = orders[i]\n",
    "    print(f\"\\nOrder ID: {order['order_id']} Customer: {order['customer']}\")\n",
    "    \n",
    "    j = 0   # inner loop index for items\n",
    "    while j < len(order[\"items\"]):\n",
    "        print(f\"Item Price: {order['items'][j]}\")\n",
    "        j += 1\n",
    "    \n",
    "    i += 1"
   ]
  },
  {
   "cell_type": "code",
   "execution_count": null,
   "id": "cf601665-2c49-40b2-abc4-1a21898df2a7",
   "metadata": {},
   "outputs": [],
   "source": []
  },
  {
   "cell_type": "markdown",
   "id": "f7c2bbae-9a3d-454a-9ae7-bf81a77f66a1",
   "metadata": {},
   "source": [
    "Question 5:\n",
    "\n",
    "Print total amount spent by each customer (Using nested while loop)\n",
    "\n",
    "orders = [\n",
    "    {\"order_id\": 1, \"customer\": \"Ali\", \"items\": [120, 80, 50]},\n",
    "    {\"order_id\": 2, \"customer\": \"Sara\", \"items\": [200, 150]},\n",
    "    {\"order_id\": 3, \"customer\": \"Raheel\", \"items\": [90, 60, 40, 30]},\n",
    "    {\"order_id\": 4, \"customer\": \"Naveed\", \"items\": [300]},\n",
    "]\n",
    "\n",
    "Expected Output:\n",
    "\n",
    "Ali spent total: 250\n",
    "\n",
    "Sara spent total: 350\n",
    "\n",
    "Raheel spent total: 220\n",
    "\n",
    "Naveed spent total: 300"
   ]
  },
  {
   "cell_type": "code",
   "execution_count": 3,
   "id": "af060a6b-b62a-4a2f-88cd-39bff84dd04e",
   "metadata": {
    "scrolled": true
   },
   "outputs": [
    {
     "name": "stdout",
     "output_type": "stream",
     "text": [
      "\n",
      "Order ID: 1 Customer: Ali\n",
      "Item Price: 120\n",
      "Item Price: 80\n",
      "Item Price: 50\n",
      "\n",
      "Order ID: 2 Customer: Sara\n",
      "Item Price: 200\n",
      "Item Price: 150\n",
      "\n",
      "Order ID: 3 Customer: Raheel\n",
      "Item Price: 90\n",
      "Item Price: 60\n",
      "Item Price: 40\n",
      "Item Price: 30\n",
      "\n",
      "Order ID: 4 Customer: Naveed\n",
      "Item Price: 300\n"
     ]
    }
   ],
   "source": [
    "# Q5:\n",
    "\n",
    "orders = [\n",
    "    {\"order_id\": 1, \"customer\": \"Ali\", \"items\": [120, 80, 50]},\n",
    "    {\"order_id\": 2, \"customer\": \"Sara\", \"items\": [200, 150]},\n",
    "    {\"order_id\": 3, \"customer\": \"Raheel\", \"items\": [90, 60, 40, 30]},\n",
    "    {\"order_id\": 4, \"customer\": \"Naveed\", \"items\": [300]},\n",
    "]\n",
    "\n",
    "i = 0  # index for orders\n",
    "while i < len(orders):\n",
    "    order = orders[i]\n",
    "    print(f\"\\nOrder ID: {order['order_id']} Customer: {order['customer']}\")\n",
    "    \n",
    "    j = 0  # index for items inside this order\n",
    "    while j < len(order[\"items\"]):\n",
    "        print(f\"Item Price: {order['items'][j]}\")\n",
    "        j += 1\n",
    "    \n",
    "    i += 1\n"
   ]
  },
  {
   "cell_type": "code",
   "execution_count": null,
   "id": "c56be3a5-1fa7-46a2-96cd-e35d164d41b8",
   "metadata": {},
   "outputs": [],
   "source": []
  },
  {
   "cell_type": "markdown",
   "id": "9df85479-cd55-4385-90aa-19b0ecc04bcc",
   "metadata": {},
   "source": [
    "Question 6:\n",
    "\n",
    "Print the maximum item price for each order. (Using nested while loop)\n",
    "\n",
    "orders = [ {\"order_id\": 1, \"customer\": \"Ali\", \"items\": [120, 80, 50]}, {\"order_id\": 2, \"customer\": \"Sara\", \"items\": [200, 150]}, {\"order_id\": 3, \"customer\": \"Raheel\", \"items\": [90, 60, 40, 30]}, {\"order_id\": 4, \"customer\": \"Naveed\", \"items\": [300]}, ]\n",
    "\n",
    "Expected Output:\n",
    "\n",
    "Most expensive item in Order 1 = 120\n",
    "\n",
    "Most expensive item in Order 2 = 200\n",
    "\n",
    "Most expensive item in Order 3 = 90\n",
    "\n",
    "Most expensive item in Order 4 = 300"
   ]
  },
  {
   "cell_type": "code",
   "execution_count": 4,
   "id": "a320a1a9-4f4a-4f29-bf81-000bf6f12a4a",
   "metadata": {
    "scrolled": true
   },
   "outputs": [
    {
     "name": "stdout",
     "output_type": "stream",
     "text": [
      "\n",
      "Order ID: 1 Customer: Ali\n",
      "Item Price: 120\n",
      "Item Price: 80\n",
      "Item Price: 50\n",
      "\n",
      "Order ID: 2 Customer: Sara\n",
      "Item Price: 200\n",
      "Item Price: 150\n",
      "\n",
      "Order ID: 3 Customer: Raheel\n",
      "Item Price: 90\n",
      "Item Price: 60\n",
      "Item Price: 40\n",
      "Item Price: 30\n",
      "\n",
      "Order ID: 4 Customer: Naveed\n",
      "Item Price: 300\n"
     ]
    }
   ],
   "source": [
    "# Q6:\n",
    "\n",
    "orders = [\n",
    "    {\"order_id\": 1, \"customer\": \"Ali\", \"items\": [120, 80, 50]},\n",
    "    {\"order_id\": 2, \"customer\": \"Sara\", \"items\": [200, 150]},\n",
    "    {\"order_id\": 3, \"customer\": \"Raheel\", \"items\": [90, 60, 40, 30]},\n",
    "    {\"order_id\": 4, \"customer\": \"Naveed\", \"items\": [300]},\n",
    "]\n",
    "\n",
    "i = 0  # index for orders\n",
    "while i < len(orders):\n",
    "    order = orders[i]\n",
    "    print(f\"\\nOrder ID: {order['order_id']} Customer: {order['customer']}\")\n",
    "    \n",
    "    j = 0  # index for items inside this order\n",
    "    while j < len(order[\"items\"]):\n",
    "        print(f\"Item Price: {order['items'][j]}\")\n",
    "        j += 1\n",
    "    \n",
    "    i += 1\n",
    "\n"
   ]
  },
  {
   "cell_type": "code",
   "execution_count": null,
   "id": "c704909b-c48d-46ba-828e-8e34448e0ab2",
   "metadata": {},
   "outputs": [],
   "source": []
  },
  {
   "cell_type": "markdown",
   "id": "937da036-8d3c-4ea7-a673-09b22d804e90",
   "metadata": {},
   "source": [
    "Question 7:\n",
    "\n",
    "Write a Python program to create a single list (list comprehension) that contains all numbers from 1 to 50 which are multiples of 5 and 10.\n",
    "\n",
    "Expected Output:\n",
    "\n",
    "Multiples of 5 and 10 from 1 to 50: [10, 20, 30, 40, 50]\n"
   ]
  },
  {
   "cell_type": "code",
   "execution_count": 6,
   "id": "2c994ef8-fab1-409e-869a-d9b7e6b64699",
   "metadata": {},
   "outputs": [
    {
     "name": "stdout",
     "output_type": "stream",
     "text": [
      "Multiples of 5 and 10 from 1 to 50: [10, 20, 30, 40, 50]\n"
     ]
    }
   ],
   "source": [
    "# Q7:\n",
    "\n",
    "multiples = [n for n in range(1, 51) if n % 10 == 0]\n",
    "\n",
    "print(\"Multiples of 5 and 10 from 1 to 50:\", multiples)\n"
   ]
  },
  {
   "cell_type": "code",
   "execution_count": null,
   "id": "4ff0a2dc-c382-40e1-8f7f-8009bfc2751d",
   "metadata": {},
   "outputs": [],
   "source": []
  },
  {
   "cell_type": "markdown",
   "id": "30e197b2-1fde-4ea1-81dd-078ea3c45379",
   "metadata": {},
   "source": [
    "Question 8:\n",
    "\n",
    "employees = [\n",
    "    {\"emp_id\": 1, \"name\": \"Ali\", \"dept\": \"Sales\", \"salary\": 50000, \"experience\": 2},\n",
    "    {\"emp_id\": 2, \"name\": \"Sara\", \"dept\": \"IT\", \"salary\": 65000, \"experience\": 5},\n",
    "    {\"emp_id\": 3, \"name\": \"Raheel\", \"dept\": \"HR\", \"salary\": 45000, \"experience\": 1},\n",
    "    {\"emp_id\": 4, \"name\": \"Naveed\", \"dept\": \"Finance\", \"salary\": 70000, \"experience\": 7},\n",
    "    {\"emp_id\": 5, \"name\": \"Ayesha\", \"dept\": \"IT\", \"salary\": 72000, \"experience\": 6},\n",
    "    {\"emp_id\": 6, \"name\": \"Talha\", \"dept\": \"Sales\", \"salary\": 55000, \"experience\": 3},\n",
    "    {\"emp_id\": 7, \"name\": \"Sana\", \"dept\": \"Finance\", \"salary\": 80000, \"experience\": 8},\n",
    "    {\"emp_id\": 8, \"name\": \"Hina\", \"dept\": \"HR\", \"salary\": 48000, \"experience\": 2},\n",
    "]\n",
    "\n",
    "Using List Comprehension\n",
    "\n",
    "Employees with salary > 60,000 AND experience > 5 years\n",
    "\n",
    "Expected Output:\n",
    "['Naveed', 'Ayesha', 'Sana']\n"
   ]
  },
  {
   "cell_type": "code",
   "execution_count": 10,
   "id": "83c13f91-a809-4fb0-abd4-b834e4aae3d0",
   "metadata": {},
   "outputs": [
    {
     "name": "stdout",
     "output_type": "stream",
     "text": [
      "['Naveed', 'Ayesha', 'Sana']\n"
     ]
    }
   ],
   "source": [
    "Q8:\n",
    "\n",
    "employees = [\n",
    "    {\"emp_id\": 1, \"name\": \"Ali\", \"dept\": \"Sales\", \"salary\": 50000, \"experience\": 2},\n",
    "    {\"emp_id\": 2, \"name\": \"Sara\", \"dept\": \"IT\", \"salary\": 65000, \"experience\": 5},\n",
    "    {\"emp_id\": 3, \"name\": \"Raheel\", \"dept\": \"HR\", \"salary\": 45000, \"experience\": 1},\n",
    "    {\"emp_id\": 4, \"name\": \"Naveed\", \"dept\": \"Finance\", \"salary\": 70000, \"experience\": 7},\n",
    "    {\"emp_id\": 5, \"name\": \"Ayesha\", \"dept\": \"IT\", \"salary\": 72000, \"experience\": 6},\n",
    "    {\"emp_id\": 6, \"name\": \"Talha\", \"dept\": \"Sales\", \"salary\": 55000, \"experience\": 3},\n",
    "    {\"emp_id\": 7, \"name\": \"Sana\", \"dept\": \"Finance\", \"salary\": 80000, \"experience\": 8},\n",
    "    {\"emp_id\": 8, \"name\": \"Hina\", \"dept\": \"HR\", \"salary\": 48000, \"experience\": 2},\n",
    "]\n",
    "\n",
    "result = [emp[\"name\"] for emp in employees if emp[\"salary\"] > 60000 and emp[\"experience\"] > 5]\n",
    "\n",
    "print(result)"
   ]
  },
  {
   "cell_type": "code",
   "execution_count": null,
   "id": "fc2b0627-5d6e-4824-b612-742434fc6c71",
   "metadata": {},
   "outputs": [],
   "source": []
  },
  {
   "cell_type": "markdown",
   "id": "272760fb-2e38-40c4-a02a-9ef737ef1480",
   "metadata": {},
   "source": [
    "Question 9:\n",
    "\n",
    "Employees with NOT HR department\n",
    "\n",
    "Expected Output:\n",
    "['Ali', 'Sara', 'Naveed', 'Ayesha', 'Talha', 'Sana']\n"
   ]
  },
  {
   "cell_type": "code",
   "execution_count": 11,
   "id": "b5479b03-dab8-414f-ad77-8a88f2fff7eb",
   "metadata": {},
   "outputs": [
    {
     "name": "stdout",
     "output_type": "stream",
     "text": [
      "['Ali', 'Sara', 'Naveed', 'Ayesha', 'Talha', 'Sana']\n"
     ]
    }
   ],
   "source": [
    "employees = [\n",
    "    {\"emp_id\": 1, \"name\": \"Ali\", \"dept\": \"Sales\", \"salary\": 50000, \"experience\": 2},\n",
    "    {\"emp_id\": 2, \"name\": \"Sara\", \"dept\": \"IT\", \"salary\": 65000, \"experience\": 5},\n",
    "    {\"emp_id\": 3, \"name\": \"Raheel\", \"dept\": \"HR\", \"salary\": 45000, \"experience\": 1},\n",
    "    {\"emp_id\": 4, \"name\": \"Naveed\", \"dept\": \"Finance\", \"salary\": 70000, \"experience\": 7},\n",
    "    {\"emp_id\": 5, \"name\": \"Ayesha\", \"dept\": \"IT\", \"salary\": 72000, \"experience\": 6},\n",
    "    {\"emp_id\": 6, \"name\": \"Talha\", \"dept\": \"Sales\", \"salary\": 55000, \"experience\": 3},\n",
    "    {\"emp_id\": 7, \"name\": \"Sana\", \"dept\": \"Finance\", \"salary\": 80000, \"experience\": 8},\n",
    "    {\"emp_id\": 8, \"name\": \"Hina\", \"dept\": \"HR\", \"salary\": 48000, \"experience\": 2},\n",
    "]\n",
    "\n",
    "result = [emp[\"name\"] for emp in employees if emp[\"dept\"] != \"HR\"]\n",
    "\n",
    "print(result)"
   ]
  },
  {
   "cell_type": "code",
   "execution_count": null,
   "id": "bdf3e273-a683-4bef-ba90-3d8d59b61149",
   "metadata": {},
   "outputs": [],
   "source": []
  },
  {
   "cell_type": "markdown",
   "id": "2edcf529-d79d-4f32-a576-f2cc918a9a47",
   "metadata": {},
   "source": [
    "Question 10:\n",
    "\n",
    "Employees NOT in Sales OR experience > 5\n",
    "\n",
    "Expected Output:\n",
    "['Sara', 'Raheel', 'Naveed', 'Ayesha', 'Sana', 'Hina']\n"
   ]
  },
  {
   "cell_type": "code",
   "execution_count": 13,
   "id": "4856cf4c-2141-4698-bb59-0b748b0b7034",
   "metadata": {},
   "outputs": [
    {
     "name": "stdout",
     "output_type": "stream",
     "text": [
      "['Sara', 'Raheel', 'Naveed', 'Ayesha', 'Sana', 'Hina']\n"
     ]
    }
   ],
   "source": [
    "# Q10:\n",
    "\n",
    "employees = [\n",
    "    {\"emp_id\": 1, \"name\": \"Ali\", \"dept\": \"Sales\", \"salary\": 50000, \"experience\": 2},\n",
    "    {\"emp_id\": 2, \"name\": \"Sara\", \"dept\": \"IT\", \"salary\": 65000, \"experience\": 5},\n",
    "    {\"emp_id\": 3, \"name\": \"Raheel\", \"dept\": \"HR\", \"salary\": 45000, \"experience\": 1},\n",
    "    {\"emp_id\": 4, \"name\": \"Naveed\", \"dept\": \"Finance\", \"salary\": 70000, \"experience\": 7},\n",
    "    {\"emp_id\": 5, \"name\": \"Ayesha\", \"dept\": \"IT\", \"salary\": 72000, \"experience\": 6},\n",
    "    {\"emp_id\": 6, \"name\": \"Talha\", \"dept\": \"Sales\", \"salary\": 55000, \"experience\": 3},\n",
    "    {\"emp_id\": 7, \"name\": \"Sana\", \"dept\": \"Finance\", \"salary\": 80000, \"experience\": 8},\n",
    "    {\"emp_id\": 8, \"name\": \"Hina\", \"dept\": \"HR\", \"salary\": 48000, \"experience\": 2},\n",
    "]\n",
    "\n",
    "result = [emp[\"name\"] for emp in employees if emp[\"dept\"] != \"Sales\" or emp[\"experience\"] > 5]\n",
    "\n",
    "print(result)\n"
   ]
  },
  {
   "cell_type": "code",
   "execution_count": null,
   "id": "e88a70e4-9bc7-4055-a000-d1e9d33231aa",
   "metadata": {},
   "outputs": [],
   "source": []
  }
 ],
 "metadata": {
  "kernelspec": {
   "display_name": "Python 3 (ipykernel)",
   "language": "python",
   "name": "python3"
  },
  "language_info": {
   "codemirror_mode": {
    "name": "ipython",
    "version": 3
   },
   "file_extension": ".py",
   "mimetype": "text/x-python",
   "name": "python",
   "nbconvert_exporter": "python",
   "pygments_lexer": "ipython3",
   "version": "3.12.7"
  }
 },
 "nbformat": 4,
 "nbformat_minor": 5
}
