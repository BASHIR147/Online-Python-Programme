{
 "cells": [
  {
   "cell_type": "code",
   "execution_count": 1,
   "id": "d7a6b089-bfd4-4ce0-8956-7b4f23ebda8a",
   "metadata": {},
   "outputs": [
    {
     "name": "stdout",
     "output_type": "stream",
     "text": [
      "10\n"
     ]
    }
   ],
   "source": [
    "# Write a Python function called add_numbers that takes two numbers as arguments and returns their sum. Then, test the function by calling it\n",
    "# with two numbers of your choice.\n",
    "\n",
    "def add_numbers(a, b):\n",
    "    return a + b\n",
    "    \n",
    "print(add_numbers(4, 6))"
   ]
  },
  {
   "cell_type": "code",
   "execution_count": 2,
   "id": "e11463c3-fa11-4373-95c9-d46ae9582237",
   "metadata": {},
   "outputs": [
    {
     "name": "stdout",
     "output_type": "stream",
     "text": [
      "3 vowels\n"
     ]
    }
   ],
   "source": [
    "# Q2. Write a Python function count_vowels that accepts a string and returns the number of vowels a, e, i, o, u, A, E, I, O, U in that string.\n",
    "\n",
    "# Example: 'Welcome'\n",
    "# Output: 3 vowels\n",
    "\n",
    "def count_vowels(s):\n",
    "    return len([c for c in s if c in 'aeiouAEIOU'])\n",
    "\n",
    "\n",
    "print(count_vowels('Welcome'), 'vowels')"
   ]
  },
  {
   "cell_type": "code",
   "execution_count": 3,
   "id": "d67da973-5ba1-472f-a0b4-daeaa8145f41",
   "metadata": {},
   "outputs": [
    {
     "name": "stdout",
     "output_type": "stream",
     "text": [
      "100 USD is equivalent to 28000 PKR\n"
     ]
    }
   ],
   "source": [
    "# Q3. Create a Python function called currency_converter() that takes two arguments:\n",
    "\n",
    "# amount: The amount of money to be converted (in USD).\n",
    "# exchange_rate (default is 280): The conversion rate from USD to another currency (e.g., PKR). You can assume the default rate \n",
    "# is 1 USD = 280 PKR.\n",
    "# The function should return a message showing how much the given amount is worth in the target currency (PKR).\n",
    "# Expected Output:\n",
    "\n",
    "# '100 USD is equivalent to 28000 PKR'\n",
    "\n",
    "def currency_converter(amount, exchange_rate=280):\n",
    "    result = amount * exchange_rate\n",
    "    return f\"{amount} USD is equivalent to {result} PKR\"\n",
    "\n",
    "print(currency_converter(100)) "
   ]
  },
  {
   "cell_type": "code",
   "execution_count": 4,
   "id": "422d7866-861b-4b9a-9c1f-4ffc2d7586a3",
   "metadata": {
    "scrolled": true
   },
   "outputs": [
    {
     "name": "stdout",
     "output_type": "stream",
     "text": [
      "Name: John Doe\n",
      "Age: 15\n",
      "Grade: 10th\n",
      "School: Greenwood High\n"
     ]
    }
   ],
   "source": [
    "# Q4. Write a Python function display_student_info that accepts the following details about a student:\n",
    "\n",
    "# name (Keyword argument): The name of the student.\n",
    "# age (Keyword argument): The age of the student.\n",
    "# grade (Keyword argument): The grade the student is in.\n",
    "# school (Keyword argument): The name of the school the student attends.\n",
    "# Expected Output:\n",
    "\n",
    "# Name: John Doe\n",
    "# Age: 15\n",
    "# Grade: 10th\n",
    "# School: Greenwood High\n",
    "\n",
    "\n",
    "\n",
    "def display_student_info(name, age, grade, school):\n",
    "    print(f\"Name: {name}\")\n",
    "    print(f\"Age: {age}\")\n",
    "    print(f\"Grade: {grade}\")\n",
    "    print(f\"School: {school}\")\n",
    "\n",
    "\n",
    "# Example usage\n",
    "display_student_info(\"John Doe\", 15, \"10th\", \"Greenwood High\")\n"
   ]
  },
  {
   "cell_type": "code",
   "execution_count": null,
   "id": "d0272d1e-f5d0-4bd5-b12e-abb850958516",
   "metadata": {},
   "outputs": [],
   "source": [
    "# Q5. Write a Python function calculate_price that accepts two positional arguments: price: The price of a single item. quantity: \n",
    "# The number of items bought. The function should return the total price by multiplying price and quantity.\n",
    "\n",
    "\n",
    "def calculate_price(price, quantity):\n",
    "    return price * quantity\n",
    "\n",
    "# Example usage\n",
    "print(calculate_price(100, 5))   \n",
    "print(calculate_price(250, 2))   "
   ]
  },
  {
   "cell_type": "code",
   "execution_count": 9,
   "id": "232a5c26-37bc-43ab-8994-f1e6404ea476",
   "metadata": {},
   "outputs": [
    {
     "name": "stdout",
     "output_type": "stream",
     "text": [
      "Product: Laptop\n",
      "\n",
      "Amazon: $800\n",
      "eBay: $750\n",
      "Walmart: $780\n"
     ]
    }
   ],
   "source": [
    "# Q6. Write a Python function display_prices that takes a product name and an arbitrary number of keyword arguments representing product prices. The function should display each product and its price.\n",
    "\n",
    "# Expected Output:\n",
    "\n",
    "# Product: Laptop\n",
    "\n",
    "# Amazon: $800\n",
    "\n",
    "# eBay: $750\n",
    "\n",
    "# Walmart: $780\n",
    "\n",
    "\n",
    "def display_prices(product, **prices):\n",
    "    print(f\"Product: {product}\\n\")\n",
    "    for store, price in prices.items():\n",
    "        print(f\"{store}: ${price}\")\n",
    "\n",
    "# Example usage\n",
    "display_prices(\n",
    "    \"Laptop\",\n",
    "    Amazon=800,\n",
    "    eBay=750,\n",
    "    Walmart=780\n",
    ")"
   ]
  },
  {
   "cell_type": "code",
   "execution_count": 10,
   "id": "fdc53edb-d0ae-4c4b-beb7-5ccb15c46b51",
   "metadata": {},
   "outputs": [
    {
     "name": "stdout",
     "output_type": "stream",
     "text": [
      "99\n",
      "8\n"
     ]
    }
   ],
   "source": [
    "# Q7. Write a Python function find_max that takes arbitrary number of positional arguments and returns the maximum \n",
    "# number.\n",
    "\n",
    "def find_max(*numbers):\n",
    "    return max(numbers)\n",
    "\n",
    "\n",
    "print(find_max(10, 25, 3, 99, 45))   \n",
    "print(find_max(7, 2, 8))             "
   ]
  },
  {
   "cell_type": "code",
   "execution_count": 11,
   "id": "bff0718b-9485-4a87-b08e-3e6667d25e39",
   "metadata": {},
   "outputs": [
    {
     "name": "stdout",
     "output_type": "stream",
     "text": [
      "Area: 15\n",
      "Perimeter: 16\n"
     ]
    }
   ],
   "source": [
    "# Q8.\n",
    "\n",
    "# Write a Python function calculate_rectangle that accepts the length and width of a rectangle as arguments. Inside this function, \n",
    "# create two nested functions:\n",
    "\n",
    "# calculate_area: This function should calculate the area of the rectangle.\n",
    "# calculate_perimeter: This function should calculate the perimeter of the rectangle.\n",
    "# The main function should return both the area and the perimeter of the rectangle.\n",
    "# Expected Output:\n",
    "\n",
    "# Area: 15\n",
    "\n",
    "# Perimeter: 16\n",
    "\n",
    "\n",
    "def calculate_rectangle(length, width):\n",
    "    \n",
    "    def calculate_area():\n",
    "        return length * width\n",
    "    \n",
    "    \n",
    "    def calculate_perimeter():\n",
    "        return 2 * (length + width)\n",
    "    \n",
    "    \n",
    "    return f\"Area: {calculate_area()}\\nPerimeter: {calculate_perimeter()}\"\n",
    "\n",
    "\n",
    "print(calculate_rectangle(5, 3))"
   ]
  },
  {
   "cell_type": "code",
   "execution_count": 12,
   "id": "e3415c49-3de4-46c3-887e-cbf5195cf9f2",
   "metadata": {},
   "outputs": [
    {
     "name": "stdout",
     "output_type": "stream",
     "text": [
      "Taxi fare for 10 km = 1000 PKR\n",
      "Taxi fare for 15 km = 1800 PKR\n"
     ]
    }
   ],
   "source": [
    "# Q9. Write a Python function taxi_fare(distance, rate=100) that calculates the taxi fare. The default rate is 100 PKR per km, but the user can also enter a custom rate.\n",
    "\n",
    "# FORMULA: distance * rate\n",
    "\n",
    "# Expected Output:\n",
    "\n",
    "# Taxi fare for 10 km = 1000 PKR (using default parameter)\n",
    "# Taxi fare for 15 km = 1800 PKR (custom rate)\n",
    "\n",
    "\n",
    "def taxi_fare(distance, rate=100):\n",
    "    return distance * rate\n",
    "\n",
    "# Using default rate\n",
    "print(f\"Taxi fare for 10 km = {taxi_fare(10)} PKR\")\n",
    "\n",
    "# Using custom rate\n",
    "print(f\"Taxi fare for 15 km = {taxi_fare(15, 120)} PKR\")"
   ]
  },
  {
   "cell_type": "code",
   "execution_count": 13,
   "id": "de38b2a7-42ef-4811-b288-4cf8511b8e64",
   "metadata": {},
   "outputs": [
    {
     "name": "stdout",
     "output_type": "stream",
     "text": [
      "Final Bill = 600 PKR\n",
      "Final Bill = 500 PKR\n"
     ]
    }
   ],
   "source": [
    "# Q10.\n",
    "\n",
    "# Write a Python function shopping_bill(price, quantity, discount=0) that uses nested functions:\n",
    "\n",
    "# An inner function calculate_total() → multiplies price * quantity.\n",
    "# An inner function apply_discount(total) → subtracts discount from total (but never below 0).\n",
    "# The outer function should return the final bill amount.\n",
    "\n",
    "# Expected Output:\n",
    "\n",
    "# Final Bill = 600 PKR (no discount)\n",
    "# Final Bill = 500 PKR (with discount)\n",
    "\n",
    "\n",
    "def shopping_bill(price, quantity, discount=0):\n",
    "    \n",
    "    def calculate_total():\n",
    "        return price * quantity\n",
    "    \n",
    "    \n",
    "    def apply_discount(total):\n",
    "        return max(total - discount, 0)   # never below 0\n",
    "    \n",
    "    total = calculate_total()\n",
    "    final_bill = apply_discount(total)\n",
    "    return final_bill\n",
    "\n",
    "\n",
    "print(f\"Final Bill = {shopping_bill(200, 3)} PKR\")         \n",
    "print(f\"Final Bill = {shopping_bill(200, 3, discount=100)} PKR\")  # with discoun\n"
   ]
  },
  {
   "cell_type": "code",
   "execution_count": null,
   "id": "203acd09-58a6-418b-84ca-2bc2cdcc9ed9",
   "metadata": {},
   "outputs": [],
   "source": []
  },
  {
   "cell_type": "code",
   "execution_count": null,
   "id": "ab090938-513e-451d-9c43-686b8b771a1e",
   "metadata": {},
   "outputs": [],
   "source": []
  },
  {
   "cell_type": "code",
   "execution_count": null,
   "id": "c9d54c97-b5bf-4418-b0a1-32becf16daec",
   "metadata": {},
   "outputs": [],
   "source": []
  },
  {
   "cell_type": "code",
   "execution_count": null,
   "id": "6cb0621f-027c-4580-9e53-1fc41b7bf916",
   "metadata": {},
   "outputs": [],
   "source": []
  },
  {
   "cell_type": "code",
   "execution_count": null,
   "id": "581a673a-643d-4447-a20d-28f0e9e7d676",
   "metadata": {},
   "outputs": [],
   "source": []
  },
  {
   "cell_type": "code",
   "execution_count": null,
   "id": "16aa2a7b-4d07-4071-836c-39767d65cc1b",
   "metadata": {},
   "outputs": [],
   "source": []
  },
  {
   "cell_type": "code",
   "execution_count": null,
   "id": "1e9496c5-eff0-4532-ba48-1cdab5402945",
   "metadata": {},
   "outputs": [],
   "source": []
  },
  {
   "cell_type": "code",
   "execution_count": null,
   "id": "ea62803f-da42-40e8-b86f-60a471981e14",
   "metadata": {},
   "outputs": [],
   "source": []
  },
  {
   "cell_type": "code",
   "execution_count": null,
   "id": "6c84d980-3099-402c-9dea-02e82a043f15",
   "metadata": {},
   "outputs": [],
   "source": []
  },
  {
   "cell_type": "code",
   "execution_count": null,
   "id": "6d5bc14c-2b60-4f4f-a0a5-a123c888e056",
   "metadata": {},
   "outputs": [],
   "source": []
  },
  {
   "cell_type": "code",
   "execution_count": null,
   "id": "a3c9f345-05fa-4b5c-933a-5046722d9dac",
   "metadata": {},
   "outputs": [],
   "source": []
  },
  {
   "cell_type": "code",
   "execution_count": null,
   "id": "306f1d8d-a633-4d2a-865a-c0baa465ad88",
   "metadata": {},
   "outputs": [],
   "source": []
  },
  {
   "cell_type": "code",
   "execution_count": null,
   "id": "b99fb2dc-36d0-4e87-96cf-fba8f29fa24b",
   "metadata": {},
   "outputs": [],
   "source": []
  },
  {
   "cell_type": "code",
   "execution_count": null,
   "id": "fcbf95f0-dc6b-425d-b457-a433f884630d",
   "metadata": {},
   "outputs": [],
   "source": []
  },
  {
   "cell_type": "code",
   "execution_count": null,
   "id": "aaf39eeb-dbce-4139-9564-2533bb449cec",
   "metadata": {},
   "outputs": [],
   "source": []
  },
  {
   "cell_type": "code",
   "execution_count": null,
   "id": "357f4372-2254-4896-8f9c-a734fb39c7e1",
   "metadata": {},
   "outputs": [],
   "source": []
  },
  {
   "cell_type": "code",
   "execution_count": null,
   "id": "3ba95850-1b6b-4bc9-a677-0778ddb98b53",
   "metadata": {},
   "outputs": [],
   "source": []
  },
  {
   "cell_type": "code",
   "execution_count": null,
   "id": "068dd48d-5329-4251-b184-2c012d5b35e7",
   "metadata": {},
   "outputs": [],
   "source": []
  },
  {
   "cell_type": "code",
   "execution_count": null,
   "id": "985ca250-ac7e-4cee-87d2-0b1ad39e578a",
   "metadata": {},
   "outputs": [],
   "source": []
  },
  {
   "cell_type": "code",
   "execution_count": null,
   "id": "cc4f90b0-9f93-4a1e-9063-ae62835e981c",
   "metadata": {},
   "outputs": [],
   "source": []
  },
  {
   "cell_type": "code",
   "execution_count": null,
   "id": "68cb7fa6-cea9-4e46-bcf7-12ca0c66a507",
   "metadata": {},
   "outputs": [],
   "source": []
  },
  {
   "cell_type": "code",
   "execution_count": null,
   "id": "dae4b920-55d5-4c02-a8ad-d785a61e29e0",
   "metadata": {},
   "outputs": [],
   "source": []
  },
  {
   "cell_type": "code",
   "execution_count": null,
   "id": "e86d8ca8-71df-41a9-848e-8e2f6f6c1b49",
   "metadata": {},
   "outputs": [],
   "source": []
  },
  {
   "cell_type": "code",
   "execution_count": null,
   "id": "5b31f524-3744-4984-b872-c67292279eb0",
   "metadata": {},
   "outputs": [],
   "source": []
  },
  {
   "cell_type": "code",
   "execution_count": null,
   "id": "27ffdc19-f6dc-40d4-ab26-e6ca36559730",
   "metadata": {},
   "outputs": [],
   "source": []
  },
  {
   "cell_type": "code",
   "execution_count": null,
   "id": "7b11fcb0-d44f-4bec-b84d-3a02addc54e3",
   "metadata": {},
   "outputs": [],
   "source": []
  },
  {
   "cell_type": "code",
   "execution_count": null,
   "id": "c5ca25fa-8dda-4f6f-94ea-2926282ff7ea",
   "metadata": {},
   "outputs": [],
   "source": []
  },
  {
   "cell_type": "code",
   "execution_count": null,
   "id": "c7a98909-7ce4-4598-a639-a72de7017d3f",
   "metadata": {},
   "outputs": [],
   "source": []
  },
  {
   "cell_type": "code",
   "execution_count": null,
   "id": "b13dda26-461d-4334-9f5e-11f420dcfb5f",
   "metadata": {},
   "outputs": [],
   "source": []
  },
  {
   "cell_type": "code",
   "execution_count": null,
   "id": "812f8a30-a484-4ea5-a7d7-1c6daa7b68d2",
   "metadata": {},
   "outputs": [],
   "source": []
  },
  {
   "cell_type": "code",
   "execution_count": null,
   "id": "ce214b6b-080c-452d-a1bc-527c708a6956",
   "metadata": {},
   "outputs": [],
   "source": []
  },
  {
   "cell_type": "code",
   "execution_count": null,
   "id": "39e44904-6ee0-4163-a825-1c6768e799c7",
   "metadata": {},
   "outputs": [],
   "source": []
  },
  {
   "cell_type": "code",
   "execution_count": null,
   "id": "02d484ad-282b-45c3-8318-dfc0bb93fc69",
   "metadata": {},
   "outputs": [],
   "source": []
  }
 ],
 "metadata": {
  "kernelspec": {
   "display_name": "Python 3 (ipykernel)",
   "language": "python",
   "name": "python3"
  },
  "language_info": {
   "codemirror_mode": {
    "name": "ipython",
    "version": 3
   },
   "file_extension": ".py",
   "mimetype": "text/x-python",
   "name": "python",
   "nbconvert_exporter": "python",
   "pygments_lexer": "ipython3",
   "version": "3.12.7"
  }
 },
 "nbformat": 4,
 "nbformat_minor": 5
}
